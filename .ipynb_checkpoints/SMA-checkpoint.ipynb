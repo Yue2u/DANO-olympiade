{
 "cells": [
  {
   "cell_type": "markdown",
   "metadata": {
    "id": "V0b7QCTxuV_D"
   },
   "source": [
    "# Подготовка данных"
   ]
  },
  {
   "cell_type": "code",
   "execution_count": 255,
   "metadata": {
    "executionInfo": {
     "elapsed": 239,
     "status": "ok",
     "timestamp": 1638041012735,
     "user": {
      "displayName": "Mary Z",
      "photoUrl": "https://lh3.googleusercontent.com/a-/AOh14Gi7Y7nP5iYG4WD2zQQRpviGH_5V22ij2UY20IT6GA=s64",
      "userId": "02233515503910995345"
     },
     "user_tz": -180
    },
    "id": "LFPJHJpzmoo0"
   },
   "outputs": [],
   "source": [
    "import pandas as pd \n",
    "import matplotlib.pyplot as plt\n",
    "import numpy as np\n",
    "\n",
    "df = pd.read_csv('kickstarter.csv')"
   ]
  },
  {
   "cell_type": "code",
   "execution_count": 256,
   "metadata": {
    "executionInfo": {
     "elapsed": 15,
     "status": "ok",
     "timestamp": 1638041013703,
     "user": {
      "displayName": "Mary Z",
      "photoUrl": "https://lh3.googleusercontent.com/a-/AOh14Gi7Y7nP5iYG4WD2zQQRpviGH_5V22ij2UY20IT6GA=s64",
      "userId": "02233515503910995345"
     },
     "user_tz": -180
    },
    "id": "KpPfq3OcnB_v"
   },
   "outputs": [],
   "source": [
    "df_2 = df.copy(deep=True)"
   ]
  },
  {
   "cell_type": "code",
   "execution_count": 257,
   "metadata": {
    "executionInfo": {
     "elapsed": 13,
     "status": "ok",
     "timestamp": 1638041013703,
     "user": {
      "displayName": "Mary Z",
      "photoUrl": "https://lh3.googleusercontent.com/a-/AOh14Gi7Y7nP5iYG4WD2zQQRpviGH_5V22ij2UY20IT6GA=s64",
      "userId": "02233515503910995345"
     },
     "user_tz": -180
    },
    "id": "0v_oFZe9nE2E"
   },
   "outputs": [],
   "source": [
    "df_2 = df_2[df_2['goal'] > 5]"
   ]
  },
  {
   "cell_type": "markdown",
   "metadata": {
    "id": "UtE-bbQxudXb"
   },
   "source": [
    "# SMA для количества картинок "
   ]
  },
  {
   "cell_type": "code",
   "execution_count": 258,
   "metadata": {
    "executionInfo": {
     "elapsed": 13,
     "status": "ok",
     "timestamp": 1638041013704,
     "user": {
      "displayName": "Mary Z",
      "photoUrl": "https://lh3.googleusercontent.com/a-/AOh14Gi7Y7nP5iYG4WD2zQQRpviGH_5V22ij2UY20IT6GA=s64",
      "userId": "02233515503910995345"
     },
     "user_tz": -180
    },
    "id": "3Ke6iHjCtheZ"
   },
   "outputs": [],
   "source": [
    "img_max = df_2['n_img'].max()\n",
    "# print(img_max)\n",
    "# максимальное количество картинок в проектах"
   ]
  },
  {
   "cell_type": "code",
   "execution_count": 259,
   "metadata": {
    "executionInfo": {
     "elapsed": 13,
     "status": "ok",
     "timestamp": 1638041013705,
     "user": {
      "displayName": "Mary Z",
      "photoUrl": "https://lh3.googleusercontent.com/a-/AOh14Gi7Y7nP5iYG4WD2zQQRpviGH_5V22ij2UY20IT6GA=s64",
      "userId": "02233515503910995345"
     },
     "user_tz": -180
    },
    "id": "LkWugYkUwAPt"
   },
   "outputs": [],
   "source": [
    "len_range = 3\n",
    "# длина диапозона n_img\n",
    "if x_max_for_analysis % len_range != 0:\n",
    "  num_of_ranges = x_max_for_analysis // len_range + 1\n",
    "else:\n",
    "  num_of_ranges = x_max_for_analysis // len_range\n",
    "# задаём количество диапозонов исследуемой переменной, полезно для оценки насколько подробным будет график\n",
    "# print(num_of_ranges) что-то лишнее записалось, на 1 больше диапазон по факту получилось,\n",
    "# потому num_of_ranges неверно показывает количество диапазонов"
   ]
  },
  {
   "cell_type": "code",
   "execution_count": 260,
   "metadata": {
    "executionInfo": {
     "elapsed": 13,
     "status": "ok",
     "timestamp": 1638041013706,
     "user": {
      "displayName": "Mary Z",
      "photoUrl": "https://lh3.googleusercontent.com/a-/AOh14Gi7Y7nP5iYG4WD2zQQRpviGH_5V22ij2UY20IT6GA=s64",
      "userId": "02233515503910995345"
     },
     "user_tz": -180
    },
    "id": "5Uifpg0lz-wc"
   },
   "outputs": [],
   "source": [
    "#for i in range(len(df_2[\"n_img\"])):\n",
    "  #k = df_2[\"n_img\"].iloc[i] // len_range\n",
    "  # номер диапазона в который попадёт проект\n",
    "  #num_games_in_range[k] = num_games_in_range[k] + 1\n",
    "#print(num_games_in_range)\n",
    "# тут возможно из-за i которое было раньше доведено до определённого большого значения поломалось и out of range получилось"
   ]
  },
  {
   "cell_type": "code",
   "execution_count": 261,
   "metadata": {
    "executionInfo": {
     "elapsed": 13,
     "status": "ok",
     "timestamp": 1638041013707,
     "user": {
      "displayName": "Mary Z",
      "photoUrl": "https://lh3.googleusercontent.com/a-/AOh14Gi7Y7nP5iYG4WD2zQQRpviGH_5V22ij2UY20IT6GA=s64",
      "userId": "02233515503910995345"
     },
     "user_tz": -180
    },
    "id": "PLPWpfNWBlFy"
   },
   "outputs": [],
   "source": [
    "#our_n_img = []\n",
    "#for m in range(0, len(df_2[\"n_img\"])):\n",
    "  #our_n_img.append(df_2['n_img'].iloc[m])\n",
    "#our_n_img = sorted(our_n_img)\n",
    "#df_3 = df_2.assign(sort_n_img=our_n_img)\n",
    "# казалось нужно будет отсортировать столбец n_img, в итоге df_3 зря использовано было"
   ]
  },
  {
   "cell_type": "code",
   "execution_count": 262,
   "metadata": {
    "colab": {
     "base_uri": "https://localhost:8080/",
     "height": 634
    },
    "executionInfo": {
     "elapsed": 720,
     "status": "ok",
     "timestamp": 1638041014415,
     "user": {
      "displayName": "Mary Z",
      "photoUrl": "https://lh3.googleusercontent.com/a-/AOh14Gi7Y7nP5iYG4WD2zQQRpviGH_5V22ij2UY20IT6GA=s64",
      "userId": "02233515503910995345"
     },
     "user_tz": -180
    },
    "id": "4PbpJYaQ6zNK",
    "outputId": "40cc9072-547a-4dc3-ec20-ccb5732817df"
   },
   "outputs": [
    {
     "data": {
      "text/html": [
       "<div>\n",
       "<style scoped>\n",
       "    .dataframe tbody tr th:only-of-type {\n",
       "        vertical-align: middle;\n",
       "    }\n",
       "\n",
       "    .dataframe tbody tr th {\n",
       "        vertical-align: top;\n",
       "    }\n",
       "\n",
       "    .dataframe thead th {\n",
       "        text-align: right;\n",
       "    }\n",
       "</style>\n",
       "<table border=\"1\" class=\"dataframe\">\n",
       "  <thead>\n",
       "    <tr style=\"text-align: right;\">\n",
       "      <th></th>\n",
       "      <th>Unnamed: 0</th>\n",
       "      <th>URL</th>\n",
       "      <th>pled</th>\n",
       "      <th>goal</th>\n",
       "      <th>date</th>\n",
       "      <th>period</th>\n",
       "      <th>status</th>\n",
       "      <th>text_am</th>\n",
       "      <th>n_img</th>\n",
       "      <th>n_vid</th>\n",
       "      <th>n_pled_t</th>\n",
       "      <th>min_pled_t</th>\n",
       "      <th>max_pled_t</th>\n",
       "      <th>mean_pled_t</th>\n",
       "      <th>step_pled_t</th>\n",
       "      <th>cr_time</th>\n",
       "      <th>backed</th>\n",
       "      <th>created</th>\n",
       "      <th>site</th>\n",
       "      <th>rpg</th>\n",
       "      <th>platformer</th>\n",
       "      <th>shooter</th>\n",
       "      <th>fighting</th>\n",
       "      <th>survival</th>\n",
       "      <th>horror</th>\n",
       "      <th>strategy</th>\n",
       "      <th>arcade</th>\n",
       "      <th>simulator</th>\n",
       "      <th>mmo</th>\n",
       "      <th>indie</th>\n",
       "      <th>action</th>\n",
       "      <th>quest</th>\n",
       "      <th>adventure</th>\n",
       "      <th>mgp</th>\n",
       "      <th>cont</th>\n",
       "      <th>curr</th>\n",
       "      <th>succsess</th>\n",
       "      <th>is_site</th>\n",
       "      <th>image_range</th>\n",
       "    </tr>\n",
       "  </thead>\n",
       "  <tbody>\n",
       "    <tr>\n",
       "      <th>0</th>\n",
       "      <td>8438</td>\n",
       "      <td>https://www.kickstarter.com/projects/577038691...</td>\n",
       "      <td>16.37</td>\n",
       "      <td>16368.00</td>\n",
       "      <td>2013-12-01</td>\n",
       "      <td>14</td>\n",
       "      <td>ended</td>\n",
       "      <td>355</td>\n",
       "      <td>7</td>\n",
       "      <td>0</td>\n",
       "      <td>8</td>\n",
       "      <td>1.64</td>\n",
       "      <td>8184.00</td>\n",
       "      <td>1206.321250</td>\n",
       "      <td>1168.908571</td>\n",
       "      <td>16</td>\n",
       "      <td>0</td>\n",
       "      <td>0</td>\n",
       "      <td>NaN</td>\n",
       "      <td>1</td>\n",
       "      <td>0</td>\n",
       "      <td>0</td>\n",
       "      <td>1</td>\n",
       "      <td>0</td>\n",
       "      <td>0</td>\n",
       "      <td>1</td>\n",
       "      <td>0</td>\n",
       "      <td>0</td>\n",
       "      <td>0</td>\n",
       "      <td>0</td>\n",
       "      <td>0</td>\n",
       "      <td>0</td>\n",
       "      <td>0</td>\n",
       "      <td>0.653856</td>\n",
       "      <td>0.276952</td>\n",
       "      <td>GBP</td>\n",
       "      <td>0</td>\n",
       "      <td>0</td>\n",
       "      <td>2</td>\n",
       "    </tr>\n",
       "    <tr>\n",
       "      <th>1</th>\n",
       "      <td>3182</td>\n",
       "      <td>https://www.kickstarter.com/projects/200047954...</td>\n",
       "      <td>124761.28</td>\n",
       "      <td>7278.02</td>\n",
       "      <td>2015-08-03</td>\n",
       "      <td>30</td>\n",
       "      <td>ended</td>\n",
       "      <td>2218</td>\n",
       "      <td>33</td>\n",
       "      <td>3</td>\n",
       "      <td>5</td>\n",
       "      <td>3.64</td>\n",
       "      <td>99.71</td>\n",
       "      <td>43.960000</td>\n",
       "      <td>24.017500</td>\n",
       "      <td>592</td>\n",
       "      <td>3</td>\n",
       "      <td>1</td>\n",
       "      <td>blackwake.com</td>\n",
       "      <td>0</td>\n",
       "      <td>0</td>\n",
       "      <td>1</td>\n",
       "      <td>0</td>\n",
       "      <td>0</td>\n",
       "      <td>0</td>\n",
       "      <td>1</td>\n",
       "      <td>0</td>\n",
       "      <td>0</td>\n",
       "      <td>0</td>\n",
       "      <td>0</td>\n",
       "      <td>1</td>\n",
       "      <td>0</td>\n",
       "      <td>0</td>\n",
       "      <td>6.105621</td>\n",
       "      <td>0.220415</td>\n",
       "      <td>AUD</td>\n",
       "      <td>1</td>\n",
       "      <td>1</td>\n",
       "      <td>11</td>\n",
       "    </tr>\n",
       "    <tr>\n",
       "      <th>2</th>\n",
       "      <td>7977</td>\n",
       "      <td>https://www.kickstarter.com/projects/85660245/...</td>\n",
       "      <td>1211.00</td>\n",
       "      <td>35000.00</td>\n",
       "      <td>2013-04-12</td>\n",
       "      <td>31</td>\n",
       "      <td>ended</td>\n",
       "      <td>3174</td>\n",
       "      <td>19</td>\n",
       "      <td>3</td>\n",
       "      <td>13</td>\n",
       "      <td>5.00</td>\n",
       "      <td>1000.00</td>\n",
       "      <td>312.692308</td>\n",
       "      <td>82.916667</td>\n",
       "      <td>253</td>\n",
       "      <td>2</td>\n",
       "      <td>0</td>\n",
       "      <td>swiftcreekgames.com</td>\n",
       "      <td>0</td>\n",
       "      <td>0</td>\n",
       "      <td>0</td>\n",
       "      <td>0</td>\n",
       "      <td>0</td>\n",
       "      <td>0</td>\n",
       "      <td>0</td>\n",
       "      <td>0</td>\n",
       "      <td>0</td>\n",
       "      <td>0</td>\n",
       "      <td>1</td>\n",
       "      <td>0</td>\n",
       "      <td>0</td>\n",
       "      <td>0</td>\n",
       "      <td>2.556285</td>\n",
       "      <td>0.289384</td>\n",
       "      <td>USD</td>\n",
       "      <td>0</td>\n",
       "      <td>1</td>\n",
       "      <td>6</td>\n",
       "    </tr>\n",
       "    <tr>\n",
       "      <th>3</th>\n",
       "      <td>1270</td>\n",
       "      <td>https://www.kickstarter.com/projects/193393221...</td>\n",
       "      <td>1.00</td>\n",
       "      <td>10000.00</td>\n",
       "      <td>2013-11-13</td>\n",
       "      <td>14</td>\n",
       "      <td>ended</td>\n",
       "      <td>110</td>\n",
       "      <td>0</td>\n",
       "      <td>0</td>\n",
       "      <td>3</td>\n",
       "      <td>25.00</td>\n",
       "      <td>1000.00</td>\n",
       "      <td>425.000000</td>\n",
       "      <td>487.500000</td>\n",
       "      <td>195</td>\n",
       "      <td>0</td>\n",
       "      <td>0</td>\n",
       "      <td>hobbisoft.com</td>\n",
       "      <td>1</td>\n",
       "      <td>0</td>\n",
       "      <td>0</td>\n",
       "      <td>0</td>\n",
       "      <td>0</td>\n",
       "      <td>0</td>\n",
       "      <td>0</td>\n",
       "      <td>0</td>\n",
       "      <td>0</td>\n",
       "      <td>0</td>\n",
       "      <td>0</td>\n",
       "      <td>0</td>\n",
       "      <td>0</td>\n",
       "      <td>0</td>\n",
       "      <td>0.000000</td>\n",
       "      <td>0.000000</td>\n",
       "      <td>USD</td>\n",
       "      <td>0</td>\n",
       "      <td>1</td>\n",
       "      <td>0</td>\n",
       "    </tr>\n",
       "    <tr>\n",
       "      <th>4</th>\n",
       "      <td>6312</td>\n",
       "      <td>https://www.kickstarter.com/projects/148102341...</td>\n",
       "      <td>5415.00</td>\n",
       "      <td>67000.00</td>\n",
       "      <td>2016-04-25</td>\n",
       "      <td>30</td>\n",
       "      <td>ended</td>\n",
       "      <td>3955</td>\n",
       "      <td>46</td>\n",
       "      <td>1</td>\n",
       "      <td>15</td>\n",
       "      <td>1.00</td>\n",
       "      <td>1000.00</td>\n",
       "      <td>165.866667</td>\n",
       "      <td>71.357143</td>\n",
       "      <td>20</td>\n",
       "      <td>3</td>\n",
       "      <td>0</td>\n",
       "      <td>stellartactics.com</td>\n",
       "      <td>1</td>\n",
       "      <td>0</td>\n",
       "      <td>0</td>\n",
       "      <td>1</td>\n",
       "      <td>0</td>\n",
       "      <td>0</td>\n",
       "      <td>1</td>\n",
       "      <td>0</td>\n",
       "      <td>0</td>\n",
       "      <td>0</td>\n",
       "      <td>0</td>\n",
       "      <td>1</td>\n",
       "      <td>0</td>\n",
       "      <td>1</td>\n",
       "      <td>5.987628</td>\n",
       "      <td>0.256332</td>\n",
       "      <td>USD</td>\n",
       "      <td>0</td>\n",
       "      <td>1</td>\n",
       "      <td>15</td>\n",
       "    </tr>\n",
       "    <tr>\n",
       "      <th>...</th>\n",
       "      <td>...</td>\n",
       "      <td>...</td>\n",
       "      <td>...</td>\n",
       "      <td>...</td>\n",
       "      <td>...</td>\n",
       "      <td>...</td>\n",
       "      <td>...</td>\n",
       "      <td>...</td>\n",
       "      <td>...</td>\n",
       "      <td>...</td>\n",
       "      <td>...</td>\n",
       "      <td>...</td>\n",
       "      <td>...</td>\n",
       "      <td>...</td>\n",
       "      <td>...</td>\n",
       "      <td>...</td>\n",
       "      <td>...</td>\n",
       "      <td>...</td>\n",
       "      <td>...</td>\n",
       "      <td>...</td>\n",
       "      <td>...</td>\n",
       "      <td>...</td>\n",
       "      <td>...</td>\n",
       "      <td>...</td>\n",
       "      <td>...</td>\n",
       "      <td>...</td>\n",
       "      <td>...</td>\n",
       "      <td>...</td>\n",
       "      <td>...</td>\n",
       "      <td>...</td>\n",
       "      <td>...</td>\n",
       "      <td>...</td>\n",
       "      <td>...</td>\n",
       "      <td>...</td>\n",
       "      <td>...</td>\n",
       "      <td>...</td>\n",
       "      <td>...</td>\n",
       "      <td>...</td>\n",
       "      <td>...</td>\n",
       "    </tr>\n",
       "    <tr>\n",
       "      <th>8416</th>\n",
       "      <td>8202</td>\n",
       "      <td>https://www.kickstarter.com/projects/501263634...</td>\n",
       "      <td>2246.00</td>\n",
       "      <td>7000.00</td>\n",
       "      <td>2014-03-11</td>\n",
       "      <td>60</td>\n",
       "      <td>ended</td>\n",
       "      <td>912</td>\n",
       "      <td>10</td>\n",
       "      <td>0</td>\n",
       "      <td>8</td>\n",
       "      <td>10.00</td>\n",
       "      <td>1000.00</td>\n",
       "      <td>366.875000</td>\n",
       "      <td>141.428571</td>\n",
       "      <td>191</td>\n",
       "      <td>0</td>\n",
       "      <td>1</td>\n",
       "      <td>regalcomputerservices.com</td>\n",
       "      <td>0</td>\n",
       "      <td>0</td>\n",
       "      <td>0</td>\n",
       "      <td>0</td>\n",
       "      <td>0</td>\n",
       "      <td>0</td>\n",
       "      <td>0</td>\n",
       "      <td>0</td>\n",
       "      <td>0</td>\n",
       "      <td>0</td>\n",
       "      <td>1</td>\n",
       "      <td>0</td>\n",
       "      <td>1</td>\n",
       "      <td>0</td>\n",
       "      <td>3.246320</td>\n",
       "      <td>0.220351</td>\n",
       "      <td>USD</td>\n",
       "      <td>0</td>\n",
       "      <td>1</td>\n",
       "      <td>3</td>\n",
       "    </tr>\n",
       "    <tr>\n",
       "      <th>8417</th>\n",
       "      <td>3125</td>\n",
       "      <td>https://www.kickstarter.com/projects/154070452...</td>\n",
       "      <td>18021.00</td>\n",
       "      <td>15000.00</td>\n",
       "      <td>2015-09-22</td>\n",
       "      <td>45</td>\n",
       "      <td>ended</td>\n",
       "      <td>1650</td>\n",
       "      <td>39</td>\n",
       "      <td>2</td>\n",
       "      <td>23</td>\n",
       "      <td>1.00</td>\n",
       "      <td>8000.00</td>\n",
       "      <td>733.434783</td>\n",
       "      <td>363.590909</td>\n",
       "      <td>146</td>\n",
       "      <td>21</td>\n",
       "      <td>1</td>\n",
       "      <td>ddt-games.com</td>\n",
       "      <td>0</td>\n",
       "      <td>0</td>\n",
       "      <td>0</td>\n",
       "      <td>0</td>\n",
       "      <td>0</td>\n",
       "      <td>0</td>\n",
       "      <td>0</td>\n",
       "      <td>0</td>\n",
       "      <td>0</td>\n",
       "      <td>0</td>\n",
       "      <td>0</td>\n",
       "      <td>0</td>\n",
       "      <td>0</td>\n",
       "      <td>0</td>\n",
       "      <td>8.707396</td>\n",
       "      <td>0.230234</td>\n",
       "      <td>USD</td>\n",
       "      <td>1</td>\n",
       "      <td>1</td>\n",
       "      <td>13</td>\n",
       "    </tr>\n",
       "    <tr>\n",
       "      <th>8418</th>\n",
       "      <td>322</td>\n",
       "      <td>https://www.kickstarter.com/projects/101642300...</td>\n",
       "      <td>14.00</td>\n",
       "      <td>10000.00</td>\n",
       "      <td>2016-02-17</td>\n",
       "      <td>30</td>\n",
       "      <td>ended</td>\n",
       "      <td>280</td>\n",
       "      <td>10</td>\n",
       "      <td>1</td>\n",
       "      <td>9</td>\n",
       "      <td>1.00</td>\n",
       "      <td>200.00</td>\n",
       "      <td>67.888889</td>\n",
       "      <td>24.875000</td>\n",
       "      <td>703</td>\n",
       "      <td>0</td>\n",
       "      <td>1</td>\n",
       "      <td>NaN</td>\n",
       "      <td>0</td>\n",
       "      <td>0</td>\n",
       "      <td>1</td>\n",
       "      <td>0</td>\n",
       "      <td>0</td>\n",
       "      <td>0</td>\n",
       "      <td>0</td>\n",
       "      <td>0</td>\n",
       "      <td>0</td>\n",
       "      <td>0</td>\n",
       "      <td>0</td>\n",
       "      <td>0</td>\n",
       "      <td>0</td>\n",
       "      <td>0</td>\n",
       "      <td>2.763008</td>\n",
       "      <td>0.328798</td>\n",
       "      <td>USD</td>\n",
       "      <td>0</td>\n",
       "      <td>0</td>\n",
       "      <td>3</td>\n",
       "    </tr>\n",
       "    <tr>\n",
       "      <th>8419</th>\n",
       "      <td>1098</td>\n",
       "      <td>https://www.kickstarter.com/projects/173840524...</td>\n",
       "      <td>82.88</td>\n",
       "      <td>3928.54</td>\n",
       "      <td>2014-05-31</td>\n",
       "      <td>31</td>\n",
       "      <td>ended</td>\n",
       "      <td>777</td>\n",
       "      <td>0</td>\n",
       "      <td>0</td>\n",
       "      <td>7</td>\n",
       "      <td>4.60</td>\n",
       "      <td>92.09</td>\n",
       "      <td>40.124286</td>\n",
       "      <td>14.581667</td>\n",
       "      <td>93</td>\n",
       "      <td>1</td>\n",
       "      <td>0</td>\n",
       "      <td>NaN</td>\n",
       "      <td>0</td>\n",
       "      <td>0</td>\n",
       "      <td>0</td>\n",
       "      <td>0</td>\n",
       "      <td>0</td>\n",
       "      <td>0</td>\n",
       "      <td>0</td>\n",
       "      <td>0</td>\n",
       "      <td>0</td>\n",
       "      <td>1</td>\n",
       "      <td>0</td>\n",
       "      <td>0</td>\n",
       "      <td>1</td>\n",
       "      <td>0</td>\n",
       "      <td>0.000000</td>\n",
       "      <td>0.000000</td>\n",
       "      <td>CAD</td>\n",
       "      <td>0</td>\n",
       "      <td>0</td>\n",
       "      <td>0</td>\n",
       "    </tr>\n",
       "    <tr>\n",
       "      <th>8420</th>\n",
       "      <td>599</td>\n",
       "      <td>https://www.kickstarter.com/projects/youmadbro...</td>\n",
       "      <td>568.18</td>\n",
       "      <td>1559.71</td>\n",
       "      <td>2015-06-30</td>\n",
       "      <td>30</td>\n",
       "      <td>ended</td>\n",
       "      <td>670</td>\n",
       "      <td>21</td>\n",
       "      <td>0</td>\n",
       "      <td>10</td>\n",
       "      <td>3.34</td>\n",
       "      <td>222.82</td>\n",
       "      <td>60.494000</td>\n",
       "      <td>24.386667</td>\n",
       "      <td>70</td>\n",
       "      <td>0</td>\n",
       "      <td>0</td>\n",
       "      <td>NaN</td>\n",
       "      <td>0</td>\n",
       "      <td>0</td>\n",
       "      <td>0</td>\n",
       "      <td>0</td>\n",
       "      <td>0</td>\n",
       "      <td>0</td>\n",
       "      <td>0</td>\n",
       "      <td>0</td>\n",
       "      <td>0</td>\n",
       "      <td>0</td>\n",
       "      <td>1</td>\n",
       "      <td>0</td>\n",
       "      <td>0</td>\n",
       "      <td>0</td>\n",
       "      <td>4.004428</td>\n",
       "      <td>0.216843</td>\n",
       "      <td>EUR</td>\n",
       "      <td>0</td>\n",
       "      <td>0</td>\n",
       "      <td>7</td>\n",
       "    </tr>\n",
       "  </tbody>\n",
       "</table>\n",
       "<p>8403 rows × 39 columns</p>\n",
       "</div>"
      ],
      "text/plain": [
       "      Unnamed: 0  ... image_range\n",
       "0           8438  ...           2\n",
       "1           3182  ...          11\n",
       "2           7977  ...           6\n",
       "3           1270  ...           0\n",
       "4           6312  ...          15\n",
       "...          ...  ...         ...\n",
       "8416        8202  ...           3\n",
       "8417        3125  ...          13\n",
       "8418         322  ...           3\n",
       "8419        1098  ...           0\n",
       "8420         599  ...           7\n",
       "\n",
       "[8403 rows x 39 columns]"
      ]
     },
     "execution_count": 262,
     "metadata": {},
     "output_type": "execute_result"
    }
   ],
   "source": [
    "def get_range(n, start, stop, step): # функция получения номера диапазона для конкретного значения n, где длина диапазона - step\n",
    "# start и stop - начало и конец всего отрезка значений\n",
    "    t = 0 # задаём номер первого диапазона\n",
    "    for i in range(start, stop, step): # i - первое возможное значение в определённом диапазоне, например, i будет равно 0, 5, 10 etc для step = 5\n",
    "        if n < i + step: # проверка на то, входит ли значение n в определённый диапазон или нет\n",
    "          return t # выход из функции с возвращением искомого номера диапазона, если n входит в этот диапазон\n",
    "        t += 1 # если в диапазон с номером t не входит значение n, смотрим следующий за t диапазон (то есть t+1)\n",
    "    return t # если что-то не влезло во время цикла - оно будет закинуто в последний (так как t после цикла максимальное) диапазон\n",
    "\n",
    "ranges = [] # список содержит номер диапазона каждого из проектов, длина списка - количество проектов\n",
    "\n",
    "for idx, row in df_2.iterrows(): # iterrows() возвращает индекс (idx) и значение строки (rows) датафрейма, т.о. перебираем построчно датафрейм\n",
    "  ranges.append(get_range(row[8], 0, img_max, len_range)) # добавляем в список номер диапазона для каждой строки т.е. каждого проекта\n",
    "  # row[8] - значение столбца с индексом 8 т.е. n_img конкретной строки\n",
    "ranges = pd.Series(ranges, dtype=int) # преобразование типа ranges из списка в Series чтобы добавить Series в датафрейм как столбец\n",
    "df_4 = df_2.assign(image_range=ranges.values) # значения Series с помощью .values получаем и заносим в новый столбец image_range\n",
    "df_4"
   ]
  },
  {
   "cell_type": "code",
   "execution_count": 263,
   "metadata": {
    "executionInfo": {
     "elapsed": 15,
     "status": "ok",
     "timestamp": 1638041014417,
     "user": {
      "displayName": "Mary Z",
      "photoUrl": "https://lh3.googleusercontent.com/a-/AOh14Gi7Y7nP5iYG4WD2zQQRpviGH_5V22ij2UY20IT6GA=s64",
      "userId": "02233515503910995345"
     },
     "user_tz": -180
    },
    "id": "csq7ZJjw9vdX"
   },
   "outputs": [],
   "source": [
    "success_rate = df_3['pled'] / df_3['goal'] \n",
    "df_4['success_rate'] = success_rate # добавляем столбец success_rate так как на графике по оси ординат будет среднее арифметическое success_rate"
   ]
  },
  {
   "cell_type": "code",
   "execution_count": 264,
   "metadata": {
    "executionInfo": {
     "elapsed": 16,
     "status": "ok",
     "timestamp": 1638041014420,
     "user": {
      "displayName": "Mary Z",
      "photoUrl": "https://lh3.googleusercontent.com/a-/AOh14Gi7Y7nP5iYG4WD2zQQRpviGH_5V22ij2UY20IT6GA=s64",
      "userId": "02233515503910995345"
     },
     "user_tz": -180
    },
    "id": "VrC8hWkCkKVq"
   },
   "outputs": [],
   "source": [
    "num_games_in_range = [0] * (df_4[\"image_range\"].max() + 1)\n",
    "# массив с количеством проектов в этом диапазоне\n",
    "sum_range = [0] * (df_4[\"image_range\"].max() + 1)\n",
    "# сумма success_rate проектов в этом диапазоне\n",
    "sma_range = [0] * (df_4[\"image_range\"].max() + 1)\n",
    "# среднее арифметическое (SMA) в этом диапазоне"
   ]
  },
  {
   "cell_type": "code",
   "execution_count": 265,
   "metadata": {
    "colab": {
     "base_uri": "https://localhost:8080/"
    },
    "executionInfo": {
     "elapsed": 981,
     "status": "ok",
     "timestamp": 1638041015386,
     "user": {
      "displayName": "Mary Z",
      "photoUrl": "https://lh3.googleusercontent.com/a-/AOh14Gi7Y7nP5iYG4WD2zQQRpviGH_5V22ij2UY20IT6GA=s64",
      "userId": "02233515503910995345"
     },
     "user_tz": -180
    },
    "id": "FTQsJHBTcFwa",
    "outputId": "3dc38011-be4d-4c32-8a12-e73a7a655436"
   },
   "outputs": [
    {
     "name": "stdout",
     "output_type": "stream",
     "text": [
      "[2617, 882, 724, 576, 501, 430, 366, 318, 307, 261, 237, 185, 165, 159, 127, 97, 94, 65, 66, 54, 35, 33, 22, 21, 15, 12, 6, 5, 5, 2, 0, 4, 4, 1, 0, 2, 2, 1, 1, 0, 0, 0, 0, 0, 0, 0, 0, 0, 0, 0, 0, 0, 0, 0, 0, 0, 0, 0, 1]\n"
     ]
    }
   ],
   "source": [
    "for f in range(0, len(df_4[\"n_img\"])): # перебор по всем проектам в датафрейме, от 0 на случай если f было раньше где-то использовано\n",
    "  this_range = df_4['image_range'].iloc[f] # переменная хранит номер диапазона конкретного проекта\n",
    "  num_games_in_range[this_range] += 1 # добавляем 1 к количеству проектов в определённом диапазоне\n",
    "print(num_games_in_range)"
   ]
  },
  {
   "cell_type": "code",
   "execution_count": 266,
   "metadata": {
    "colab": {
     "base_uri": "https://localhost:8080/"
    },
    "executionInfo": {
     "elapsed": 26,
     "status": "ok",
     "timestamp": 1638041015387,
     "user": {
      "displayName": "Mary Z",
      "photoUrl": "https://lh3.googleusercontent.com/a-/AOh14Gi7Y7nP5iYG4WD2zQQRpviGH_5V22ij2UY20IT6GA=s64",
      "userId": "02233515503910995345"
     },
     "user_tz": -180
    },
    "id": "7dGPivged03s",
    "outputId": "d82345bf-39cb-48dd-89e8-1757bb49cedd"
   },
   "outputs": [
    {
     "name": "stdout",
     "output_type": "stream",
     "text": [
      "[613.7749368936771, 612.7015443945345, 478.04681614198427, 373.0134358630565, 511.1069253567313, 468.582025461244, 874.9976522927307, 303.37409092756724, 656.0626256589233, 228.4674378266516, 194.81325624445222, 159.61378734671564, 165.11524271262903, 163.57268662467703, 115.13332071784045, 101.2704885497984, 105.33105162261315, 65.88594205928649, 74.2984206097231, 51.46192236983214, 32.18202846183942, 35.04890661044238, 20.40994120669833, 25.609314496853447, 11.815570279931897, 53.25758239895338, 35.198881577959575, 2.784272091594027, 22.800582, 2.2016233333333335, 0, 5.330908060264811, 7.097180874864764, 1.2097875, 0, 2.0469666375282047, 2.939454530445822, 1.6759692307692309, 1.0, 0, 0, 0, 0, 0, 0, 0, 0, 0, 0, 0, 0, 0, 0, 0, 0, 0, 0, 0, 0.03425]\n"
     ]
    }
   ],
   "source": [
    "for f in range(0, len(df_4[\"n_img\"])): # перебор по всем проектам в датафрейме, от 0 на случай если f было раньше где-то использовано\n",
    "  this_range = df_4['image_range'].iloc[f] # переменная хранит номер диапазона конкретного проекта\n",
    "  sum_range[this_range] += df_4['success_rate'].iloc[f] # суммируем success_rate всего диапазона с success_rate конкретного проекта\n",
    "print(sum_range)"
   ]
  },
  {
   "cell_type": "code",
   "execution_count": 267,
   "metadata": {
    "colab": {
     "base_uri": "https://localhost:8080/"
    },
    "executionInfo": {
     "elapsed": 20,
     "status": "ok",
     "timestamp": 1638041015388,
     "user": {
      "displayName": "Mary Z",
      "photoUrl": "https://lh3.googleusercontent.com/a-/AOh14Gi7Y7nP5iYG4WD2zQQRpviGH_5V22ij2UY20IT6GA=s64",
      "userId": "02233515503910995345"
     },
     "user_tz": -180
    },
    "id": "sPwSQh5XgYol",
    "outputId": "201cdafd-d24d-408f-c425-0fce3ed331a7"
   },
   "outputs": [
    {
     "name": "stdout",
     "output_type": "stream",
     "text": [
      "[0.2345337932341143, 0.6946729528282704, 0.6602856576546744, 0.6475927705955842, 1.0201735037060506, 1.0897256406075442, 2.390703968012925, 0.9540065752439222, 2.1370118099639193, 0.8753541679182054, 0.8219968617909377, 0.8627772289011656, 1.0006984406826, 1.0287590353753273, 0.9065615804554366, 1.0440256551525608, 1.1205431023682249, 1.0136298778351769, 1.1257336456018652, 0.9529985624042988, 0.9194865274811264, 1.0620880791043146, 0.9277246003044696, 1.2194911665168309, 0.7877046853287931, 4.4381318665794485, 5.866480262993263, 0.5568544183188054, 4.5601164, 1.1008116666666667, 0, 1.3327270150662027, 1.774295218716191, 1.2097875, 0, 1.0234833187641024, 1.469727265222911, 1.6759692307692309, 1.0, 0, 0, 0, 0, 0, 0, 0, 0, 0, 0, 0, 0, 0, 0, 0, 0, 0, 0, 0, 0.03425]\n"
     ]
    }
   ],
   "source": [
    "for f in range(0, df_4[\"image_range\"].max() + 1):\n",
    "  if num_games_in_range[f] == 0: # на 0 не делим\n",
    "    sma_range[f] = 0\n",
    "  else:\n",
    "    sma_range[f] = sum_range[f] / num_games_in_range[f]\n",
    "# вычисляем среднее арифметическое success_rate по диапазону - это SMA (простая скользящая средняя)\n",
    "print(sma_range)"
   ]
  },
  {
   "cell_type": "code",
   "execution_count": 268,
   "metadata": {
    "executionInfo": {
     "elapsed": 13,
     "status": "ok",
     "timestamp": 1638041015388,
     "user": {
      "displayName": "Mary Z",
      "photoUrl": "https://lh3.googleusercontent.com/a-/AOh14Gi7Y7nP5iYG4WD2zQQRpviGH_5V22ij2UY20IT6GA=s64",
      "userId": "02233515503910995345"
     },
     "user_tz": -180
    },
    "id": "lXZj1eWnmxg0"
   },
   "outputs": [],
   "source": [
    "in_x = [] # ось х заполняем значениями границ диапазонов\n",
    "k = 0\n",
    "while k <= img_max:\n",
    "  in_x.append(k)\n",
    "  k += len_range"
   ]
  },
  {
   "cell_type": "code",
   "execution_count": 269,
   "metadata": {
    "executionInfo": {
     "elapsed": 12,
     "status": "ok",
     "timestamp": 1638041015389,
     "user": {
      "displayName": "Mary Z",
      "photoUrl": "https://lh3.googleusercontent.com/a-/AOh14Gi7Y7nP5iYG4WD2zQQRpviGH_5V22ij2UY20IT6GA=s64",
      "userId": "02233515503910995345"
     },
     "user_tz": -180
    },
    "id": "u7EbjCQfop2t"
   },
   "outputs": [],
   "source": [
    "in_y = sma_range # задаём ось у значениями среднего арифметического в этом диапазоне"
   ]
  },
  {
   "cell_type": "code",
   "execution_count": 270,
   "metadata": {
    "colab": {
     "base_uri": "https://localhost:8080/",
     "height": 335
    },
    "executionInfo": {
     "elapsed": 12,
     "status": "ok",
     "timestamp": 1638041015389,
     "user": {
      "displayName": "Mary Z",
      "photoUrl": "https://lh3.googleusercontent.com/a-/AOh14Gi7Y7nP5iYG4WD2zQQRpviGH_5V22ij2UY20IT6GA=s64",
      "userId": "02233515503910995345"
     },
     "user_tz": -180
    },
    "id": "34KHh1EKpKXh",
    "outputId": "d1b0ac3e-afc5-4a63-8646-84859875d8fc"
   },
   "outputs": [
    {
     "data": {
      "image/png": "[encoded data removed]",
      "text/plain": [
       "<Figure size 720x360 with 1 Axes>"
      ]
     },
     "metadata": {
      "needs_background": "light"
     },
     "output_type": "display_data"
    }
   ],
   "source": [
    "plt.figure(figsize=(10, 5)) # устанавливаем размер графика - 5 * 10 дюймов\n",
    "plt.xlabel(\"граница диапазона для n_img\")\n",
    "# подписываем ось Х\n",
    "plt.ylabel(\"SMA в этом диапазоне\")\n",
    "# подписываем ось У\n",
    "plt.plot(in_x, in_y) # строим график с скользящей средней n_img\n",
    "plt.show()"
   ]
  },
  {
   "cell_type": "markdown",
   "metadata": {
    "id": "dHDmTCfluNgw"
   },
   "source": [
    "# SMA для количества слов"
   ]
  },
  {
   "cell_type": "code",
   "execution_count": 271,
   "metadata": {
    "executionInfo": {
     "elapsed": 10,
     "status": "ok",
     "timestamp": 1638041015390,
     "user": {
      "displayName": "Mary Z",
      "photoUrl": "https://lh3.googleusercontent.com/a-/AOh14Gi7Y7nP5iYG4WD2zQQRpviGH_5V22ij2UY20IT6GA=s64",
      "userId": "02233515503910995345"
     },
     "user_tz": -180
    },
    "id": "M66MWAK8uui-"
   },
   "outputs": [],
   "source": [
    "text_max = df_2['text_am'].max()\n",
    "# максимальное количество слов в проектах\n",
    "# print(text_max)"
   ]
  },
  {
   "cell_type": "code",
   "execution_count": 272,
   "metadata": {
    "executionInfo": {
     "elapsed": 10,
     "status": "ok",
     "timestamp": 1638041015391,
     "user": {
      "displayName": "Mary Z",
      "photoUrl": "https://lh3.googleusercontent.com/a-/AOh14Gi7Y7nP5iYG4WD2zQQRpviGH_5V22ij2UY20IT6GA=s64",
      "userId": "02233515503910995345"
     },
     "user_tz": -180
    },
    "id": "nJ4mt5eAqKCM"
   },
   "outputs": [],
   "source": [
    "len_range_2 = 100\n",
    "# длина диапозона text_am"
   ]
  },
  {
   "cell_type": "code",
   "execution_count": 273,
   "metadata": {
    "executionInfo": {
     "elapsed": 907,
     "status": "ok",
     "timestamp": 1638041016288,
     "user": {
      "displayName": "Mary Z",
      "photoUrl": "https://lh3.googleusercontent.com/a-/AOh14Gi7Y7nP5iYG4WD2zQQRpviGH_5V22ij2UY20IT6GA=s64",
      "userId": "02233515503910995345"
     },
     "user_tz": -180
    },
    "id": "QItYUaG0rtAk"
   },
   "outputs": [],
   "source": [
    "ranges_2 = [] # список содержит номер диапазона каждого из проектов, длина списка - количество проектов\n",
    "\n",
    "for idx, row in df_2.iterrows(): # iterrows() возвращает индекс (idx) и значение строки (rows) датафрейма, т.о. перебираем построчно датафрейм\n",
    "  ranges_2.append(get_range(row[7], 0, text_max, len_range_2)) # добавляем в список номер диапазона для каждой строки т.е. каждого проекта\n",
    "  # row[7] - значение столбца с индексом 7 т.е. text_am конкретной строки\n",
    "ranges_2 = pd.Series(ranges_2, dtype=int) # преобразование типа ranges_2 из списка в Series чтобы добавить Series в датафрейм как столбец\n",
    "df_4 = df_4.assign(text_range=ranges_2.values) # значения Series с помощью .values получаем и заносим в новый столбец text_range\n",
    "# df_4[\"text_range\"].max() проверка что количество диапазонов адекватное число"
   ]
  },
  {
   "cell_type": "code",
   "execution_count": 274,
   "metadata": {
    "executionInfo": {
     "elapsed": 28,
     "status": "ok",
     "timestamp": 1638041016289,
     "user": {
      "displayName": "Mary Z",
      "photoUrl": "https://lh3.googleusercontent.com/a-/AOh14Gi7Y7nP5iYG4WD2zQQRpviGH_5V22ij2UY20IT6GA=s64",
      "userId": "02233515503910995345"
     },
     "user_tz": -180
    },
    "id": "rZrvAnmHtkXp"
   },
   "outputs": [],
   "source": [
    "num_games_in_range_2 = [0] * (df_4[\"text_range\"].max() + 1)\n",
    "# массив с количеством проектов в этом диапазоне\n",
    "sum_range_2 = [0] * (df_4[\"text_range\"].max() + 1)\n",
    "# сумма success_rate проектов в этом диапазоне\n",
    "sma_range_2 = [0] * (df_4[\"text_range\"].max() + 1)\n",
    "# среднее арифметическое (SMA) в этом диапазоне"
   ]
  },
  {
   "cell_type": "code",
   "execution_count": 275,
   "metadata": {
    "colab": {
     "base_uri": "https://localhost:8080/"
    },
    "executionInfo": {
     "elapsed": 27,
     "status": "ok",
     "timestamp": 1638041016290,
     "user": {
      "displayName": "Mary Z",
      "photoUrl": "https://lh3.googleusercontent.com/a-/AOh14Gi7Y7nP5iYG4WD2zQQRpviGH_5V22ij2UY20IT6GA=s64",
      "userId": "02233515503910995345"
     },
     "user_tz": -180
    },
    "id": "mIgJ4Aq7uLOm",
    "outputId": "3657e7d0-1ded-4761-8ccc-678fa13b66dd"
   },
   "outputs": [
    {
     "name": "stdout",
     "output_type": "stream",
     "text": [
      "[197, 547, 610, 628, 550, 466, 455, 443, 387, 362, 338, 312, 285, 268, 244, 234, 220, 183, 178, 159, 156, 120, 101, 102, 106, 93, 61, 65, 71, 47, 56, 35, 30, 34, 30, 25, 28, 33, 20, 16, 25, 11, 13, 13, 13, 9, 6, 6, 2, 1, 3, 0, 1, 2, 0, 1, 0, 0, 0, 1, 1]\n"
     ]
    }
   ],
   "source": [
    "for f in range(0, len(df_4[\"text_am\"])): # перебор по всем проектам в датафрейме, от 0 на случай если f было раньше где-то использовано\n",
    "  this_range = df_4['text_range'].iloc[f] # переменная хранит номер диапазона конкретного проекта\n",
    "  num_games_in_range_2[this_range] += 1 # добавляем 1 к количеству проектов в определённом диапазоне\n",
    "print(num_games_in_range_2)"
   ]
  },
  {
   "cell_type": "code",
   "execution_count": 276,
   "metadata": {
    "colab": {
     "base_uri": "https://localhost:8080/"
    },
    "executionInfo": {
     "elapsed": 22,
     "status": "ok",
     "timestamp": 1638041016290,
     "user": {
      "displayName": "Mary Z",
      "photoUrl": "https://lh3.googleusercontent.com/a-/AOh14Gi7Y7nP5iYG4WD2zQQRpviGH_5V22ij2UY20IT6GA=s64",
      "userId": "02233515503910995345"
     },
     "user_tz": -180
    },
    "id": "3VtUGQEmvKXv",
    "outputId": "aa6ba7d4-4b27-493b-9b4e-b07d1500b500"
   },
   "outputs": [
    {
     "name": "stdout",
     "output_type": "stream",
     "text": [
      "[17.289804317261773, 80.15974458039997, 158.92407154823172, 181.34405282953674, 304.6395890865917, 299.15638638143804, 251.93128313108866, 828.7712935844288, 407.470930471729, 631.4894089634221, 268.1084242927531, 258.2401082874064, 248.8962646922673, 162.88578374196845, 218.55797335477624, 257.3402188246366, 168.63700046512827, 206.76618449210437, 138.55850199635483, 136.42845886214016, 129.5476965874454, 136.68637214404603, 91.98741512897703, 78.01525014751616, 85.45300071715464, 70.4178787516187, 70.38702495682736, 50.9208672266857, 98.3291726849847, 42.63883206397163, 52.32629986018205, 51.817702492703184, 19.966555191957838, 52.8156346896306, 40.43239474472535, 17.72096553644857, 26.873583456458583, 64.86801972174173, 32.961299617493545, 10.937696983419054, 20.899187045276165, 9.756757349037823, 39.68533248675912, 17.328886486531424, 22.056652794832893, 7.1756346380890905, 5.677474609584571, 5.447543736983217, 0.24124788047118184, 0.06659272574261321, 0.03955, 0, 0.12249975340033538, 0.022302946676775334, 0, 0.0174998501099962, 0, 0, 0, 2.0054998828788066e-05, 0.0305]\n"
     ]
    }
   ],
   "source": [
    "for f in range(0, len(df_4[\"text_am\"])): # перебор по всем проектам в датафрейме, от 0 на случай если f было раньше где-то использовано\n",
    "  this_range = df_4['text_range'].iloc[f] # переменная хранит номер диапазона конкретного проекта\n",
    "  sum_range_2[this_range] += df_4['success_rate'].iloc[f] # суммируем success_rate всего диапазона с success_rate конкретного проекта\n",
    "print(sum_range_2)"
   ]
  },
  {
   "cell_type": "code",
   "execution_count": 277,
   "metadata": {
    "colab": {
     "base_uri": "https://localhost:8080/"
    },
    "executionInfo": {
     "elapsed": 17,
     "status": "ok",
     "timestamp": 1638041016291,
     "user": {
      "displayName": "Mary Z",
      "photoUrl": "https://lh3.googleusercontent.com/a-/AOh14Gi7Y7nP5iYG4WD2zQQRpviGH_5V22ij2UY20IT6GA=s64",
      "userId": "02233515503910995345"
     },
     "user_tz": -180
    },
    "id": "LLw1xK_FvgtS",
    "outputId": "880edd20-f112-4841-804b-6c3e74cbc554"
   },
   "outputs": [
    {
     "name": "stdout",
     "output_type": "stream",
     "text": [
      "[0.08776550414853691, 0.1465443228160877, 0.26053126483316674, 0.2887644153336572, 0.5538901619756212, 0.6419664943807684, 0.5536951277606345, 1.8708155611386654, 1.0528964611672584, 1.7444458811144257, 0.7932201902152459, 0.8276926547673281, 0.8733202269904116, 0.6077827751565987, 0.8957293989949846, 1.0997445248916096, 0.7665318202960376, 1.129869860612592, 0.7784185505413193, 0.8580406217744664, 0.8304339524836243, 1.1390531012003835, 0.9107664864255152, 0.7648553936030996, 0.8061603841241004, 0.7571814919528893, 1.1538856550299568, 0.7833979573336262, 1.3849179251406296, 0.9072091928504602, 0.9343982117889651, 1.4805057855058052, 0.6655518397319279, 1.5534010202832529, 1.347746491490845, 0.7088386214579429, 0.9597708377306636, 1.965697567325507, 1.6480649808746772, 0.6836060614636909, 0.8359674818110466, 0.8869779408216203, 3.0527178835968556, 1.332991268194725, 1.6966655996025302, 0.7972927375654545, 0.9462457682640952, 0.9079239561638696, 0.12062394023559092, 0.06659272574261321, 0.013183333333333333, 0, 0.12249975340033538, 0.011151473338387667, 0, 0.0174998501099962, 0, 0, 0, 2.0054998828788066e-05, 0.0305]\n"
     ]
    }
   ],
   "source": [
    "for f in range(0, df_4[\"text_range\"].max() + 1):\n",
    "  if num_games_in_range_2[f] == 0: # на 0 не делим\n",
    "    sma_range_2[f] = 0\n",
    "  else:\n",
    "    sma_range_2[f] = sum_range_2[f] / num_games_in_range_2[f]\n",
    "# вычисляем среднее арифметическое success_rate по диапазону - это SMA (простая скользящая средняя)\n",
    "print(sma_range_2)"
   ]
  },
  {
   "cell_type": "code",
   "execution_count": 278,
   "metadata": {
    "executionInfo": {
     "elapsed": 10,
     "status": "ok",
     "timestamp": 1638041016291,
     "user": {
      "displayName": "Mary Z",
      "photoUrl": "https://lh3.googleusercontent.com/a-/AOh14Gi7Y7nP5iYG4WD2zQQRpviGH_5V22ij2UY20IT6GA=s64",
      "userId": "02233515503910995345"
     },
     "user_tz": -180
    },
    "id": "mCtfQzKNwMKz"
   },
   "outputs": [],
   "source": [
    "in_x_2 = [] # ось х заполняем значениями границ диапазонов\n",
    "k = 0\n",
    "while k <= text_max:\n",
    "  in_x_2.append(k)\n",
    "  k += len_range_2"
   ]
  },
  {
   "cell_type": "code",
   "execution_count": 279,
   "metadata": {
    "executionInfo": {
     "elapsed": 10,
     "status": "ok",
     "timestamp": 1638041016292,
     "user": {
      "displayName": "Mary Z",
      "photoUrl": "https://lh3.googleusercontent.com/a-/AOh14Gi7Y7nP5iYG4WD2zQQRpviGH_5V22ij2UY20IT6GA=s64",
      "userId": "02233515503910995345"
     },
     "user_tz": -180
    },
    "id": "CzosjQZdwbUL"
   },
   "outputs": [],
   "source": [
    "in_y_2 = sma_range_2 # задаём ось у значениями среднего арифметического в этом диапазоне"
   ]
  },
  {
   "cell_type": "code",
   "execution_count": 280,
   "metadata": {
    "colab": {
     "base_uri": "https://localhost:8080/",
     "height": 334
    },
    "executionInfo": {
     "elapsed": 508,
     "status": "ok",
     "timestamp": 1638041017868,
     "user": {
      "displayName": "Mary Z",
      "photoUrl": "https://lh3.googleusercontent.com/a-/AOh14Gi7Y7nP5iYG4WD2zQQRpviGH_5V22ij2UY20IT6GA=s64",
      "userId": "02233515503910995345"
     },
     "user_tz": -180
    },
    "id": "tPelD3BywijN",
    "outputId": "97e6ed04-2205-4874-ee25-6c3d0cd964d4"
   },
   "outputs": [
    {
     "data": {
      "image/png": "[encoded data removed]",
      "text/plain": [
       "<Figure size 720x360 with 1 Axes>"
      ]
     },
     "metadata": {
      "needs_background": "light"
     },
     "output_type": "display_data"
    }
   ],
   "source": [
    "plt.figure(figsize=(10, 5)) # устанавливаем размер графика - 5 * 10 дюймов\n",
    "plt.xlabel(\"граница диапазона для text_am\")\n",
    "# подписываем ось Х\n",
    "plt.ylabel(\"SMA в этом диапазоне\")\n",
    "# подписываем ось У\n",
    "plt.plot(in_x_2, in_y_2) # строим график с скользящей средней text_am\n",
    "plt.show()"
   ]
  }
 ],
 "metadata": {
  "colab": {
   "authorship_tag": "ABX9TyP38EaFf9YsVMQzYwcU+HnL",
   "collapsed_sections": [
    "V0b7QCTxuV_D"
   ],
   "name": "SMA.ipynb",
   "provenance": []
  },
  "kernelspec": {
   "display_name": "Python 3 (ipykernel)",
   "language": "python",
   "name": "python3"
  },
  "language_info": {
   "codemirror_mode": {
    "name": "ipython",
    "version": 3
   },
   "file_extension": ".py",
   "mimetype": "text/x-python",
   "name": "python",
   "nbconvert_exporter": "python",
   "pygments_lexer": "ipython3",
   "version": "3.8.11"
  }
 },
 "nbformat": 4,
 "nbformat_minor": 1
}
