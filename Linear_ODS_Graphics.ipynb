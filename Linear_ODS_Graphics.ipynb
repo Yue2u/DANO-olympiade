{
  "nbformat": 4,
  "nbformat_minor": 0,
  "metadata": {
    "colab": {
      "name": "Linear ODS.ipynb",
      "provenance": [],
      "collapsed_sections": []
    },
    "kernelspec": {
      "name": "python3",
      "display_name": "Python 3"
    },
    "language_info": {
      "name": "python"
    }
  },
  "cells": [
    {
      "cell_type": "code",
      "source": [
        "import pandas as pd\n",
        "from sklearn.linear_model import LinearRegression, Lasso, Ridge, ElasticNet\n",
        "from sklearn.metrics import mean_squared_error\n",
        "from sklearn.preprocessing import StandardScaler\n",
        "from sklearn.model_selection import cross_validate, train_test_split\n",
        "import numpy as np\n",
        "from matplotlib import pyplot as plt\n",
        "from pandas import DataFrame\n",
        "from scipy.stats import mannwhitneyu\n",
        "import statsmodels.api as sm"
      ],
      "metadata": {
        "id": "4croorZymSI9"
      },
      "execution_count": 786,
      "outputs": []
    },
    {
      "cell_type": "code",
      "source": [
        "def del_n_sigmas_emissions(df, col_names, n_sigmas=3) -> DataFrame:\n",
        "    sigmas = []\n",
        "    means = []\n",
        "    for col_name in col_names:\n",
        "        sigmas.append(df[col_name].std())\n",
        "        means.append(df[col_name].mean())\n",
        "    \n",
        "    for col_name, mean, std in zip(col_names, means, sigmas):\n",
        "        df = df[(df[col_name] >= mean - std * n_sigmas) & (df[col_name] <= mean + std * n_sigmas)]\n",
        "        #print(f'{col_name}: {len_was - df.shape[0]} lines deleted')\n",
        "    return df    "
      ],
      "metadata": {
        "id": "SRWsFl86mnoQ"
      },
      "execution_count": 787,
      "outputs": []
    },
    {
      "cell_type": "code",
      "source": [
        "def get_prerocessed_data():\n",
        "    # Remove emissions\n",
        "    #df['site'].fillna('', inplace=True)\n",
        "    df = pd.read_csv(\"kickstarter.csv\")\n",
        "    df['success_rate'] = df['pled'] / df['goal'] * 100\n",
        "    #print(f'Shape was: {df.shape[0]}')\n",
        "    # Using 3 sigmas rule\n",
        "    #len_was = df.shape[0]\n",
        "    df = df[df['goal'] > 15]\n",
        "    #print('goal < 15:', len_was - df.shape[0])\n",
        "    df = del_n_sigmas_emissions(df, ['success_rate', 'created', 'mgp', 'n_img', 'text_am', 'period', 'goal', 'n_pled_t'])\n",
        "    \n",
        "    return df \n",
        "\n",
        "df = get_prerocessed_data()"
      ],
      "metadata": {
        "id": "lRspGOyzkOed"
      },
      "execution_count": 788,
      "outputs": []
    },
    {
      "cell_type": "code",
      "source": [
        "df[\"text_am_2\"] = df[\"text_am\"] ** 2\n",
        "df[\"n_img_2\"] = df[\"n_img\"] ** 2\n",
        "df[\"n_vid_2\"] = df[\"n_vid\"] ** 2\n",
        "df[\"created_2\"] = df[\"created\"] ** 2\n",
        "df[\"cont_2\"] = df[\"cont\"] ** 2\n",
        "df[\"mgp_2\"] = df[\"mgp\"] ** 2\n",
        "df[\"n_pled_t_2\"] = df[\"n_pled_t\"] ** 2\n",
        "df[\"period_2\"] = df[\"period\"] ** 2\n",
        "df[\"step_pled_t_2\"] = df[\"step_pled_t\"] ** 2\n",
        "df[\"goal_2\"] = df[\"goal\"] ** 2\n",
        "df[\"backed_2\"] = df[\"backed\"] ** 2\n",
        "df['bias'] = np.ones((df.shape[0]))"
      ],
      "metadata": {
        "id": "Ju310sLih29R"
      },
      "execution_count": 789,
      "outputs": []
    },
    {
      "cell_type": "code",
      "source": [
        "our = [\n",
        "# 'pled',\n",
        "  #'goal',\n",
        "  #'period',\n",
        "  'text_am',\n",
        "# 'n_img', # VIF\n",
        "  'n_vid',\n",
        "  'n_pled_t',\n",
        "# 'min_pled_t', # P-val\n",
        "# 'max_pled_t', # VIF\n",
        "# 'mean_pled_t', # VIF\n",
        "  'step_pled_t', # P-val\n",
        "# 'cr_time', # p-val\n",
        " \"text_am_2\",\n",
        "  'backed',\n",
        "  'created',\n",
        "  'mgp',\"n_vid_2\", \"cont\",\"mgp_2\"]\n",
        "  #\"cont\",\"mgp_2\",\"cont_2\"]\n",
        "binary_columns = ['rpg',\n",
        "# 'platformer', # p-val\n",
        "  'shooter',\n",
        "# 'fighting', # p-val\n",
        "# 'survival', # p-val\n",
        "  'horror',\n",
        "  'strategy',\n",
        "# 'arcade', # p-val\n",
        "# 'simulator', # p-val\n",
        "  'mmo',\n",
        "  'indie',\n",
        "  'action',\n",
        "# 'quest', # p-val\n",
        "# 'adventure', # p-val\n",
        "  'is_site']\n",
        "result = our"
      ],
      "metadata": {
        "id": "1rx_SWTX573Z"
      },
      "execution_count": 790,
      "outputs": []
    },
    {
      "cell_type": "code",
      "source": [
        "X = df[result]\n",
        "Y = df[\"success_rate\"]\n",
        "\n",
        "scaler = StandardScaler()\n",
        "\n",
        "X_train, X_test, Y_train, Y_test = train_test_split(X, Y, \n",
        "                                                    train_size=0.8, \n",
        "                                                    random_state=42)\n",
        "\n",
        "train_data = scaler.fit_transform(X_train)\n",
        "test_x_data = scaler.transform(X_test)\n",
        "test_y_data = Y_test"
      ],
      "metadata": {
        "id": "RXX1cOBjiKbv"
      },
      "execution_count": 791,
      "outputs": []
    },
    {
      "cell_type": "code",
      "source": [
        "ols = sm.OLS(df['success_rate'], df[result])\n",
        "res = ols.fit()\n",
        "\n",
        "results_as_html = res.summary().tables[1].as_html()\n",
        "summary_df = pd.read_html(results_as_html, header=0, index_col=0)[0]\n",
        "res.summary()\n",
        "\n",
        "# p-value для min_pled_t = 0,4 > 0.05\n",
        "# p-value для mean_pled_t = 0,77 > 0.05\n",
        "# p-value для step_pled_t = 0,2 > 0.05\n",
        "# p-value для cr_time = 0,07 > 0.05"
      ],
      "metadata": {
        "colab": {
          "base_uri": "https://localhost:8080/",
          "height": 679
        },
        "id": "kgrhY-3-iOin",
        "outputId": "bc7890e4-f1db-44f0-86f5-2191428ccafa"
      },
      "execution_count": 792,
      "outputs": [
        {
          "output_type": "execute_result",
          "data": {
            "text/html": [
              "<table class=\"simpletable\">\n",
              "<caption>OLS Regression Results</caption>\n",
              "<tr>\n",
              "  <th>Dep. Variable:</th>      <td>success_rate</td>   <th>  R-squared (uncentered):</th>      <td>   0.380</td> \n",
              "</tr>\n",
              "<tr>\n",
              "  <th>Model:</th>                   <td>OLS</td>       <th>  Adj. R-squared (uncentered):</th> <td>   0.379</td> \n",
              "</tr>\n",
              "<tr>\n",
              "  <th>Method:</th>             <td>Least Squares</td>  <th>  F-statistic:       </th>          <td>   427.1</td> \n",
              "</tr>\n",
              "<tr>\n",
              "  <th>Date:</th>             <td>Fri, 17 Dec 2021</td> <th>  Prob (F-statistic):</th>           <td>  0.00</td>  \n",
              "</tr>\n",
              "<tr>\n",
              "  <th>Time:</th>                 <td>18:48:01</td>     <th>  Log-Likelihood:    </th>          <td> -43924.</td> \n",
              "</tr>\n",
              "<tr>\n",
              "  <th>No. Observations:</th>      <td>  7669</td>      <th>  AIC:               </th>          <td>8.787e+04</td>\n",
              "</tr>\n",
              "<tr>\n",
              "  <th>Df Residuals:</th>          <td>  7658</td>      <th>  BIC:               </th>          <td>8.795e+04</td>\n",
              "</tr>\n",
              "<tr>\n",
              "  <th>Df Model:</th>              <td>    11</td>      <th>                     </th>              <td> </td>    \n",
              "</tr>\n",
              "<tr>\n",
              "  <th>Covariance Type:</th>      <td>nonrobust</td>    <th>                     </th>              <td> </td>    \n",
              "</tr>\n",
              "</table>\n",
              "<table class=\"simpletable\">\n",
              "<tr>\n",
              "       <td></td>          <th>coef</th>     <th>std err</th>      <th>t</th>      <th>P>|t|</th>  <th>[0.025</th>    <th>0.975]</th>  \n",
              "</tr>\n",
              "<tr>\n",
              "  <th>text_am</th>     <td>    0.0052</td> <td>    0.004</td> <td>    1.442</td> <td> 0.149</td> <td>   -0.002</td> <td>    0.012</td>\n",
              "</tr>\n",
              "<tr>\n",
              "  <th>n_vid</th>       <td>   41.5511</td> <td>    1.387</td> <td>   29.957</td> <td> 0.000</td> <td>   38.832</td> <td>   44.270</td>\n",
              "</tr>\n",
              "<tr>\n",
              "  <th>n_pled_t</th>    <td>    0.7929</td> <td>    0.209</td> <td>    3.797</td> <td> 0.000</td> <td>    0.384</td> <td>    1.202</td>\n",
              "</tr>\n",
              "<tr>\n",
              "  <th>step_pled_t</th> <td>   -0.0146</td> <td>    0.002</td> <td>   -6.508</td> <td> 0.000</td> <td>   -0.019</td> <td>   -0.010</td>\n",
              "</tr>\n",
              "<tr>\n",
              "  <th>text_am_2</th>   <td>-1.383e-06</td> <td> 1.05e-06</td> <td>   -1.315</td> <td> 0.189</td> <td>-3.44e-06</td> <td> 6.79e-07</td>\n",
              "</tr>\n",
              "<tr>\n",
              "  <th>backed</th>      <td>    0.3970</td> <td>    0.086</td> <td>    4.618</td> <td> 0.000</td> <td>    0.228</td> <td>    0.565</td>\n",
              "</tr>\n",
              "<tr>\n",
              "  <th>created</th>     <td>   10.8310</td> <td>    1.934</td> <td>    5.601</td> <td> 0.000</td> <td>    7.040</td> <td>   14.622</td>\n",
              "</tr>\n",
              "<tr>\n",
              "  <th>mgp</th>         <td>    2.3819</td> <td>    0.968</td> <td>    2.461</td> <td> 0.014</td> <td>    0.485</td> <td>    4.279</td>\n",
              "</tr>\n",
              "<tr>\n",
              "  <th>n_vid_2</th>     <td>   -4.4822</td> <td>    0.213</td> <td>  -21.024</td> <td> 0.000</td> <td>   -4.900</td> <td>   -4.064</td>\n",
              "</tr>\n",
              "<tr>\n",
              "  <th>cont</th>        <td>   51.5522</td> <td>    7.410</td> <td>    6.957</td> <td> 0.000</td> <td>   37.027</td> <td>   66.078</td>\n",
              "</tr>\n",
              "<tr>\n",
              "  <th>mgp_2</th>       <td>   -0.1932</td> <td>    0.078</td> <td>   -2.476</td> <td> 0.013</td> <td>   -0.346</td> <td>   -0.040</td>\n",
              "</tr>\n",
              "</table>\n",
              "<table class=\"simpletable\">\n",
              "<tr>\n",
              "  <th>Omnibus:</th>       <td>5645.878</td> <th>  Durbin-Watson:     </th>  <td>   2.015</td> \n",
              "</tr>\n",
              "<tr>\n",
              "  <th>Prob(Omnibus):</th>  <td> 0.000</td>  <th>  Jarque-Bera (JB):  </th> <td>116520.946</td>\n",
              "</tr>\n",
              "<tr>\n",
              "  <th>Skew:</th>           <td> 3.363</td>  <th>  Prob(JB):          </th>  <td>    0.00</td> \n",
              "</tr>\n",
              "<tr>\n",
              "  <th>Kurtosis:</th>       <td>20.872</td>  <th>  Cond. No.          </th>  <td>2.61e+07</td> \n",
              "</tr>\n",
              "</table><br/><br/>Warnings:<br/>[1] Standard Errors assume that the covariance matrix of the errors is correctly specified.<br/>[2] The condition number is large, 2.61e+07. This might indicate that there are<br/>strong multicollinearity or other numerical problems."
            ],
            "text/plain": [
              "<class 'statsmodels.iolib.summary.Summary'>\n",
              "\"\"\"\n",
              "                                 OLS Regression Results                                \n",
              "=======================================================================================\n",
              "Dep. Variable:           success_rate   R-squared (uncentered):                   0.380\n",
              "Model:                            OLS   Adj. R-squared (uncentered):              0.379\n",
              "Method:                 Least Squares   F-statistic:                              427.1\n",
              "Date:                Fri, 17 Dec 2021   Prob (F-statistic):                        0.00\n",
              "Time:                        18:48:01   Log-Likelihood:                         -43924.\n",
              "No. Observations:                7669   AIC:                                  8.787e+04\n",
              "Df Residuals:                    7658   BIC:                                  8.795e+04\n",
              "Df Model:                          11                                                  \n",
              "Covariance Type:            nonrobust                                                  \n",
              "===============================================================================\n",
              "                  coef    std err          t      P>|t|      [0.025      0.975]\n",
              "-------------------------------------------------------------------------------\n",
              "text_am         0.0052      0.004      1.442      0.149      -0.002       0.012\n",
              "n_vid          41.5511      1.387     29.957      0.000      38.832      44.270\n",
              "n_pled_t        0.7929      0.209      3.797      0.000       0.384       1.202\n",
              "step_pled_t    -0.0146      0.002     -6.508      0.000      -0.019      -0.010\n",
              "text_am_2   -1.383e-06   1.05e-06     -1.315      0.189   -3.44e-06    6.79e-07\n",
              "backed          0.3970      0.086      4.618      0.000       0.228       0.565\n",
              "created        10.8310      1.934      5.601      0.000       7.040      14.622\n",
              "mgp             2.3819      0.968      2.461      0.014       0.485       4.279\n",
              "n_vid_2        -4.4822      0.213    -21.024      0.000      -4.900      -4.064\n",
              "cont           51.5522      7.410      6.957      0.000      37.027      66.078\n",
              "mgp_2          -0.1932      0.078     -2.476      0.013      -0.346      -0.040\n",
              "==============================================================================\n",
              "Omnibus:                     5645.878   Durbin-Watson:                   2.015\n",
              "Prob(Omnibus):                  0.000   Jarque-Bera (JB):           116520.946\n",
              "Skew:                           3.363   Prob(JB):                         0.00\n",
              "Kurtosis:                      20.872   Cond. No.                     2.61e+07\n",
              "==============================================================================\n",
              "\n",
              "Warnings:\n",
              "[1] Standard Errors assume that the covariance matrix of the errors is correctly specified.\n",
              "[2] The condition number is large, 2.61e+07. This might indicate that there are\n",
              "strong multicollinearity or other numerical problems.\n",
              "\"\"\""
            ]
          },
          "metadata": {},
          "execution_count": 792
        }
      ]
    },
    {
      "cell_type": "code",
      "source": [
        "df[\"n_vid\"] = df[df[\"n_vid\"] < 8][\"n_vid\"]\n",
        "df[\"mgp\"] = df[df[\"mgp\"] < 11][\"mgp\"]\n",
        "\n",
        "for col in ['text_am']:#, 'text_am', 'cont', \"mgp\"]:\n",
        "    col_sqr = col + '_2'\n",
        "    def func(x):\n",
        "        return summary_df['coef'][col] * x + summary_df['coef'][col_sqr] * x ** 2\n",
        "\n",
        "    plt.figure(figsize=(14,10))\n",
        "    plt.plot(df.sort_values(by=[col])[col], func(df.sort_values(by=[col])[col]), label='linear regression',\n",
        "         color='#BF2D00', \n",
        "         lw=2,\n",
        "         linestyle='-', linewidth = 12)\n",
        "    #plt.scatter(df.sort_values(by=[col])[col], func(df.sort_values(by=[col])[col]), label='linear regression',\n",
        "         #color='#BF2D00')\n",
        "    plt.xlabel(f'Значение {col}', fontsize=20)\n",
        "    plt.ylabel(f'Значение success_rate в %', fontsize=20)\n",
        "summary_df['coef']"
      ],
      "metadata": {
        "colab": {
          "base_uri": "https://localhost:8080/",
          "height": 878
        },
        "id": "L2qJK2YGiT3d",
        "outputId": "277e1bab-8267-4cc0-ca6b-3a1679cc77ac"
      },
      "execution_count": 793,
      "outputs": [
        {
          "output_type": "stream",
          "name": "stderr",
          "text": [
            "/usr/local/lib/python3.7/dist-packages/ipykernel_launcher.py:13: MatplotlibDeprecationWarning: Saw kwargs ['lw', 'linewidth'] which are all aliases for 'linewidth'.  Kept value from 'linewidth'.  Passing multiple aliases for the same property will raise a TypeError in 3.3.\n",
            "  del sys.path[0]\n"
          ]
        },
        {
          "output_type": "execute_result",
          "data": {
            "text/plain": [
              "text_am         0.005200\n",
              "n_vid          41.551100\n",
              "n_pled_t        0.792900\n",
              "step_pled_t    -0.014600\n",
              "text_am_2      -0.000001\n",
              "backed          0.397000\n",
              "created        10.831000\n",
              "mgp             2.381900\n",
              "n_vid_2        -4.482200\n",
              "cont           51.552200\n",
              "mgp_2          -0.193200\n",
              "Name: coef, dtype: float64"
            ]
          },
          "metadata": {},
          "execution_count": 793
        },
        {
          "output_type": "display_data",
          "data": {
            "image/png": "[encoded data removed]",
            "text/plain": [
              "<Figure size 1008x720 with 1 Axes>"
            ]
          },
          "metadata": {
            "needs_background": "light"
          }
        }
      ]
    },
    {
      "cell_type": "code",
      "source": [
        "#df[\"text_am\"] = df[df[\"text_am\"] < 5500][\"text_am\"]\n",
        "#df[\"n_vid\"] = df[df[\"n_vid\"] < 11][\"n_vid\"]\n",
        "#df[\"mgp\"] = df[df[\"mgp\"] < 13][\"mgp\"]\n",
        "\n",
        "#for col in ['text_am', 'n_vid', 'mgp', \"cont\"]:\n",
        "    #col_sqr = col + '_2'\n",
        "    #def func(x):\n",
        "      #return summary_df['coef'][col] * x + summary_df['coef'][col_sqr] * x ** 2\n",
        "\n",
        "    #plt.figure(figsize=(14,10))\n",
        "    #plt.plot(df.sort_values(by=[col])[col], func(df.sort_values(by=[col])[col]), label='linear regression',\n",
        "         #color='#BF2D00', \n",
        "         #lw=2,\n",
        "         #linestyle='-', linewidth = 12)\n",
        "    #plt.scatter(df.sort_values(by=[col])[col], func(df.sort_values(by=[col])[col]), label='linear regression',\n",
        "         #color='#BF2D00', linewidths = 12)\n",
        "    #plt.xlabel(f'Значение {col}', fontsize=20)\n",
        "    #plt.ylabel(f'Значение success_rate в %', fontsize=20)\n",
        "#summary_df['coef']"
      ],
      "metadata": {
        "id": "ZPhZ14MEMSKT"
      },
      "execution_count": 794,
      "outputs": []
    },
    {
      "cell_type": "code",
      "source": [
        "df = df.dropna()\n",
        "from statsmodels.stats.outliers_influence import variance_inflation_factor\n",
        "\n",
        "vif = pd.DataFrame()\n",
        "vif_data = pd.DataFrame()\n",
        "vif_data[\"feature\"] = df[result].columns\n",
        "vif_data[\"VIF\"] = [variance_inflation_factor(df[result].values, i) for i in range(len(df[result].columns))]\n",
        "vif_data"
      ],
      "metadata": {
        "colab": {
          "base_uri": "https://localhost:8080/",
          "height": 394
        },
        "id": "7gFMLh1JZ02w",
        "outputId": "b1d389e0-bff3-485d-dcb2-f2a59a16152e"
      },
      "execution_count": 795,
      "outputs": [
        {
          "output_type": "execute_result",
          "data": {
            "text/html": [
              "<div>\n",
              "<style scoped>\n",
              "    .dataframe tbody tr th:only-of-type {\n",
              "        vertical-align: middle;\n",
              "    }\n",
              "\n",
              "    .dataframe tbody tr th {\n",
              "        vertical-align: top;\n",
              "    }\n",
              "\n",
              "    .dataframe thead th {\n",
              "        text-align: right;\n",
              "    }\n",
              "</style>\n",
              "<table border=\"1\" class=\"dataframe\">\n",
              "  <thead>\n",
              "    <tr style=\"text-align: right;\">\n",
              "      <th></th>\n",
              "      <th>feature</th>\n",
              "      <th>VIF</th>\n",
              "    </tr>\n",
              "  </thead>\n",
              "  <tbody>\n",
              "    <tr>\n",
              "      <th>0</th>\n",
              "      <td>text_am</td>\n",
              "      <td>36.470990</td>\n",
              "    </tr>\n",
              "    <tr>\n",
              "      <th>1</th>\n",
              "      <td>n_vid</td>\n",
              "      <td>8.383623</td>\n",
              "    </tr>\n",
              "    <tr>\n",
              "      <th>2</th>\n",
              "      <td>n_pled_t</td>\n",
              "      <td>7.648958</td>\n",
              "    </tr>\n",
              "    <tr>\n",
              "      <th>3</th>\n",
              "      <td>step_pled_t</td>\n",
              "      <td>1.640802</td>\n",
              "    </tr>\n",
              "    <tr>\n",
              "      <th>4</th>\n",
              "      <td>text_am_2</td>\n",
              "      <td>15.649984</td>\n",
              "    </tr>\n",
              "    <tr>\n",
              "      <th>5</th>\n",
              "      <td>backed</td>\n",
              "      <td>1.212013</td>\n",
              "    </tr>\n",
              "    <tr>\n",
              "      <th>6</th>\n",
              "      <td>created</td>\n",
              "      <td>1.161109</td>\n",
              "    </tr>\n",
              "    <tr>\n",
              "      <th>7</th>\n",
              "      <td>mgp</td>\n",
              "      <td>33.027973</td>\n",
              "    </tr>\n",
              "    <tr>\n",
              "      <th>8</th>\n",
              "      <td>n_vid_2</td>\n",
              "      <td>6.124515</td>\n",
              "    </tr>\n",
              "    <tr>\n",
              "      <th>9</th>\n",
              "      <td>cont</td>\n",
              "      <td>6.252101</td>\n",
              "    </tr>\n",
              "    <tr>\n",
              "      <th>10</th>\n",
              "      <td>mgp_2</td>\n",
              "      <td>18.322251</td>\n",
              "    </tr>\n",
              "  </tbody>\n",
              "</table>\n",
              "</div>"
            ],
            "text/plain": [
              "        feature        VIF\n",
              "0       text_am  36.470990\n",
              "1         n_vid   8.383623\n",
              "2      n_pled_t   7.648958\n",
              "3   step_pled_t   1.640802\n",
              "4     text_am_2  15.649984\n",
              "5        backed   1.212013\n",
              "6       created   1.161109\n",
              "7           mgp  33.027973\n",
              "8       n_vid_2   6.124515\n",
              "9          cont   6.252101\n",
              "10        mgp_2  18.322251"
            ]
          },
          "metadata": {},
          "execution_count": 795
        }
      ]
    }
  ]
}