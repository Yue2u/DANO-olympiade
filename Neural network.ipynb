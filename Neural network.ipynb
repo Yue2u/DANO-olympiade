{
 "cells": [
  {
   "cell_type": "code",
   "execution_count": 51,
   "id": "e79b0336",
   "metadata": {},
   "outputs": [],
   "source": [
    "import numpy as np\n",
    "import pandas as pd\n",
    "import torch\n",
    "from torch import nn\n",
    "import torch.nn.functional as F\n",
    "from torch.optim import Adam\n",
    "from sklearn.model_selection import train_test_split\n",
    "from tqdm.notebook import tqdm\n",
    "from matplotlib import pyplot as plt"
   ]
  },
  {
   "cell_type": "code",
   "execution_count": 39,
   "id": "df717c44",
   "metadata": {},
   "outputs": [],
   "source": [
    "data = pd.read_csv(\"kickstarter_data.csv\")\n",
    "data['success_rate'] = data['pled'] / data['goal']"
   ]
  },
  {
   "cell_type": "code",
   "execution_count": 40,
   "id": "79c611fe",
   "metadata": {},
   "outputs": [],
   "source": [
    "df = data[data['goal'] >= 5]"
   ]
  },
  {
   "cell_type": "code",
   "execution_count": 41,
   "id": "0b6404a2",
   "metadata": {},
   "outputs": [
    {
     "name": "stderr",
     "output_type": "stream",
     "text": [
      "C:\\Users\\belol\\AppData\\Local\\Temp/ipykernel_7416/2553712938.py:1: FutureWarning: Dropping of nuisance columns in DataFrame reductions (with 'numeric_only=None') is deprecated; in a future version this will raise TypeError.  Select only valid columns before calling the reduction.\n",
      "  df.fillna(df.median())\n"
     ]
    },
    {
     "data": {
      "text/html": [
       "<div>\n",
       "<style scoped>\n",
       "    .dataframe tbody tr th:only-of-type {\n",
       "        vertical-align: middle;\n",
       "    }\n",
       "\n",
       "    .dataframe tbody tr th {\n",
       "        vertical-align: top;\n",
       "    }\n",
       "\n",
       "    .dataframe thead th {\n",
       "        text-align: right;\n",
       "    }\n",
       "</style>\n",
       "<table border=\"1\" class=\"dataframe\">\n",
       "  <thead>\n",
       "    <tr style=\"text-align: right;\">\n",
       "      <th></th>\n",
       "      <th>Unnamed: 0</th>\n",
       "      <th>URL</th>\n",
       "      <th>pled</th>\n",
       "      <th>goal</th>\n",
       "      <th>date</th>\n",
       "      <th>period</th>\n",
       "      <th>status</th>\n",
       "      <th>text_am</th>\n",
       "      <th>n_img</th>\n",
       "      <th>n_vid</th>\n",
       "      <th>...</th>\n",
       "      <th>indie</th>\n",
       "      <th>action</th>\n",
       "      <th>quest</th>\n",
       "      <th>adventure</th>\n",
       "      <th>mgp</th>\n",
       "      <th>cont</th>\n",
       "      <th>curr</th>\n",
       "      <th>succsess</th>\n",
       "      <th>is_site</th>\n",
       "      <th>success_rate</th>\n",
       "    </tr>\n",
       "  </thead>\n",
       "  <tbody>\n",
       "    <tr>\n",
       "      <th>0</th>\n",
       "      <td>8438</td>\n",
       "      <td>https://www.kickstarter.com/projects/577038691...</td>\n",
       "      <td>16.37</td>\n",
       "      <td>16368.00</td>\n",
       "      <td>2013-12-01</td>\n",
       "      <td>14</td>\n",
       "      <td>ended</td>\n",
       "      <td>355</td>\n",
       "      <td>7</td>\n",
       "      <td>0</td>\n",
       "      <td>...</td>\n",
       "      <td>0</td>\n",
       "      <td>0</td>\n",
       "      <td>0</td>\n",
       "      <td>0</td>\n",
       "      <td>0.653856</td>\n",
       "      <td>0.276952</td>\n",
       "      <td>GBP</td>\n",
       "      <td>0</td>\n",
       "      <td>0</td>\n",
       "      <td>0.001000</td>\n",
       "    </tr>\n",
       "    <tr>\n",
       "      <th>1</th>\n",
       "      <td>3182</td>\n",
       "      <td>https://www.kickstarter.com/projects/200047954...</td>\n",
       "      <td>124761.28</td>\n",
       "      <td>7278.02</td>\n",
       "      <td>2015-08-03</td>\n",
       "      <td>30</td>\n",
       "      <td>ended</td>\n",
       "      <td>2218</td>\n",
       "      <td>33</td>\n",
       "      <td>3</td>\n",
       "      <td>...</td>\n",
       "      <td>0</td>\n",
       "      <td>1</td>\n",
       "      <td>0</td>\n",
       "      <td>0</td>\n",
       "      <td>6.105621</td>\n",
       "      <td>0.220415</td>\n",
       "      <td>AUD</td>\n",
       "      <td>1</td>\n",
       "      <td>1</td>\n",
       "      <td>17.142201</td>\n",
       "    </tr>\n",
       "    <tr>\n",
       "      <th>2</th>\n",
       "      <td>7977</td>\n",
       "      <td>https://www.kickstarter.com/projects/85660245/...</td>\n",
       "      <td>1211.00</td>\n",
       "      <td>35000.00</td>\n",
       "      <td>2013-04-12</td>\n",
       "      <td>31</td>\n",
       "      <td>ended</td>\n",
       "      <td>3174</td>\n",
       "      <td>19</td>\n",
       "      <td>3</td>\n",
       "      <td>...</td>\n",
       "      <td>1</td>\n",
       "      <td>0</td>\n",
       "      <td>0</td>\n",
       "      <td>0</td>\n",
       "      <td>2.556285</td>\n",
       "      <td>0.289384</td>\n",
       "      <td>USD</td>\n",
       "      <td>0</td>\n",
       "      <td>1</td>\n",
       "      <td>0.034600</td>\n",
       "    </tr>\n",
       "    <tr>\n",
       "      <th>3</th>\n",
       "      <td>1270</td>\n",
       "      <td>https://www.kickstarter.com/projects/193393221...</td>\n",
       "      <td>1.00</td>\n",
       "      <td>10000.00</td>\n",
       "      <td>2013-11-13</td>\n",
       "      <td>14</td>\n",
       "      <td>ended</td>\n",
       "      <td>110</td>\n",
       "      <td>0</td>\n",
       "      <td>0</td>\n",
       "      <td>...</td>\n",
       "      <td>0</td>\n",
       "      <td>0</td>\n",
       "      <td>0</td>\n",
       "      <td>0</td>\n",
       "      <td>0.000000</td>\n",
       "      <td>0.000000</td>\n",
       "      <td>USD</td>\n",
       "      <td>0</td>\n",
       "      <td>1</td>\n",
       "      <td>0.000100</td>\n",
       "    </tr>\n",
       "    <tr>\n",
       "      <th>4</th>\n",
       "      <td>6312</td>\n",
       "      <td>https://www.kickstarter.com/projects/148102341...</td>\n",
       "      <td>5415.00</td>\n",
       "      <td>67000.00</td>\n",
       "      <td>2016-04-25</td>\n",
       "      <td>30</td>\n",
       "      <td>ended</td>\n",
       "      <td>3955</td>\n",
       "      <td>46</td>\n",
       "      <td>1</td>\n",
       "      <td>...</td>\n",
       "      <td>0</td>\n",
       "      <td>1</td>\n",
       "      <td>0</td>\n",
       "      <td>1</td>\n",
       "      <td>5.987628</td>\n",
       "      <td>0.256332</td>\n",
       "      <td>USD</td>\n",
       "      <td>0</td>\n",
       "      <td>1</td>\n",
       "      <td>0.080821</td>\n",
       "    </tr>\n",
       "    <tr>\n",
       "      <th>...</th>\n",
       "      <td>...</td>\n",
       "      <td>...</td>\n",
       "      <td>...</td>\n",
       "      <td>...</td>\n",
       "      <td>...</td>\n",
       "      <td>...</td>\n",
       "      <td>...</td>\n",
       "      <td>...</td>\n",
       "      <td>...</td>\n",
       "      <td>...</td>\n",
       "      <td>...</td>\n",
       "      <td>...</td>\n",
       "      <td>...</td>\n",
       "      <td>...</td>\n",
       "      <td>...</td>\n",
       "      <td>...</td>\n",
       "      <td>...</td>\n",
       "      <td>...</td>\n",
       "      <td>...</td>\n",
       "      <td>...</td>\n",
       "      <td>...</td>\n",
       "    </tr>\n",
       "    <tr>\n",
       "      <th>8416</th>\n",
       "      <td>8202</td>\n",
       "      <td>https://www.kickstarter.com/projects/501263634...</td>\n",
       "      <td>2246.00</td>\n",
       "      <td>7000.00</td>\n",
       "      <td>2014-03-11</td>\n",
       "      <td>60</td>\n",
       "      <td>ended</td>\n",
       "      <td>912</td>\n",
       "      <td>10</td>\n",
       "      <td>0</td>\n",
       "      <td>...</td>\n",
       "      <td>1</td>\n",
       "      <td>0</td>\n",
       "      <td>1</td>\n",
       "      <td>0</td>\n",
       "      <td>3.246320</td>\n",
       "      <td>0.220351</td>\n",
       "      <td>USD</td>\n",
       "      <td>0</td>\n",
       "      <td>1</td>\n",
       "      <td>0.320857</td>\n",
       "    </tr>\n",
       "    <tr>\n",
       "      <th>8417</th>\n",
       "      <td>3125</td>\n",
       "      <td>https://www.kickstarter.com/projects/154070452...</td>\n",
       "      <td>18021.00</td>\n",
       "      <td>15000.00</td>\n",
       "      <td>2015-09-22</td>\n",
       "      <td>45</td>\n",
       "      <td>ended</td>\n",
       "      <td>1650</td>\n",
       "      <td>39</td>\n",
       "      <td>2</td>\n",
       "      <td>...</td>\n",
       "      <td>0</td>\n",
       "      <td>0</td>\n",
       "      <td>0</td>\n",
       "      <td>0</td>\n",
       "      <td>8.707396</td>\n",
       "      <td>0.230234</td>\n",
       "      <td>USD</td>\n",
       "      <td>1</td>\n",
       "      <td>1</td>\n",
       "      <td>1.201400</td>\n",
       "    </tr>\n",
       "    <tr>\n",
       "      <th>8418</th>\n",
       "      <td>322</td>\n",
       "      <td>https://www.kickstarter.com/projects/101642300...</td>\n",
       "      <td>14.00</td>\n",
       "      <td>10000.00</td>\n",
       "      <td>2016-02-17</td>\n",
       "      <td>30</td>\n",
       "      <td>ended</td>\n",
       "      <td>280</td>\n",
       "      <td>10</td>\n",
       "      <td>1</td>\n",
       "      <td>...</td>\n",
       "      <td>0</td>\n",
       "      <td>0</td>\n",
       "      <td>0</td>\n",
       "      <td>0</td>\n",
       "      <td>2.763008</td>\n",
       "      <td>0.328798</td>\n",
       "      <td>USD</td>\n",
       "      <td>0</td>\n",
       "      <td>0</td>\n",
       "      <td>0.001400</td>\n",
       "    </tr>\n",
       "    <tr>\n",
       "      <th>8419</th>\n",
       "      <td>1098</td>\n",
       "      <td>https://www.kickstarter.com/projects/173840524...</td>\n",
       "      <td>82.88</td>\n",
       "      <td>3928.54</td>\n",
       "      <td>2014-05-31</td>\n",
       "      <td>31</td>\n",
       "      <td>ended</td>\n",
       "      <td>777</td>\n",
       "      <td>0</td>\n",
       "      <td>0</td>\n",
       "      <td>...</td>\n",
       "      <td>0</td>\n",
       "      <td>0</td>\n",
       "      <td>1</td>\n",
       "      <td>0</td>\n",
       "      <td>0.000000</td>\n",
       "      <td>0.000000</td>\n",
       "      <td>CAD</td>\n",
       "      <td>0</td>\n",
       "      <td>0</td>\n",
       "      <td>0.021097</td>\n",
       "    </tr>\n",
       "    <tr>\n",
       "      <th>8420</th>\n",
       "      <td>599</td>\n",
       "      <td>https://www.kickstarter.com/projects/youmadbro...</td>\n",
       "      <td>568.18</td>\n",
       "      <td>1559.71</td>\n",
       "      <td>2015-06-30</td>\n",
       "      <td>30</td>\n",
       "      <td>ended</td>\n",
       "      <td>670</td>\n",
       "      <td>21</td>\n",
       "      <td>0</td>\n",
       "      <td>...</td>\n",
       "      <td>1</td>\n",
       "      <td>0</td>\n",
       "      <td>0</td>\n",
       "      <td>0</td>\n",
       "      <td>4.004428</td>\n",
       "      <td>0.216843</td>\n",
       "      <td>EUR</td>\n",
       "      <td>0</td>\n",
       "      <td>0</td>\n",
       "      <td>0.364286</td>\n",
       "    </tr>\n",
       "  </tbody>\n",
       "</table>\n",
       "<p>8405 rows × 39 columns</p>\n",
       "</div>"
      ],
      "text/plain": [
       "      Unnamed: 0                                                URL  \\\n",
       "0           8438  https://www.kickstarter.com/projects/577038691...   \n",
       "1           3182  https://www.kickstarter.com/projects/200047954...   \n",
       "2           7977  https://www.kickstarter.com/projects/85660245/...   \n",
       "3           1270  https://www.kickstarter.com/projects/193393221...   \n",
       "4           6312  https://www.kickstarter.com/projects/148102341...   \n",
       "...          ...                                                ...   \n",
       "8416        8202  https://www.kickstarter.com/projects/501263634...   \n",
       "8417        3125  https://www.kickstarter.com/projects/154070452...   \n",
       "8418         322  https://www.kickstarter.com/projects/101642300...   \n",
       "8419        1098  https://www.kickstarter.com/projects/173840524...   \n",
       "8420         599  https://www.kickstarter.com/projects/youmadbro...   \n",
       "\n",
       "           pled      goal        date  period status  text_am  n_img  n_vid  \\\n",
       "0         16.37  16368.00  2013-12-01      14  ended      355      7      0   \n",
       "1     124761.28   7278.02  2015-08-03      30  ended     2218     33      3   \n",
       "2       1211.00  35000.00  2013-04-12      31  ended     3174     19      3   \n",
       "3          1.00  10000.00  2013-11-13      14  ended      110      0      0   \n",
       "4       5415.00  67000.00  2016-04-25      30  ended     3955     46      1   \n",
       "...         ...       ...         ...     ...    ...      ...    ...    ...   \n",
       "8416    2246.00   7000.00  2014-03-11      60  ended      912     10      0   \n",
       "8417   18021.00  15000.00  2015-09-22      45  ended     1650     39      2   \n",
       "8418      14.00  10000.00  2016-02-17      30  ended      280     10      1   \n",
       "8419      82.88   3928.54  2014-05-31      31  ended      777      0      0   \n",
       "8420     568.18   1559.71  2015-06-30      30  ended      670     21      0   \n",
       "\n",
       "      ...  indie  action  quest  adventure       mgp      cont  curr  \\\n",
       "0     ...      0       0      0          0  0.653856  0.276952   GBP   \n",
       "1     ...      0       1      0          0  6.105621  0.220415   AUD   \n",
       "2     ...      1       0      0          0  2.556285  0.289384   USD   \n",
       "3     ...      0       0      0          0  0.000000  0.000000   USD   \n",
       "4     ...      0       1      0          1  5.987628  0.256332   USD   \n",
       "...   ...    ...     ...    ...        ...       ...       ...   ...   \n",
       "8416  ...      1       0      1          0  3.246320  0.220351   USD   \n",
       "8417  ...      0       0      0          0  8.707396  0.230234   USD   \n",
       "8418  ...      0       0      0          0  2.763008  0.328798   USD   \n",
       "8419  ...      0       0      1          0  0.000000  0.000000   CAD   \n",
       "8420  ...      1       0      0          0  4.004428  0.216843   EUR   \n",
       "\n",
       "      succsess is_site  success_rate  \n",
       "0            0       0      0.001000  \n",
       "1            1       1     17.142201  \n",
       "2            0       1      0.034600  \n",
       "3            0       1      0.000100  \n",
       "4            0       1      0.080821  \n",
       "...        ...     ...           ...  \n",
       "8416         0       1      0.320857  \n",
       "8417         1       1      1.201400  \n",
       "8418         0       0      0.001400  \n",
       "8419         0       0      0.021097  \n",
       "8420         0       0      0.364286  \n",
       "\n",
       "[8405 rows x 39 columns]"
      ]
     },
     "execution_count": 41,
     "metadata": {},
     "output_type": "execute_result"
    }
   ],
   "source": [
    "df.fillna(df.median())"
   ]
  },
  {
   "cell_type": "code",
   "execution_count": 42,
   "id": "430f3d49",
   "metadata": {},
   "outputs": [],
   "source": [
    "def get_type(rate):\n",
    "    type_ = 0\n",
    "    for i in np.linspace(0, 1.75, 8):\n",
    "        if rate < i + 0.25:\n",
    "            return type_\n",
    "        type_ += 1\n",
    "    return 8"
   ]
  },
  {
   "cell_type": "code",
   "execution_count": 43,
   "id": "fd95f03e",
   "metadata": {},
   "outputs": [],
   "source": [
    "# Add success type\n",
    "\n",
    "types = []\n",
    "\n",
    "for idx, row in df.iterrows():\n",
    "    types.append(get_type(row[-1]))\n",
    "\n",
    "types = pd.Series(types, dtype=int)\n",
    "df = df.assign(succes_type=types.values)\n",
    "if 'success_rate' in df.columns:\n",
    "    df = df.drop(columns='success_rate')\n",
    "if 'success' in df.columns:\n",
    "    df = df.drop(columns='success')"
   ]
  },
  {
   "cell_type": "code",
   "execution_count": 44,
   "id": "49c6855e",
   "metadata": {},
   "outputs": [
    {
     "name": "stdout",
     "output_type": "stream",
     "text": [
      "Index(['pled', 'goal', 'period', 'text_am', 'n_img', 'n_vid', 'n_pled_t',\n",
      "       'min_pled_t', 'max_pled_t', 'mean_pled_t', 'step_pled_t', 'cr_time',\n",
      "       'backed', 'created', 'rpg', 'platformer', 'shooter', 'fighting',\n",
      "       'survival', 'horror', 'strategy', 'arcade', 'simulator', 'mmo', 'indie',\n",
      "       'action', 'quest', 'adventure', 'mgp', 'cont', 'succsess', 'is_site',\n",
      "       'succes_type'],\n",
      "      dtype='object') succes_type\n"
     ]
    }
   ],
   "source": [
    "numeric_data = df.corr().columns[1:]\n",
    "target_col = df.corr().columns[-1]\n",
    "\n",
    "print(numeric_data, target_col)\n",
    "\n",
    "df = df[numeric_data]\n",
    "target = df[target_col]"
   ]
  },
  {
   "cell_type": "code",
   "execution_count": 45,
   "id": "895f5448",
   "metadata": {},
   "outputs": [],
   "source": [
    "model = nn.Sequential(\n",
    "    nn.Linear(32, 24),\n",
    "    nn.ReLU(),\n",
    "    nn.BatchNorm1d(24),\n",
    "    nn.Linear(24, 20),\n",
    "    nn.ReLU(),\n",
    "    nn.Linear(20, 10))\n",
    "\n",
    "optimizer = Adam(model.parameters())\n",
    "loss_fn = F.cross_entropy"
   ]
  },
  {
   "cell_type": "code",
   "execution_count": 46,
   "id": "3cac943e",
   "metadata": {},
   "outputs": [],
   "source": [
    "class MyDataset:\n",
    "    def __init__(self, df):\n",
    "        self.df = pd.DataFrame(data=df)\n",
    "    \n",
    "    def __len__(self):\n",
    "        return self.df.shape[0]\n",
    "    \n",
    "    def __getitem__(self, i):\n",
    "        return torch.Tensor(df.iloc[i])[:-1], torch.Tensor(df.iloc[i])[-1].to(torch.long)"
   ]
  },
  {
   "cell_type": "code",
   "execution_count": 47,
   "id": "bf4c4cc0",
   "metadata": {},
   "outputs": [],
   "source": [
    "from torch.utils.data import DataLoader\n",
    "\n",
    "\n",
    "train, test = train_test_split(df, train_size=0.8)\n",
    "\n",
    "train_loader = DataLoader(MyDataset(train), batch_size=24, shuffle=True)\n",
    "test_loader = DataLoader(MyDataset(test), batch_size=24)"
   ]
  },
  {
   "cell_type": "code",
   "execution_count": 48,
   "id": "f12c5c3f",
   "metadata": {},
   "outputs": [
    {
     "data": {
      "application/vnd.jupyter.widget-view+json": {
       "model_id": "44ad641050634a259efd96851e1d2ee6",
       "version_major": 2,
       "version_minor": 0
      },
      "text/plain": [
       "  0%|          | 0/10 [00:00<?, ?it/s]"
      ]
     },
     "metadata": {},
     "output_type": "display_data"
    },
    {
     "data": {
      "application/vnd.jupyter.widget-view+json": {
       "model_id": "1c9d5cb9e7694961bc4b26ca2373d538",
       "version_major": 2,
       "version_minor": 0
      },
      "text/plain": [
       "  0%|          | 0/281 [00:00<?, ?it/s]"
      ]
     },
     "metadata": {},
     "output_type": "display_data"
    },
    {
     "name": "stdout",
     "output_type": "stream",
     "text": [
      "loss: tensor(1.2064)\n",
      "accuracy:  tensor(0.7026)\n"
     ]
    },
    {
     "data": {
      "application/vnd.jupyter.widget-view+json": {
       "model_id": "188a3a0767214370b4a1f6ab2d1c1382",
       "version_major": 2,
       "version_minor": 0
      },
      "text/plain": [
       "  0%|          | 0/281 [00:00<?, ?it/s]"
      ]
     },
     "metadata": {},
     "output_type": "display_data"
    },
    {
     "name": "stdout",
     "output_type": "stream",
     "text": [
      "loss: tensor(0.7058)\n",
      "accuracy:  tensor(0.7817)\n"
     ]
    },
    {
     "data": {
      "application/vnd.jupyter.widget-view+json": {
       "model_id": "0e8d3ec7f78b4df09c8fcd2cdc09a3f6",
       "version_major": 2,
       "version_minor": 0
      },
      "text/plain": [
       "  0%|          | 0/281 [00:00<?, ?it/s]"
      ]
     },
     "metadata": {},
     "output_type": "display_data"
    },
    {
     "name": "stdout",
     "output_type": "stream",
     "text": [
      "loss: tensor(0.6339)\n",
      "accuracy:  tensor(0.7920)\n"
     ]
    },
    {
     "data": {
      "application/vnd.jupyter.widget-view+json": {
       "model_id": "7df85c4cecd14f23904c4dcf2f323e68",
       "version_major": 2,
       "version_minor": 0
      },
      "text/plain": [
       "  0%|          | 0/281 [00:00<?, ?it/s]"
      ]
     },
     "metadata": {},
     "output_type": "display_data"
    },
    {
     "name": "stdout",
     "output_type": "stream",
     "text": [
      "loss: tensor(0.5893)\n",
      "accuracy:  tensor(0.8092)\n"
     ]
    },
    {
     "data": {
      "application/vnd.jupyter.widget-view+json": {
       "model_id": "759c0c52e0da43eabd13405ded570dc9",
       "version_major": 2,
       "version_minor": 0
      },
      "text/plain": [
       "  0%|          | 0/281 [00:00<?, ?it/s]"
      ]
     },
     "metadata": {},
     "output_type": "display_data"
    },
    {
     "name": "stdout",
     "output_type": "stream",
     "text": [
      "loss: tensor(0.5494)\n",
      "accuracy:  tensor(0.8135)\n"
     ]
    },
    {
     "data": {
      "application/vnd.jupyter.widget-view+json": {
       "model_id": "96fe0b635c694e9d9bc74c5bbf2f7f67",
       "version_major": 2,
       "version_minor": 0
      },
      "text/plain": [
       "  0%|          | 0/281 [00:00<?, ?it/s]"
      ]
     },
     "metadata": {},
     "output_type": "display_data"
    },
    {
     "name": "stdout",
     "output_type": "stream",
     "text": [
      "loss: tensor(0.5319)\n",
      "accuracy:  tensor(0.8207)\n"
     ]
    },
    {
     "data": {
      "application/vnd.jupyter.widget-view+json": {
       "model_id": "e1e8efa6cb674166b5d62e8f8cc08848",
       "version_major": 2,
       "version_minor": 0
      },
      "text/plain": [
       "  0%|          | 0/281 [00:00<?, ?it/s]"
      ]
     },
     "metadata": {},
     "output_type": "display_data"
    },
    {
     "name": "stdout",
     "output_type": "stream",
     "text": [
      "loss: tensor(0.5208)\n",
      "accuracy:  tensor(0.8206)\n"
     ]
    },
    {
     "data": {
      "application/vnd.jupyter.widget-view+json": {
       "model_id": "518e20dbe1da4979b8160b5f93c8710a",
       "version_major": 2,
       "version_minor": 0
      },
      "text/plain": [
       "  0%|          | 0/281 [00:00<?, ?it/s]"
      ]
     },
     "metadata": {},
     "output_type": "display_data"
    },
    {
     "name": "stdout",
     "output_type": "stream",
     "text": [
      "loss: tensor(0.5254)\n",
      "accuracy:  tensor(0.8274)\n"
     ]
    },
    {
     "data": {
      "application/vnd.jupyter.widget-view+json": {
       "model_id": "de41d2eeb39045d7afaabeecedb30444",
       "version_major": 2,
       "version_minor": 0
      },
      "text/plain": [
       "  0%|          | 0/281 [00:00<?, ?it/s]"
      ]
     },
     "metadata": {},
     "output_type": "display_data"
    },
    {
     "name": "stdout",
     "output_type": "stream",
     "text": [
      "loss: tensor(0.5034)\n",
      "accuracy:  tensor(0.8319)\n"
     ]
    },
    {
     "data": {
      "application/vnd.jupyter.widget-view+json": {
       "model_id": "2351d2208adb46b2a70d3f481bf43726",
       "version_major": 2,
       "version_minor": 0
      },
      "text/plain": [
       "  0%|          | 0/281 [00:00<?, ?it/s]"
      ]
     },
     "metadata": {},
     "output_type": "display_data"
    },
    {
     "name": "stdout",
     "output_type": "stream",
     "text": [
      "loss: tensor(0.4944)\n",
      "accuracy:  tensor(0.8345)\n"
     ]
    }
   ],
   "source": [
    "model.train()\n",
    "\n",
    "losses = []\n",
    "accuracies = []\n",
    "\n",
    "for epochs in tqdm(range(10)):\n",
    "    epoch_losses = []\n",
    "    epoch_accuracies = []\n",
    "    for xb, yb in tqdm(train_loader):\n",
    "        accuracy = 0\n",
    "        correct_answers = 0\n",
    "        \n",
    "        optimizer.zero_grad()\n",
    "\n",
    "        outp = model(xb)\n",
    "        loss = loss_fn(outp, yb)\n",
    "\n",
    "        loss.backward()\n",
    "        optimizer.step()\n",
    "        \n",
    "        epoch_losses.append(loss.item())\n",
    "        \n",
    "        correct_answers = (outp.argmax(-1) == yb).sum()\n",
    "        accuracy = correct_answers / xb.shape[0]\n",
    "        epoch_accuracies.append(accuracy)\n",
    "    \n",
    "    losses.append(torch.tensor(epoch_losses).mean())\n",
    "    accuracies.append(torch.tensor(epoch_accuracies).mean())\n",
    "    \n",
    "    print('loss:', losses[-1])\n",
    "    print('accuracy: ', accuracies[-1])"
   ]
  },
  {
   "cell_type": "code",
   "execution_count": 52,
   "id": "0cbebc29",
   "metadata": {},
   "outputs": [
    {
     "data": {
      "text/plain": [
       "[<matplotlib.lines.Line2D at 0x2501573ff70>]"
      ]
     },
     "execution_count": 52,
     "metadata": {},
     "output_type": "execute_result"
    },
    {
     "data": {
      "image/png": "[encoded data removed]",
      "text/plain": [
       "<Figure size 1008x720 with 1 Axes>"
      ]
     },
     "metadata": {
      "needs_background": "light"
     },
     "output_type": "display_data"
    },
    {
     "data": {
      "image/png": "[encoded data removed]",
      "text/plain": [
       "<Figure size 1008x720 with 1 Axes>"
      ]
     },
     "metadata": {
      "needs_background": "light"
     },
     "output_type": "display_data"
    }
   ],
   "source": [
    "plt.figure(figsize=(14, 10))\n",
    "plt.plot(range(epochs + 1), losses, label='loss')\n",
    "\n",
    "plt.figure(figsize=(14, 10))\n",
    "plt.plot(range(epochs + 1), accuracies, label='accuracy', c='r')"
   ]
  },
  {
   "cell_type": "code",
   "execution_count": 53,
   "id": "8c6ce758",
   "metadata": {},
   "outputs": [
    {
     "data": {
      "text/plain": [
       "tensor(0.8052)"
      ]
     },
     "execution_count": 53,
     "metadata": {},
     "output_type": "execute_result"
    }
   ],
   "source": [
    "model.eval()\n",
    "\n",
    "losses = []\n",
    "accuracies = []\n",
    "\n",
    "for xb, yb in test_loader:\n",
    "    with torch.no_grad():\n",
    "        outp = model(xb)\n",
    "        correct_answers = (outp.argmax(-1) == yb).sum()\n",
    "        accuracy = correct_answers / xb.shape[0]\n",
    "        accuracies.append(accuracy)\n",
    "torch.Tensor(accuracies).mean()"
   ]
  },
  {
   "cell_type": "code",
   "execution_count": 54,
   "id": "4240013a",
   "metadata": {},
   "outputs": [
    {
     "data": {
      "text/plain": [
       "[<matplotlib.lines.Line2D at 0x250159bebe0>]"
      ]
     },
     "execution_count": 54,
     "metadata": {},
     "output_type": "execute_result"
    },
    {
     "data": {
      "image/png": "[encoded data removed]",
      "text/plain": [
       "<Figure size 1008x720 with 1 Axes>"
      ]
     },
     "metadata": {
      "needs_background": "light"
     },
     "output_type": "display_data"
    }
   ],
   "source": [
    "plt.figure(figsize=(14, 10))\n",
    "plt.plot(np.arange(len(test_loader)), accuracies, label='accuracy', c='r')"
   ]
  },
  {
   "cell_type": "code",
   "execution_count": null,
   "id": "5e242424",
   "metadata": {},
   "outputs": [],
   "source": []
  }
 ],
 "metadata": {
  "kernelspec": {
   "display_name": "Python 3 (ipykernel)",
   "language": "python",
   "name": "python3"
  },
  "language_info": {
   "codemirror_mode": {
    "name": "ipython",
    "version": 3
   },
   "file_extension": ".py",
   "mimetype": "text/x-python",
   "name": "python",
   "nbconvert_exporter": "python",
   "pygments_lexer": "ipython3",
   "version": "3.8.11"
  }
 },
 "nbformat": 4,
 "nbformat_minor": 5
}
