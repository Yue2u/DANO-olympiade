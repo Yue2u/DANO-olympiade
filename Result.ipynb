{
 "cells": [
  {
   "cell_type": "code",
   "execution_count": 4,
   "id": "c530a3fd",
   "metadata": {},
   "outputs": [],
   "source": [
    "import pandas as pd\n",
    "from sklearn.linear_model import LinearRegression, Lasso, Ridge, ElasticNet\n",
    "from sklearn.metrics import mean_squared_error\n",
    "from sklearn.preprocessing import StandardScaler\n",
    "from sklearn.model_selection import cross_validate, train_test_split\n",
    "import numpy as np\n",
    "from matplotlib import pyplot as plt\n",
    "from matplotlib.backends.backend_pdf import PdfPages\n",
    "from pandas import DataFrame"
   ]
  },
  {
   "cell_type": "code",
   "execution_count": 5,
   "id": "8cf5c3ce",
   "metadata": {},
   "outputs": [
    {
     "data": {
      "text/plain": [
       "(Index(['Unnamed: 0', 'URL', 'pled', 'goal', 'date', 'period', 'status',\n",
       "        'text_am', 'n_img', 'n_vid', 'n_pled_t', 'min_pled_t', 'max_pled_t',\n",
       "        'mean_pled_t', 'step_pled_t', 'cr_time', 'backed', 'created', 'site',\n",
       "        'rpg', 'platformer', 'shooter', 'fighting', 'survival', 'horror',\n",
       "        'strategy', 'arcade', 'simulator', 'mmo', 'indie', 'action', 'quest',\n",
       "        'adventure', 'mgp', 'cont', 'curr', 'succsess', 'is_site',\n",
       "        'success_rate'],\n",
       "       dtype='object'),\n",
       " (8421, 39))"
      ]
     },
     "execution_count": 5,
     "metadata": {},
     "output_type": "execute_result"
    }
   ],
   "source": [
    "data = pd.read_csv(\"kickstarter_data.csv\")\n",
    "data['success_rate'] = data['pled'] / data['goal']\n",
    "data.columns, data.shape"
   ]
  },
  {
   "cell_type": "code",
   "execution_count": 6,
   "id": "3c0fe758",
   "metadata": {},
   "outputs": [
    {
     "data": {
      "text/plain": [
       "3315.4035573094015"
      ]
     },
     "execution_count": 6,
     "metadata": {},
     "output_type": "execute_result"
    }
   ],
   "source": [
    "data[data['goal'] < 5]['success_rate'].mean()"
   ]
  },
  {
   "cell_type": "code",
   "execution_count": 8,
   "id": "0be74e09",
   "metadata": {},
   "outputs": [
    {
     "data": {
      "text/plain": [
       "(8421, 37)"
      ]
     },
     "execution_count": 8,
     "metadata": {},
     "output_type": "execute_result"
    }
   ],
   "source": [
    "df = data\n",
    "if 'Unnamed: 0' in df.columns or 'succsess' in df.columns:\n",
    "    df = data.drop(columns=['Unnamed: 0', 'succsess'])\n",
    "df.shape"
   ]
  },
  {
   "cell_type": "code",
   "execution_count": 10,
   "id": "fb88c5ab",
   "metadata": {},
   "outputs": [
    {
     "data": {
      "text/plain": [
       "URL                0\n",
       "pled               0\n",
       "goal               0\n",
       "date               0\n",
       "period             0\n",
       "status             0\n",
       "text_am            0\n",
       "n_img              0\n",
       "n_vid              0\n",
       "n_pled_t           0\n",
       "min_pled_t         0\n",
       "max_pled_t         0\n",
       "mean_pled_t        0\n",
       "step_pled_t        0\n",
       "cr_time            0\n",
       "backed             0\n",
       "created            0\n",
       "site            2471\n",
       "rpg                0\n",
       "platformer         0\n",
       "shooter            0\n",
       "fighting           0\n",
       "survival           0\n",
       "horror             0\n",
       "strategy           0\n",
       "arcade             0\n",
       "simulator          0\n",
       "mmo                0\n",
       "indie              0\n",
       "action             0\n",
       "quest              0\n",
       "adventure          0\n",
       "mgp                0\n",
       "cont               0\n",
       "curr               0\n",
       "is_site            0\n",
       "success_rate       0\n",
       "dtype: int64"
      ]
     },
     "execution_count": 10,
     "metadata": {},
     "output_type": "execute_result"
    }
   ],
   "source": [
    "df.isnull().sum()"
   ]
  },
  {
   "cell_type": "code",
   "execution_count": 11,
   "id": "0796c1b3",
   "metadata": {},
   "outputs": [
    {
     "data": {
      "text/plain": [
       "(['pled',\n",
       "  'goal',\n",
       "  'period',\n",
       "  'text_am',\n",
       "  'n_img',\n",
       "  'n_vid',\n",
       "  'n_pled_t',\n",
       "  'step_pled_t',\n",
       "  'cr_time',\n",
       "  'backed',\n",
       "  'created',\n",
       "  'mgp',\n",
       "  'cont'],\n",
       " 'success_rate')"
      ]
     },
     "execution_count": 11,
     "metadata": {},
     "output_type": "execute_result"
    }
   ],
   "source": [
    "numeric_columns = ['pled',\n",
    "  'goal',\n",
    "  'period',\n",
    "  'text_am',\n",
    "  'n_img',\n",
    "  'n_vid',\n",
    "  'n_pled_t',\n",
    "#   'min_pled_t',\n",
    "#   'max_pled_t',\n",
    "#   'mean_pled_t',\n",
    "  'step_pled_t',\n",
    "  'cr_time',\n",
    "  'backed',\n",
    "  'created',\n",
    "  'mgp',\n",
    "  'cont']\n",
    "binary_columns = ['rpg',\n",
    "  'platformer',\n",
    "  'shooter',\n",
    "  'fighting',\n",
    "  'survival',\n",
    "  'horror',\n",
    "  'strategy',\n",
    "  'arcade',\n",
    "  'simulator',\n",
    "  'mmo',\n",
    "  'indie',\n",
    "  'action',\n",
    "  'quest',\n",
    "  'adventure',\n",
    "  'is_site']\n",
    "target_column = 'success_rate'\n",
    "numeric_columns, target_column"
   ]
  },
  {
   "cell_type": "code",
   "execution_count": 14,
   "id": "19e0aade",
   "metadata": {},
   "outputs": [],
   "source": [
    "def draw_boxplots(df, numeric_columns):\n",
    "    fig, axes = plt.subplots(4, 4, figsize=(18, 40))\n",
    "    for i in range(4):\n",
    "        for j in range(4):\n",
    "            if 4 * i + j == len(numeric_columns):\n",
    "                return\n",
    "            axes[i, j].boxplot(df[numeric_columns[4 * i + j]], labels=[numeric_columns[4 * i + j]]) "
   ]
  },
  {
   "cell_type": "code",
   "execution_count": 15,
   "id": "5a6f7bbb",
   "metadata": {},
   "outputs": [],
   "source": [
    "def draw_hist(df, numeric_columns, bar_type=None):\n",
    "    bar_type = 'bar' if bar_type == None else bar_type\n",
    "    fig, axes = plt.subplots(4, 4, figsize=(18, 20))\n",
    "    for i in range(4):\n",
    "        for j in range(4):\n",
    "            if 4 * i + j == len(numeric_columns):\n",
    "                return\n",
    "            axes[i, j].hist(df[numeric_columns[4 * i + j]], label=numeric_columns[4 * i + j], histtype=bar_type, bins=10)\n",
    "            axes[i,j].legend()"
   ]
  },
  {
   "cell_type": "code",
   "execution_count": 16,
   "id": "ac596afb",
   "metadata": {},
   "outputs": [
    {
     "data": {
      "image/png": "[encoded data removed]",
      "text/plain": [
       "<Figure size 1296x1440 with 16 Axes>"
      ]
     },
     "metadata": {
      "needs_background": "light"
     },
     "output_type": "display_data"
    }
   ],
   "source": [
    "# Remove emissions\n",
    "df = data\n",
    "df = df[df['goal'] > 5]\n",
    "df = df[df['period'] < 80]\n",
    "df = df[df['n_vid'] < 10]\n",
    "df['created'].fillna(0, inplace=True)\n",
    "df['site'].fillna('', inplace=True)\n",
    "\n",
    "# Using 3 sigmas rule\n",
    "n_sigmas = 3\n",
    "\n",
    "created_std = df['created'].std() # Taken from description\n",
    "created_mean = df['created'].mean()\n",
    "df2 = df.copy()\n",
    "df2['created'] = df['created'][(df['created'] >= created_mean - created_std * n_sigmas) & (df['created'] <= created_mean + created_std * n_sigmas)]\n",
    "\n",
    "draw_hist(df2, numeric_columns, 'bar')"
   ]
  },
  {
   "cell_type": "code",
   "execution_count": 27,
   "id": "a6337f72",
   "metadata": {},
   "outputs": [
    {
     "data": {
      "text/plain": [
       "Unnamed: 0      0\n",
       "URL             0\n",
       "pled            0\n",
       "goal            0\n",
       "date            0\n",
       "period          0\n",
       "status          0\n",
       "text_am         0\n",
       "n_img           0\n",
       "n_vid           0\n",
       "n_pled_t        0\n",
       "min_pled_t      0\n",
       "max_pled_t      0\n",
       "mean_pled_t     0\n",
       "step_pled_t     0\n",
       "cr_time         0\n",
       "backed          0\n",
       "created         0\n",
       "site            0\n",
       "rpg             0\n",
       "platformer      0\n",
       "shooter         0\n",
       "fighting        0\n",
       "survival        0\n",
       "horror          0\n",
       "strategy        0\n",
       "arcade          0\n",
       "simulator       0\n",
       "mmo             0\n",
       "indie           0\n",
       "action          0\n",
       "quest           0\n",
       "adventure       0\n",
       "mgp             0\n",
       "cont            0\n",
       "curr            0\n",
       "succsess        0\n",
       "is_site         0\n",
       "success_rate    0\n",
       "dtype: int64"
      ]
     },
     "execution_count": 27,
     "metadata": {},
     "output_type": "execute_result"
    }
   ],
   "source": [
    "df.isna().sum()"
   ]
  },
  {
   "cell_type": "code",
   "execution_count": 29,
   "id": "ae7059c5",
   "metadata": {},
   "outputs": [],
   "source": [
    "futures = ['text_am', 'n_img', 'n_vid', 'period', 'cont', 'mgp']"
   ]
  },
  {
   "cell_type": "code",
   "execution_count": 46,
   "id": "7ce1d6c5",
   "metadata": {},
   "outputs": [
    {
     "data": {
      "text/html": [
       "<div>\n",
       "<style scoped>\n",
       "    .dataframe tbody tr th:only-of-type {\n",
       "        vertical-align: middle;\n",
       "    }\n",
       "\n",
       "    .dataframe tbody tr th {\n",
       "        vertical-align: top;\n",
       "    }\n",
       "\n",
       "    .dataframe thead th {\n",
       "        text-align: right;\n",
       "    }\n",
       "</style>\n",
       "<table border=\"1\" class=\"dataframe\">\n",
       "  <thead>\n",
       "    <tr style=\"text-align: right;\">\n",
       "      <th></th>\n",
       "      <th>text_am</th>\n",
       "      <th>n_img</th>\n",
       "      <th>n_vid</th>\n",
       "      <th>period</th>\n",
       "      <th>cont</th>\n",
       "      <th>mgp</th>\n",
       "    </tr>\n",
       "  </thead>\n",
       "  <tbody>\n",
       "    <tr>\n",
       "      <th>count</th>\n",
       "      <td>8357.000000</td>\n",
       "      <td>8357.000000</td>\n",
       "      <td>8357.000000</td>\n",
       "      <td>8357.000000</td>\n",
       "      <td>8357.000000</td>\n",
       "      <td>8357.000000</td>\n",
       "    </tr>\n",
       "    <tr>\n",
       "      <th>mean</th>\n",
       "      <td>1129.202106</td>\n",
       "      <td>14.382554</td>\n",
       "      <td>0.747158</td>\n",
       "      <td>33.517411</td>\n",
       "      <td>0.225055</td>\n",
       "      <td>3.230619</td>\n",
       "    </tr>\n",
       "    <tr>\n",
       "      <th>std</th>\n",
       "      <td>912.689831</td>\n",
       "      <td>16.601696</td>\n",
       "      <td>1.272229</td>\n",
       "      <td>10.189215</td>\n",
       "      <td>0.137365</td>\n",
       "      <td>4.060377</td>\n",
       "    </tr>\n",
       "    <tr>\n",
       "      <th>min</th>\n",
       "      <td>0.000000</td>\n",
       "      <td>0.000000</td>\n",
       "      <td>0.000000</td>\n",
       "      <td>1.000000</td>\n",
       "      <td>0.000000</td>\n",
       "      <td>0.000000</td>\n",
       "    </tr>\n",
       "    <tr>\n",
       "      <th>25%</th>\n",
       "      <td>418.000000</td>\n",
       "      <td>1.000000</td>\n",
       "      <td>0.000000</td>\n",
       "      <td>30.000000</td>\n",
       "      <td>0.152170</td>\n",
       "      <td>0.249422</td>\n",
       "    </tr>\n",
       "    <tr>\n",
       "      <th>50%</th>\n",
       "      <td>881.000000</td>\n",
       "      <td>8.000000</td>\n",
       "      <td>0.000000</td>\n",
       "      <td>30.000000</td>\n",
       "      <td>0.269255</td>\n",
       "      <td>1.799280</td>\n",
       "    </tr>\n",
       "    <tr>\n",
       "      <th>75%</th>\n",
       "      <td>1591.000000</td>\n",
       "      <td>23.000000</td>\n",
       "      <td>1.000000</td>\n",
       "      <td>33.000000</td>\n",
       "      <td>0.322199</td>\n",
       "      <td>4.702558</td>\n",
       "    </tr>\n",
       "    <tr>\n",
       "      <th>max</th>\n",
       "      <td>6042.000000</td>\n",
       "      <td>174.000000</td>\n",
       "      <td>9.000000</td>\n",
       "      <td>79.000000</td>\n",
       "      <td>0.894847</td>\n",
       "      <td>49.141376</td>\n",
       "    </tr>\n",
       "    <tr>\n",
       "      <th>median</th>\n",
       "      <td>881.000000</td>\n",
       "      <td>8.000000</td>\n",
       "      <td>0.000000</td>\n",
       "      <td>30.000000</td>\n",
       "      <td>0.269255</td>\n",
       "      <td>1.799280</td>\n",
       "    </tr>\n",
       "  </tbody>\n",
       "</table>\n",
       "</div>"
      ],
      "text/plain": [
       "            text_am        n_img        n_vid       period         cont  \\\n",
       "count   8357.000000  8357.000000  8357.000000  8357.000000  8357.000000   \n",
       "mean    1129.202106    14.382554     0.747158    33.517411     0.225055   \n",
       "std      912.689831    16.601696     1.272229    10.189215     0.137365   \n",
       "min        0.000000     0.000000     0.000000     1.000000     0.000000   \n",
       "25%      418.000000     1.000000     0.000000    30.000000     0.152170   \n",
       "50%      881.000000     8.000000     0.000000    30.000000     0.269255   \n",
       "75%     1591.000000    23.000000     1.000000    33.000000     0.322199   \n",
       "max     6042.000000   174.000000     9.000000    79.000000     0.894847   \n",
       "median   881.000000     8.000000     0.000000    30.000000     0.269255   \n",
       "\n",
       "                mgp  \n",
       "count   8357.000000  \n",
       "mean       3.230619  \n",
       "std        4.060377  \n",
       "min        0.000000  \n",
       "25%        0.249422  \n",
       "50%        1.799280  \n",
       "75%        4.702558  \n",
       "max       49.141376  \n",
       "median     1.799280  "
      ]
     },
     "execution_count": 46,
     "metadata": {},
     "output_type": "execute_result"
    }
   ],
   "source": [
    "# Descriptive statistics\n",
    "desc = df2[futures].describe()\n",
    "desc.append(pd.Series(df2[futures].median(), index=futures, name='median'))"
   ]
  },
  {
   "cell_type": "code",
   "execution_count": 47,
   "id": "6740450b",
   "metadata": {},
   "outputs": [
    {
     "data": {
      "text/plain": [
       "array([[<AxesSubplot:title={'center':'n_vid'}>,\n",
       "        <AxesSubplot:title={'center':'success_rate'}>]], dtype=object)"
      ]
     },
     "execution_count": 47,
     "metadata": {},
     "output_type": "execute_result"
    },
    {
     "data": {
      "image/png": "[encoded data removed]",
      "text/plain": [
       "<Figure size 432x288 with 2 Axes>"
      ]
     },
     "metadata": {
      "needs_background": "light"
     },
     "output_type": "display_data"
    }
   ],
   "source": [
    "df[['n_vid', 'success_rate']].hist()"
   ]
  },
  {
   "cell_type": "code",
   "execution_count": 48,
   "id": "88364fa4",
   "metadata": {},
   "outputs": [
    {
     "data": {
      "image/png": "[encoded data removed]",
      "text/plain": [
       "<Figure size 432x288 with 1 Axes>"
      ]
     },
     "metadata": {
      "needs_background": "light"
     },
     "output_type": "display_data"
    }
   ],
   "source": [
    "xs = []\n",
    "ys = []\n",
    "\n",
    "\n",
    "for vids in sorted(df['n_vid'].unique()):\n",
    "    mean_sr = df[df['n_vid'] == vids]['success_rate'].mean()\n",
    "    if df[df['n_vid'] == vids].shape[0] > 5:\n",
    "        xs.append(vids)\n",
    "        ys.append(mean_sr)\n",
    "    \n",
    "plt.plot(xs, ys) \n",
    "plt.xlabel = 'Количество видео'\n",
    "plt.ylabel = 'Среднее отношения pled / goal'"
   ]
  },
  {
   "cell_type": "code",
   "execution_count": null,
   "id": "1cbca407",
   "metadata": {},
   "outputs": [],
   "source": []
  }
 ],
 "metadata": {
  "kernelspec": {
   "display_name": "Python 3 (ipykernel)",
   "language": "python",
   "name": "python3"
  },
  "language_info": {
   "codemirror_mode": {
    "name": "ipython",
    "version": 3
   },
   "file_extension": ".py",
   "mimetype": "text/x-python",
   "name": "python",
   "nbconvert_exporter": "python",
   "pygments_lexer": "ipython3",
   "version": "3.8.11"
  }
 },
 "nbformat": 4,
 "nbformat_minor": 5
}
