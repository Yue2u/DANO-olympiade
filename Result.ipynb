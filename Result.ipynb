{
 "cells": [
  {
   "cell_type": "code",
   "execution_count": 77,
   "id": "35b7636f",
   "metadata": {},
   "outputs": [],
   "source": [
    "import pandas as pd\n",
    "from sklearn.linear_model import LinearRegression, Lasso, Ridge, ElasticNet\n",
    "from sklearn.metrics import mean_squared_error\n",
    "from sklearn.preprocessing import StandardScaler\n",
    "from sklearn.model_selection import cross_validate, train_test_split\n",
    "import numpy as np\n",
    "from matplotlib import pyplot as plt\n",
    "from matplotlib.backends.backend_pdf import PdfPages\n",
    "from pandas import DataFrame"
   ]
  },
  {
   "cell_type": "code",
   "execution_count": 78,
   "id": "29145dfb",
   "metadata": {},
   "outputs": [
    {
     "data": {
      "text/plain": [
       "(Index(['Unnamed: 0', 'URL', 'pled', 'goal', 'date', 'period', 'status',\n",
       "        'text_am', 'n_img', 'n_vid', 'n_pled_t', 'min_pled_t', 'max_pled_t',\n",
       "        'mean_pled_t', 'step_pled_t', 'cr_time', 'backed', 'created', 'site',\n",
       "        'rpg', 'platformer', 'shooter', 'fighting', 'survival', 'horror',\n",
       "        'strategy', 'arcade', 'simulator', 'mmo', 'indie', 'action', 'quest',\n",
       "        'adventure', 'mgp', 'cont', 'curr', 'succsess', 'is_site',\n",
       "        'success_rate'],\n",
       "       dtype='object'),\n",
       " (8421, 39))"
      ]
     },
     "execution_count": 78,
     "metadata": {},
     "output_type": "execute_result"
    }
   ],
   "source": [
    "data = pd.read_csv(\"kickstarter_data.csv\")\n",
    "data['success_rate'] = data['pled'] / data['goal'] * 100\n",
    "data.columns, data.shape"
   ]
  },
  {
   "cell_type": "code",
   "execution_count": 79,
   "id": "a539b6c8",
   "metadata": {},
   "outputs": [
    {
     "data": {
      "text/plain": [
       "331540.3557309402"
      ]
     },
     "execution_count": 79,
     "metadata": {},
     "output_type": "execute_result"
    }
   ],
   "source": [
    "data[data['goal'] < 5]['success_rate'].mean()"
   ]
  },
  {
   "cell_type": "code",
   "execution_count": 80,
   "id": "dbaf2589",
   "metadata": {},
   "outputs": [
    {
     "data": {
      "text/plain": [
       "(8421, 37)"
      ]
     },
     "execution_count": 80,
     "metadata": {},
     "output_type": "execute_result"
    }
   ],
   "source": [
    "df = data\n",
    "if 'Unnamed: 0' in df.columns or 'succsess' in df.columns:\n",
    "    df = data.drop(columns=['Unnamed: 0', 'succsess'])\n",
    "df.shape"
   ]
  },
  {
   "cell_type": "code",
   "execution_count": 81,
   "id": "e50c000c",
   "metadata": {},
   "outputs": [
    {
     "data": {
      "text/plain": [
       "URL                0\n",
       "pled               0\n",
       "goal               0\n",
       "date               0\n",
       "period             0\n",
       "status             0\n",
       "text_am            0\n",
       "n_img              0\n",
       "n_vid              0\n",
       "n_pled_t           0\n",
       "min_pled_t         0\n",
       "max_pled_t         0\n",
       "mean_pled_t        0\n",
       "step_pled_t        0\n",
       "cr_time            0\n",
       "backed             0\n",
       "created            0\n",
       "site            2471\n",
       "rpg                0\n",
       "platformer         0\n",
       "shooter            0\n",
       "fighting           0\n",
       "survival           0\n",
       "horror             0\n",
       "strategy           0\n",
       "arcade             0\n",
       "simulator          0\n",
       "mmo                0\n",
       "indie              0\n",
       "action             0\n",
       "quest              0\n",
       "adventure          0\n",
       "mgp                0\n",
       "cont               0\n",
       "curr               0\n",
       "is_site            0\n",
       "success_rate       0\n",
       "dtype: int64"
      ]
     },
     "execution_count": 81,
     "metadata": {},
     "output_type": "execute_result"
    }
   ],
   "source": [
    "df.isnull().sum()"
   ]
  },
  {
   "cell_type": "code",
   "execution_count": 172,
   "id": "70588687",
   "metadata": {},
   "outputs": [
    {
     "data": {
      "text/plain": [
       "(['pled',\n",
       "  'goal',\n",
       "  'period',\n",
       "  'text_am',\n",
       "  'n_img',\n",
       "  'n_vid',\n",
       "  'n_pled_t',\n",
       "  'min_pled_t',\n",
       "  'max_pled_t',\n",
       "  'mean_pled_t',\n",
       "  'step_pled_t',\n",
       "  'cr_time',\n",
       "  'backed',\n",
       "  'created',\n",
       "  'mgp',\n",
       "  'cont'],\n",
       " 'success_rate')"
      ]
     },
     "execution_count": 172,
     "metadata": {},
     "output_type": "execute_result"
    }
   ],
   "source": [
    "numeric_columns = ['pled',\n",
    "  'goal',\n",
    "  'period',\n",
    "  'text_am',\n",
    "  'n_img',\n",
    "  'n_vid',\n",
    "  'n_pled_t',\n",
    "  'min_pled_t',\n",
    "  'max_pled_t',\n",
    "  'mean_pled_t',\n",
    "  'step_pled_t',\n",
    "  'cr_time',\n",
    "  'backed',\n",
    "  'created',\n",
    "  'mgp',\n",
    "  'cont']\n",
    "binary_columns = ['rpg',\n",
    "  'platformer',\n",
    "  'shooter',\n",
    "  'fighting',\n",
    "  'survival',\n",
    "  'horror',\n",
    "  'strategy',\n",
    "  'arcade',\n",
    "  'simulator',\n",
    "  'mmo',\n",
    "  'indie',\n",
    "  'action',\n",
    "  'quest',\n",
    "  'adventure',\n",
    "  'is_site']\n",
    "futures = ['text_am', 'n_img', 'n_vid', 'created', 'cont', 'mgp', 'n_pled_t']\n",
    "target_column = 'success_rate'\n",
    "numeric_columns, target_column"
   ]
  },
  {
   "cell_type": "code",
   "execution_count": 149,
   "id": "0686b077",
   "metadata": {},
   "outputs": [],
   "source": [
    "def draw_boxplots(df, numeric_columns):\n",
    "    fig, axes = plt.subplots(4, 4, figsize=(18, 40))\n",
    "    for i in range(2):\n",
    "        for j in range(4):\n",
    "            if 4 * i + j == len(numeric_columns):\n",
    "                return\n",
    "            axes[i, j].boxplot(df[numeric_columns[4 * i + j]], labels=[numeric_columns[4 * i + j]]) "
   ]
  },
  {
   "cell_type": "code",
   "execution_count": 202,
   "id": "1285cd8a",
   "metadata": {},
   "outputs": [],
   "source": [
    "def draw_hist(df, features, bar_type=None,names_dict=None):\n",
    "    bar_type = 'bar' if bar_type == None else bar_type\n",
    "    rows = 2\n",
    "    cols = 4\n",
    "    plt.subplots_adjust(wspace=0.6, hspace=0.3)\n",
    "    fig, axes = plt.subplots(rows, cols, figsize=(24, 12))\n",
    "    for i in range(rows):\n",
    "        for j in range(cols):\n",
    "            if cols * i + j == len(features):\n",
    "                return\n",
    "            \n",
    "            axes[i, j].hist(df[features[4 * i + j]], histtype=bar_type, bins=10)\n",
    "            axes[i, j].set_xlabel(f'Значение переменной {features[4 * i + j]}', size=14)\n",
    "            axes[i, j].set_ylabel(f'Количество проектов с таким {features[4 * i + j]}', size=14)"
   ]
  },
  {
   "cell_type": "code",
   "execution_count": 203,
   "id": "090624e5",
   "metadata": {},
   "outputs": [],
   "source": [
    "def draw_hist_2(df, features, bar_type=None,names_dict=None):\n",
    "    bar_type = 'bar' if bar_type == None else bar_type\n",
    "    plt.subplots_adjust(wspace=0.6, hspace=0.3)\n",
    "    rows = 7\n",
    "    \n",
    "    for i in range(rows):\n",
    "        if i == len(features):\n",
    "            return\n",
    "        fig = plt.figure(figsize=(10, 8))\n",
    "        plt.hist(df[features[i]], histtype=bar_type, bins=10)\n",
    "        fig.xlabel = f'Значение переменной {features[i]}'\n",
    "        fig.ylabel = f'Количество проектов с таким {features[i]}'"
   ]
  },
  {
   "cell_type": "code",
   "execution_count": 207,
   "id": "ca340d37",
   "metadata": {
    "scrolled": false
   },
   "outputs": [
    {
     "name": "stdout",
     "output_type": "stream",
     "text": [
      "-2.3196048878104314 2.8604102408992116\n",
      "-7.7375942406523315 27.854264975336246\n"
     ]
    },
    {
     "data": {
      "text/plain": [
       "(8103, 39)"
      ]
     },
     "execution_count": 207,
     "metadata": {},
     "output_type": "execute_result"
    },
    {
     "data": {
      "text/plain": [
       "<Figure size 432x288 with 0 Axes>"
      ]
     },
     "metadata": {},
     "output_type": "display_data"
    },
    {
     "data": {
      "image/png": "[encoded data removed]",
      "text/plain": [
       "<Figure size 1728x864 with 8 Axes>"
      ]
     },
     "metadata": {
      "needs_background": "light"
     },
     "output_type": "display_data"
    }
   ],
   "source": [
    "# Remove emissions\n",
    "df = data\n",
    "df = df[df['goal'] > 5]\n",
    "df = df[df['period'] < 80]\n",
    "\n",
    "df['site'].fillna('', inplace=True)\n",
    "\n",
    "# Using 3 sigmas rule\n",
    "n_sigmas = 3\n",
    "\n",
    "std = df['created'].std() # Taken from description\n",
    "mean = df['created'].mean()\n",
    "df = df[(df['created'] >= mean - std * n_sigmas) & (df['created'] <= mean + std * n_sigmas)]\n",
    "print(mean - std * n_sigmas, mean + std * n_sigmas)\n",
    "\n",
    "std = df['n_pled_t'].std() # Taken from description\n",
    "mean = df['n_pled_t'].mean()\n",
    "print(mean - std * n_sigmas, mean + std * n_sigmas)\n",
    "df = df[(df['n_pled_t'] >= mean - std * n_sigmas) & (df['n_pled_t'] <= mean + std * n_sigmas)]\n",
    "\n",
    "\n",
    "draw_hist(df, futures, 'bar')\n",
    "df.shape"
   ]
  },
  {
   "cell_type": "code",
   "execution_count": 87,
   "id": "067122d8",
   "metadata": {},
   "outputs": [
    {
     "data": {
      "text/plain": [
       "Unnamed: 0      0\n",
       "URL             0\n",
       "pled            0\n",
       "goal            0\n",
       "date            0\n",
       "period          0\n",
       "status          0\n",
       "text_am         0\n",
       "n_img           0\n",
       "n_vid           0\n",
       "n_pled_t        0\n",
       "min_pled_t      0\n",
       "max_pled_t      0\n",
       "mean_pled_t     0\n",
       "step_pled_t     0\n",
       "cr_time         0\n",
       "backed          0\n",
       "created         0\n",
       "site            0\n",
       "rpg             0\n",
       "platformer      0\n",
       "shooter         0\n",
       "fighting        0\n",
       "survival        0\n",
       "horror          0\n",
       "strategy        0\n",
       "arcade          0\n",
       "simulator       0\n",
       "mmo             0\n",
       "indie           0\n",
       "action          0\n",
       "quest           0\n",
       "adventure       0\n",
       "mgp             0\n",
       "cont            0\n",
       "curr            0\n",
       "succsess        0\n",
       "is_site         0\n",
       "success_rate    0\n",
       "dtype: int64"
      ]
     },
     "execution_count": 87,
     "metadata": {},
     "output_type": "execute_result"
    }
   ],
   "source": [
    "df.isna().sum()"
   ]
  },
  {
   "cell_type": "code",
   "execution_count": 88,
   "id": "4c1caeed",
   "metadata": {},
   "outputs": [
    {
     "data": {
      "text/html": [
       "<div>\n",
       "<style scoped>\n",
       "    .dataframe tbody tr th:only-of-type {\n",
       "        vertical-align: middle;\n",
       "    }\n",
       "\n",
       "    .dataframe tbody tr th {\n",
       "        vertical-align: top;\n",
       "    }\n",
       "\n",
       "    .dataframe thead th {\n",
       "        text-align: right;\n",
       "    }\n",
       "</style>\n",
       "<table border=\"1\" class=\"dataframe\">\n",
       "  <thead>\n",
       "    <tr style=\"text-align: right;\">\n",
       "      <th></th>\n",
       "      <th>text_am</th>\n",
       "      <th>n_img</th>\n",
       "      <th>n_vid</th>\n",
       "      <th>period</th>\n",
       "      <th>cont</th>\n",
       "      <th>mgp</th>\n",
       "      <th>n_pled_t</th>\n",
       "    </tr>\n",
       "  </thead>\n",
       "  <tbody>\n",
       "    <tr>\n",
       "      <th>count</th>\n",
       "      <td>8194.000000</td>\n",
       "      <td>8194.000000</td>\n",
       "      <td>8194.000000</td>\n",
       "      <td>8194.000000</td>\n",
       "      <td>8194.000000</td>\n",
       "      <td>8194.000000</td>\n",
       "      <td>8194.000000</td>\n",
       "    </tr>\n",
       "    <tr>\n",
       "      <th>mean</th>\n",
       "      <td>1131.966195</td>\n",
       "      <td>14.340371</td>\n",
       "      <td>0.749695</td>\n",
       "      <td>33.537344</td>\n",
       "      <td>0.224063</td>\n",
       "      <td>3.213599</td>\n",
       "      <td>10.058335</td>\n",
       "    </tr>\n",
       "    <tr>\n",
       "      <th>std</th>\n",
       "      <td>915.530566</td>\n",
       "      <td>16.606354</td>\n",
       "      <td>1.336821</td>\n",
       "      <td>10.126667</td>\n",
       "      <td>0.137587</td>\n",
       "      <td>4.057055</td>\n",
       "      <td>5.931977</td>\n",
       "    </tr>\n",
       "    <tr>\n",
       "      <th>min</th>\n",
       "      <td>0.000000</td>\n",
       "      <td>0.000000</td>\n",
       "      <td>0.000000</td>\n",
       "      <td>1.000000</td>\n",
       "      <td>0.000000</td>\n",
       "      <td>0.000000</td>\n",
       "      <td>1.000000</td>\n",
       "    </tr>\n",
       "    <tr>\n",
       "      <th>25%</th>\n",
       "      <td>420.000000</td>\n",
       "      <td>1.000000</td>\n",
       "      <td>0.000000</td>\n",
       "      <td>30.000000</td>\n",
       "      <td>0.148704</td>\n",
       "      <td>0.230400</td>\n",
       "      <td>6.000000</td>\n",
       "    </tr>\n",
       "    <tr>\n",
       "      <th>50%</th>\n",
       "      <td>883.000000</td>\n",
       "      <td>8.000000</td>\n",
       "      <td>0.000000</td>\n",
       "      <td>30.000000</td>\n",
       "      <td>0.268624</td>\n",
       "      <td>1.766246</td>\n",
       "      <td>9.000000</td>\n",
       "    </tr>\n",
       "    <tr>\n",
       "      <th>75%</th>\n",
       "      <td>1592.000000</td>\n",
       "      <td>23.000000</td>\n",
       "      <td>1.000000</td>\n",
       "      <td>33.000000</td>\n",
       "      <td>0.321691</td>\n",
       "      <td>4.681821</td>\n",
       "      <td>13.000000</td>\n",
       "    </tr>\n",
       "    <tr>\n",
       "      <th>max</th>\n",
       "      <td>6042.000000</td>\n",
       "      <td>174.000000</td>\n",
       "      <td>16.000000</td>\n",
       "      <td>79.000000</td>\n",
       "      <td>0.894847</td>\n",
       "      <td>49.141376</td>\n",
       "      <td>103.000000</td>\n",
       "    </tr>\n",
       "  </tbody>\n",
       "</table>\n",
       "</div>"
      ],
      "text/plain": [
       "           text_am        n_img        n_vid       period         cont  \\\n",
       "count  8194.000000  8194.000000  8194.000000  8194.000000  8194.000000   \n",
       "mean   1131.966195    14.340371     0.749695    33.537344     0.224063   \n",
       "std     915.530566    16.606354     1.336821    10.126667     0.137587   \n",
       "min       0.000000     0.000000     0.000000     1.000000     0.000000   \n",
       "25%     420.000000     1.000000     0.000000    30.000000     0.148704   \n",
       "50%     883.000000     8.000000     0.000000    30.000000     0.268624   \n",
       "75%    1592.000000    23.000000     1.000000    33.000000     0.321691   \n",
       "max    6042.000000   174.000000    16.000000    79.000000     0.894847   \n",
       "\n",
       "               mgp     n_pled_t  \n",
       "count  8194.000000  8194.000000  \n",
       "mean      3.213599    10.058335  \n",
       "std       4.057055     5.931977  \n",
       "min       0.000000     1.000000  \n",
       "25%       0.230400     6.000000  \n",
       "50%       1.766246     9.000000  \n",
       "75%       4.681821    13.000000  \n",
       "max      49.141376   103.000000  "
      ]
     },
     "execution_count": 88,
     "metadata": {},
     "output_type": "execute_result"
    }
   ],
   "source": [
    "# Descriptive statistics\n",
    "desc = df[futures].describe()\n",
    "desc.append(pd.Series(df[futures].median(), index=futures, name='median'))\n",
    "desc"
   ]
  },
  {
   "cell_type": "code",
   "execution_count": 99,
   "id": "7ef06b3f",
   "metadata": {},
   "outputs": [
    {
     "data": {
      "image/png": "[encoded data removed]",
      "text/plain": [
       "<Figure size 432x288 with 1 Axes>"
      ]
     },
     "metadata": {
      "needs_background": "light"
     },
     "output_type": "display_data"
    }
   ],
   "source": [
    "xs = []\n",
    "ys = []\n",
    "\n",
    "\n",
    "for vids in sorted(df['n_vid'].unique()):\n",
    "    mean_sr = df[df['n_vid'] == vids]['success_rate'].mean()\n",
    "    if df[df['n_vid'] == vids].shape[0] > 5:\n",
    "        xs.append(vids)\n",
    "        ys.append(mean_sr)\n",
    "    \n",
    "plt.plot(xs, ys) \n",
    "plt.xlabel = 'Количество видео'\n",
    "plt.ylabel = 'Среднее отношения pled / goal'"
   ]
  },
  {
   "cell_type": "code",
   "execution_count": 208,
   "id": "99c79bf5",
   "metadata": {},
   "outputs": [
    {
     "data": {
      "image/png": "[encoded data removed]",
      "text/plain": [
       "<Figure size 432x288 with 1 Axes>"
      ]
     },
     "metadata": {
      "needs_background": "light"
     },
     "output_type": "display_data"
    }
   ],
   "source": [
    "xs = []\n",
    "ys = []\n",
    "\n",
    "\n",
    "for vids in sorted(df['n_pled_t'].unique()):\n",
    "    mean_sr = df[df['n_pled_t'] == vids]['success_rate'].mean()\n",
    "    if df[df['n_pled_t'] == vids].shape[0] > 7:\n",
    "        xs.append(vids)\n",
    "        ys.append(mean_sr)\n",
    "    \n",
    "plt.plot(xs, ys) \n",
    "plt.xlabel = 'Количество категорий доната'\n",
    "plt.ylabel = 'Среднее отношения pled / goal'"
   ]
  },
  {
   "cell_type": "code",
   "execution_count": 225,
   "id": "8abfa332",
   "metadata": {
    "scrolled": false
   },
   "outputs": [
    {
     "name": "stdout",
     "output_type": "stream",
     "text": [
      "text_am: \n",
      "A = 7.848168122073097e-11\n",
      "E = 1.027324355082657e-13\n",
      "n_img: \n",
      "A = 2.106140465521553e-05\n",
      "E = 1.1289713353608714e-06\n",
      "n_vid: \n",
      "A = 0.040964830177422445\n",
      "E = 0.02809140862737339\n",
      "created: \n",
      "A = 0.9288554773712707\n",
      "E = 1.8720700040886735\n",
      "cont: \n",
      "A = -0.04904911383189113\n",
      "E = 1.0494335946480908\n",
      "mgp: \n",
      "A = 0.003065610693193213\n",
      "E = 0.001270277809131886\n",
      "n_pled_t: \n",
      "A = 0.0\n",
      "E = 0.0\n"
     ]
    }
   ],
   "source": [
    "# Рассчет эксцесса и ассиметрии\n",
    "for col in futures:\n",
    "\n",
    "    new_set = df[[col]]\n",
    "    v = [0] * 10\n",
    "    mx = max(new_set['n_img'])\n",
    "    for i in range(len(new_set[col])):\n",
    "        if i in new_set[col]:\n",
    "            if int(new_set[col][i] // (mx // 10)) > 9:\n",
    "                continue\n",
    "            v[int(new_set[col][i] // (mx // 10))] += 1\n",
    "    \n",
    "#     print('x * n')\n",
    "    xn = []\n",
    "    for i in range(len(v)):\n",
    "        xn.append((0.1 + i * 0.2) * v[i])\n",
    "    xv = sum(xn) / sum(v) # выборочная средняя\n",
    "#     print(sum(v))\n",
    "    cm2s = [] # центральный момент 2 порядка\n",
    "    cm3s = [] # центральный момент 3 порядка\n",
    "    cm4s = [] # центральный момент 4 порядка\n",
    "    for i in range(len(v)):\n",
    "        cm2s.append((0.1 + i * 0.2 - xv) ** 2 * v[i])\n",
    "        cm3s.append(((0.1 + i * 0.2 - xv) ** 3 * v[i]))\n",
    "        cm4s.append(((0.1 + i * 0.2 - xv) ** 4 * v[i]))\n",
    "#     print(sum(cm2s))\n",
    "#     print(sum(cm3s))\n",
    "#     print(sum(cm4s))\n",
    "    disp = new_set[col].var() # выборочная дисперсия\n",
    "#     print(disp)\n",
    "    delt = disp ** 0.5 # нормальное отклонение\n",
    "#     print(delt)\n",
    "    cm3 = sum(cm3s) / sum(v) \n",
    "#     print(cm3)\n",
    "    cm4 = sum(cm4s) / sum(v) \n",
    "#     print(cm4)\n",
    "    print(f\"{col}: \")\n",
    "    print(\"A =\", str(cm3 / delt ** 3))\n",
    "    print(\"E =\", str(cm4 / delt ** 4))"
   ]
  },
  {
   "cell_type": "code",
   "execution_count": 221,
   "id": "e47553d4",
   "metadata": {},
   "outputs": [],
   "source": [
    "# Linear models\n",
    "import pandas as pd\n",
    "from sklearn.linear_model import LinearRegression, Lasso, Ridge, ElasticNet\n",
    "from sklearn.metrics import accuracy_score, roc_auc_score, mean_squared_error\n",
    "from sklearn.preprocessing import StandardScaler\n",
    "from sklearn.model_selection import cross_validate, train_test_split\n",
    "import numpy as np"
   ]
  },
  {
   "cell_type": "code",
   "execution_count": 53,
   "id": "4392de75",
   "metadata": {},
   "outputs": [],
   "source": [
    "numeric_columns = [\n",
    "#   'pled',\n",
    "  'goal',\n",
    "#   'period',\n",
    "  'text_am',\n",
    "  'n_img',\n",
    "  'n_vid',\n",
    "  'n_pled_t',\n",
    "  'min_pled_t',\n",
    "  'max_pled_t',\n",
    "  'mean_pled_t',\n",
    "  'step_pled_t',\n",
    "  'cr_time',\n",
    "  'backed',\n",
    "  'created',\n",
    "  'mgp',\n",
    "  'cont']\n",
    "binary_columns = ['rpg',\n",
    "  'platformer',\n",
    "  'shooter',\n",
    "  'fighting',\n",
    "  'survival',\n",
    "  'horror',\n",
    "  'strategy',\n",
    "  'arcade',\n",
    "  'simulator',\n",
    "  'mmo',\n",
    "  'indie',\n",
    "  'action',\n",
    "  'quest',\n",
    "  'adventure',\n",
    "  'is_site']\n",
    "columns = numeric_columns + binary_columns"
   ]
  },
  {
   "cell_type": "code",
   "execution_count": 100,
   "id": "26d2fa72",
   "metadata": {},
   "outputs": [],
   "source": [
    "def test_mse(model, X, y):\n",
    "    preds = model.predict(X)\n",
    "    mse = mean_squared_error(y, preds)\n",
    "    \n",
    "    return mse"
   ]
  },
  {
   "cell_type": "code",
   "execution_count": 101,
   "id": "3402f74a",
   "metadata": {},
   "outputs": [],
   "source": [
    "train_X, test_X, train_y, test_y = train_test_split(df[columns], df[target_column], train_size=0.8)"
   ]
  },
  {
   "cell_type": "code",
   "execution_count": 102,
   "id": "826369cc",
   "metadata": {},
   "outputs": [],
   "source": [
    "scaler = StandardScaler()\n",
    "\n",
    "train_data = scaler.fit_transform(train_X)\n",
    "test_x_data = scaler.transform(test_X)\n",
    "test_y_data = test_y"
   ]
  },
  {
   "cell_type": "code",
   "execution_count": 103,
   "id": "8947a889",
   "metadata": {},
   "outputs": [
    {
     "data": {
      "text/plain": [
       "(371721.6529566447,\n",
       " 1860161.9860698434,\n",
       " array([ -5.74012332,  -4.7159362 , -36.44766104,  33.23114505,\n",
       "         -8.39274422,   7.63879727,  -1.75575513, -22.96014958,\n",
       "         13.79243405,  19.12413078,   0.38128728,   8.23033738,\n",
       "         54.89605256,   9.6221342 ,  21.91944892,  24.50257488,\n",
       "         -1.86547011,  -9.02226754, -11.46711642,  19.84944581,\n",
       "         -5.27562449,   2.37126817,  13.80306482,  -2.93825946,\n",
       "         -0.89877999,  -8.56170218,  16.07596588,   7.88923264,\n",
       "         11.93290456]))"
      ]
     },
     "execution_count": 103,
     "metadata": {},
     "output_type": "execute_result"
    }
   ],
   "source": [
    "# Simple Linear Regression\n",
    "model = LinearRegression()\n",
    "model.fit(train_data, train_y)\n",
    "\n",
    "test_mse(model, train_data, train_y), test_mse(model, test_x_data, test_y_data), model.coef_"
   ]
  },
  {
   "cell_type": "code",
   "execution_count": 104,
   "id": "83c84023",
   "metadata": {},
   "outputs": [
    {
     "data": {
      "text/plain": [
       "(371777.4121988419,\n",
       " 1859695.6052475332,\n",
       " array([ -5.34163745,  -4.1670915 , -28.39681835,  32.30655044,\n",
       "         -8.25159358,   3.55609035,  -2.94218731, -13.2208398 ,\n",
       "          5.94355246,  18.78593329,   0.        ,   7.76020812,\n",
       "         46.8275335 ,   8.2736885 ,  20.46064784,  23.45835672,\n",
       "         -1.23695682,  -8.2814898 , -10.61275451,  18.51337128,\n",
       "         -4.84374565,   0.9098175 ,  12.56889488,  -2.25937694,\n",
       "         -0.        ,  -7.80795162,  14.95695369,   6.90529121,\n",
       "         10.61589044]))"
      ]
     },
     "execution_count": 104,
     "metadata": {},
     "output_type": "execute_result"
    }
   ],
   "source": [
    "# Testing regression /w L1 regularization\n",
    "lasso = Lasso()\n",
    "lasso.fit(train_data, train_y)\n",
    "\n",
    "test_mse(lasso, train_data, train_y), test_mse(lasso, test_x_data, test_y_data), lasso.coef_"
   ]
  },
  {
   "cell_type": "code",
   "execution_count": 105,
   "id": "3898e20d",
   "metadata": {},
   "outputs": [
    {
     "data": {
      "text/plain": [
       "(371721.65406636964,\n",
       " 1860159.354592906,\n",
       " array([ -5.73998864,  -4.72010777, -36.38832265,  33.2271543 ,\n",
       "         -8.39031086,   7.62471226,  -1.77523341, -22.91695926,\n",
       "         13.77110992,  19.12203788,   0.38164243,   8.23035503,\n",
       "         54.84019337,   9.62044969,  21.91520492,  24.49788953,\n",
       "         -1.8662178 ,  -9.0215424 , -11.46513944,  19.84589472,\n",
       "         -5.27531488,   2.3699608 ,  13.8007962 ,  -2.93763078,\n",
       "         -0.89951327,  -8.56094741,  16.07345319,   7.88759158,\n",
       "         11.9311213 ]))"
      ]
     },
     "execution_count": 105,
     "metadata": {},
     "output_type": "execute_result"
    }
   ],
   "source": [
    "# Testing regression /w L2 regularization\n",
    "ridge = Ridge()\n",
    "ridge.fit(train_data, train_y)\n",
    "\n",
    "test_mse(ridge, train_data, train_y), test_mse(ridge, test_x_data, test_y_data), ridge.coef_"
   ]
  },
  {
   "cell_type": "code",
   "execution_count": 106,
   "id": "bf85f27a",
   "metadata": {},
   "outputs": [
    {
     "data": {
      "text/plain": [
       "(372657.1273233606,\n",
       " 1859003.853406725,\n",
       " array([-4.30381049e+00, -1.54116961e+00, -5.47978045e-01,  2.20814440e+01,\n",
       "        -2.85288466e+00,  8.29517136e-01, -4.10847615e+00, -5.21201635e+00,\n",
       "         3.69935214e-01,  1.35930037e+01,  1.64345240e+00,  7.36276090e+00,\n",
       "         1.62768905e+01,  6.94658158e+00,  1.33170773e+01,  1.57063716e+01,\n",
       "        -2.10224988e+00, -5.63785168e+00, -6.99584716e+00,  1.23792723e+01,\n",
       "        -4.54044020e+00,  1.76409052e-01,  8.48878533e+00, -2.04416460e+00,\n",
       "         6.22309120e-03, -5.26193931e+00,  1.08182891e+01,  5.98534750e+00,\n",
       "         7.80109879e+00]))"
      ]
     },
     "execution_count": 106,
     "metadata": {},
     "output_type": "execute_result"
    }
   ],
   "source": [
    "elastic = ElasticNet()\n",
    "elastic.fit(train_data, train_y)\n",
    "\n",
    "test_mse(elastic, train_data, train_y), test_mse(elastic, test_x_data, test_y_data), elastic.coef_"
   ]
  },
  {
   "cell_type": "code",
   "execution_count": 107,
   "id": "72650025",
   "metadata": {},
   "outputs": [
    {
     "data": {
      "text/plain": [
       "{'mgp': 43.21016749329429,\n",
       " 'n_vid': 30.211573436584086,\n",
       " 'n_img': -25.445195021563677,\n",
       " 'platformer': 22.04129818510761,\n",
       " 'rpg': 19.403094736946187,\n",
       " 'cr_time': 17.656276413966733,\n",
       " 'horror': 17.64699602437806,\n",
       " 'mean_pled_t': -16.077491247398832,\n",
       " 'quest': 14.481165474528897,\n",
       " 'simulator': 12.165385307913473,\n",
       " 'is_site': 10.570253770493364,\n",
       " 'survival': -10.135214381917498,\n",
       " 'cont': 8.615713493951546,\n",
       " 'step_pled_t': 8.46925791101513,\n",
       " 'fighting': -7.990787853218,\n",
       " 'created': 7.895915356836417,\n",
       " 'action': -7.548135130328255,\n",
       " 'adventure': 7.166865734111838,\n",
       " 'n_pled_t': -6.971883328655738,\n",
       " 'goal': -5.281389974928035,\n",
       " 'strategy': -4.98378130167586,\n",
       " 'min_pled_t': 4.912279255243652,\n",
       " 'text_am': -3.7860762690541163,\n",
       " 'max_pled_t': -2.645413000993173,\n",
       " 'mmo': -2.544857943322742,\n",
       " 'shooter': -1.7677236520100728,\n",
       " 'arcade': 1.456863881270807,\n",
       " 'backed': 0.6015955276514187,\n",
       " 'indie': -0.448017543375672}"
      ]
     },
     "execution_count": 107,
     "metadata": {},
     "output_type": "execute_result"
    }
   ],
   "source": [
    "# Get mean coeffs for futures\n",
    "coeffs = np.zeros((29))\n",
    "rounds = 20\n",
    "for i in range(20):\n",
    "    scaler = StandardScaler()\n",
    "\n",
    "    train_data = scaler.fit_transform(train_X)\n",
    "    test_x_data = scaler.transform(test_X)\n",
    "    test_y_data = test_y\n",
    "    \n",
    "    model = LinearRegression()\n",
    "    model.fit(train_data, train_y)\n",
    "    coeffs += model.coef_\n",
    "    \n",
    "    lasso = Lasso()\n",
    "    lasso.fit(train_data, train_y)\n",
    "    coeffs += lasso.coef_\n",
    "    \n",
    "    ridge = Ridge()\n",
    "    ridge.fit(train_data, train_y)\n",
    "    coeffs += ridge.coef_\n",
    "    \n",
    "    elastic = ElasticNet()\n",
    "    elastic.fit(train_data, train_y)\n",
    "    coeffs += elastic.coef_\n",
    "    \n",
    "mean_coeffs = coeffs / (rounds * 4)\n",
    "{k: v for k, v in sorted([(k, v) for k, v in zip(columns, mean_coeffs)], key=lambda x: abs(x[1]), reverse=True)}"
   ]
  },
  {
   "cell_type": "code",
   "execution_count": 108,
   "id": "698ed2c0",
   "metadata": {},
   "outputs": [],
   "source": [
    "# Neural network\n",
    "import numpy as np\n",
    "import pandas as pd\n",
    "import torch\n",
    "from torch import nn\n",
    "import torch.nn.functional as F\n",
    "from torch.optim import Adam\n",
    "from sklearn.model_selection import train_test_split\n",
    "from tqdm.notebook import tqdm\n",
    "from matplotlib import pyplot as plt"
   ]
  },
  {
   "cell_type": "code",
   "execution_count": 109,
   "id": "81b0135b",
   "metadata": {},
   "outputs": [],
   "source": [
    "def get_type(rate):\n",
    "    type_ = 0\n",
    "    for i in np.linspace(0, 175, 8):\n",
    "        if rate < i + 25:\n",
    "            return type_\n",
    "        type_ += 1\n",
    "    return 8"
   ]
  },
  {
   "cell_type": "code",
   "execution_count": 110,
   "id": "059452c9",
   "metadata": {},
   "outputs": [],
   "source": [
    "# Add success type\n",
    "\n",
    "types = []\n",
    "\n",
    "for idx, row in df.iterrows():\n",
    "    types.append(get_type(row[-1]))\n",
    "\n",
    "types = pd.Series(types, dtype=int)\n",
    "df = df.assign(succes_type=types.values)\n",
    "if 'success_rate' in df.columns:\n",
    "    df = df.drop(columns='success_rate')\n",
    "if 'success' in df.columns:\n",
    "    df = df.drop(columns='success')"
   ]
  },
  {
   "cell_type": "code",
   "execution_count": 111,
   "id": "eb06afaf",
   "metadata": {},
   "outputs": [
    {
     "data": {
      "text/plain": [
       "Index(['Unnamed: 0', 'URL', 'pled', 'goal', 'date', 'period', 'status',\n",
       "       'text_am', 'n_img', 'n_vid', 'n_pled_t', 'min_pled_t', 'max_pled_t',\n",
       "       'mean_pled_t', 'step_pled_t', 'cr_time', 'backed', 'created', 'site',\n",
       "       'rpg', 'platformer', 'shooter', 'fighting', 'survival', 'horror',\n",
       "       'strategy', 'arcade', 'simulator', 'mmo', 'indie', 'action', 'quest',\n",
       "       'adventure', 'mgp', 'cont', 'curr', 'succsess', 'is_site',\n",
       "       'succes_type'],\n",
       "      dtype='object')"
      ]
     },
     "execution_count": 111,
     "metadata": {},
     "output_type": "execute_result"
    }
   ],
   "source": [
    "df.columns"
   ]
  },
  {
   "cell_type": "code",
   "execution_count": 112,
   "id": "4b8fb26c",
   "metadata": {},
   "outputs": [
    {
     "name": "stdout",
     "output_type": "stream",
     "text": [
      "['goal', 'text_am', 'n_img', 'n_vid', 'n_pled_t', 'min_pled_t', 'max_pled_t', 'mean_pled_t', 'step_pled_t', 'cr_time', 'backed', 'created', 'mgp', 'cont', 'rpg', 'platformer', 'shooter', 'fighting', 'survival', 'horror', 'strategy', 'arcade', 'simulator', 'mmo', 'indie', 'action', 'quest', 'adventure', 'is_site'] succes_type\n"
     ]
    }
   ],
   "source": [
    "numeric_columns = [\n",
    "#   'pled',\n",
    "  'goal',\n",
    "#   'period',\n",
    "  'text_am',\n",
    "  'n_img',\n",
    "  'n_vid',\n",
    "  'n_pled_t',\n",
    "  'min_pled_t',\n",
    "  'max_pled_t',\n",
    "  'mean_pled_t',\n",
    "  'step_pled_t',\n",
    "  'cr_time',\n",
    "  'backed',\n",
    "  'created',\n",
    "  'mgp',\n",
    "  'cont']\n",
    "binary_columns = ['rpg',\n",
    "  'platformer',\n",
    "  'shooter',\n",
    "  'fighting',\n",
    "  'survival',\n",
    "  'horror',\n",
    "  'strategy',\n",
    "  'arcade',\n",
    "  'simulator',\n",
    "  'mmo',\n",
    "  'indie',\n",
    "  'action',\n",
    "  'quest',\n",
    "  'adventure',\n",
    "  'is_site']\n",
    "\n",
    "numeric_data = numeric_columns + binary_columns\n",
    "target_col = df.corr().columns[-1]\n",
    "\n",
    "print(numeric_data, target_col)\n",
    "\n",
    "dataset = df[numeric_data]\n",
    "target = df[target_col]"
   ]
  },
  {
   "cell_type": "code",
   "execution_count": 113,
   "id": "9b464858",
   "metadata": {},
   "outputs": [],
   "source": [
    "model = nn.Sequential(\n",
    "    nn.BatchNorm1d(28),\n",
    "    nn.Linear(28, 24),\n",
    "    nn.ReLU(),\n",
    "    nn.BatchNorm1d(24),\n",
    "    nn.Linear(24, 20),\n",
    "    nn.ReLU(),\n",
    "    nn.BatchNorm1d(20),\n",
    "    nn.Linear(20, 10))\n",
    "\n",
    "optimizer = Adam(model.parameters())\n",
    "loss_fn = F.cross_entropy"
   ]
  },
  {
   "cell_type": "code",
   "execution_count": 114,
   "id": "0db63826",
   "metadata": {},
   "outputs": [],
   "source": [
    "class MyDataset:\n",
    "    def __init__(self, df):\n",
    "        self.df = pd.DataFrame(data=df)\n",
    "    \n",
    "    def __len__(self):\n",
    "        return self.df.shape[0]\n",
    "    \n",
    "    def __getitem__(self, i):\n",
    "        return torch.Tensor(self.df.iloc[i])[:-1], torch.Tensor(self.df.iloc[i])[-1].to(torch.long)"
   ]
  },
  {
   "cell_type": "code",
   "execution_count": 115,
   "id": "a2b9a119",
   "metadata": {},
   "outputs": [],
   "source": [
    "from torch.utils.data import DataLoader\n",
    "\n",
    "\n",
    "train, test = train_test_split(dataset, train_size=0.8)\n",
    "\n",
    "train_loader = DataLoader(MyDataset(train), batch_size=24, shuffle=True)\n",
    "test_loader = DataLoader(MyDataset(test), batch_size=24)"
   ]
  },
  {
   "cell_type": "code",
   "execution_count": 116,
   "id": "828bfa37",
   "metadata": {},
   "outputs": [
    {
     "data": {
      "application/vnd.jupyter.widget-view+json": {
       "model_id": "9ee28568b93c49b4bbae4da8d5564c7e",
       "version_major": 2,
       "version_minor": 0
      },
      "text/plain": [
       "  0%|          | 0/10 [00:00<?, ?it/s]"
      ]
     },
     "metadata": {},
     "output_type": "display_data"
    },
    {
     "data": {
      "application/vnd.jupyter.widget-view+json": {
       "model_id": "bd9873524ba94f0a93de7280681de4ed",
       "version_major": 2,
       "version_minor": 0
      },
      "text/plain": [
       "  0%|          | 0/271 [00:00<?, ?it/s]"
      ]
     },
     "metadata": {},
     "output_type": "display_data"
    },
    {
     "name": "stdout",
     "output_type": "stream",
     "text": [
      "loss: tensor(1.6762)\n",
      "accuracy:  tensor(0.5838)\n"
     ]
    },
    {
     "data": {
      "application/vnd.jupyter.widget-view+json": {
       "model_id": "28370f6d69d1451381a59d1f93cbae2c",
       "version_major": 2,
       "version_minor": 0
      },
      "text/plain": [
       "  0%|          | 0/271 [00:00<?, ?it/s]"
      ]
     },
     "metadata": {},
     "output_type": "display_data"
    },
    {
     "name": "stdout",
     "output_type": "stream",
     "text": [
      "loss: tensor(0.6663)\n",
      "accuracy:  tensor(0.7335)\n"
     ]
    },
    {
     "data": {
      "application/vnd.jupyter.widget-view+json": {
       "model_id": "abd767aa3c614160aa4672250d5aa1b2",
       "version_major": 2,
       "version_minor": 0
      },
      "text/plain": [
       "  0%|          | 0/271 [00:00<?, ?it/s]"
      ]
     },
     "metadata": {},
     "output_type": "display_data"
    },
    {
     "name": "stdout",
     "output_type": "stream",
     "text": [
      "loss: tensor(0.5518)\n",
      "accuracy:  tensor(0.7382)\n"
     ]
    },
    {
     "data": {
      "application/vnd.jupyter.widget-view+json": {
       "model_id": "ea5aa862f65b405994fd4f57698455bd",
       "version_major": 2,
       "version_minor": 0
      },
      "text/plain": [
       "  0%|          | 0/271 [00:00<?, ?it/s]"
      ]
     },
     "metadata": {},
     "output_type": "display_data"
    },
    {
     "name": "stdout",
     "output_type": "stream",
     "text": [
      "loss: tensor(0.5276)\n",
      "accuracy:  tensor(0.7454)\n"
     ]
    },
    {
     "data": {
      "application/vnd.jupyter.widget-view+json": {
       "model_id": "41eaad3a9655485593fbac07fd6d4209",
       "version_major": 2,
       "version_minor": 0
      },
      "text/plain": [
       "  0%|          | 0/271 [00:00<?, ?it/s]"
      ]
     },
     "metadata": {},
     "output_type": "display_data"
    },
    {
     "name": "stdout",
     "output_type": "stream",
     "text": [
      "loss: tensor(0.5235)\n",
      "accuracy:  tensor(0.7435)\n"
     ]
    },
    {
     "data": {
      "application/vnd.jupyter.widget-view+json": {
       "model_id": "b7031389c4dc4dcd9940eb5f36f6eca6",
       "version_major": 2,
       "version_minor": 0
      },
      "text/plain": [
       "  0%|          | 0/271 [00:00<?, ?it/s]"
      ]
     },
     "metadata": {},
     "output_type": "display_data"
    },
    {
     "name": "stdout",
     "output_type": "stream",
     "text": [
      "loss: tensor(0.5132)\n",
      "accuracy:  tensor(0.7483)\n"
     ]
    },
    {
     "data": {
      "application/vnd.jupyter.widget-view+json": {
       "model_id": "cae4961ea85a465db0aaf21ecb8d97d8",
       "version_major": 2,
       "version_minor": 0
      },
      "text/plain": [
       "  0%|          | 0/271 [00:00<?, ?it/s]"
      ]
     },
     "metadata": {},
     "output_type": "display_data"
    },
    {
     "name": "stdout",
     "output_type": "stream",
     "text": [
      "loss: tensor(0.5141)\n",
      "accuracy:  tensor(0.7443)\n"
     ]
    },
    {
     "data": {
      "application/vnd.jupyter.widget-view+json": {
       "model_id": "40b1bfa4a5ba44aebeb31b77396a54a3",
       "version_major": 2,
       "version_minor": 0
      },
      "text/plain": [
       "  0%|          | 0/271 [00:00<?, ?it/s]"
      ]
     },
     "metadata": {},
     "output_type": "display_data"
    },
    {
     "name": "stdout",
     "output_type": "stream",
     "text": [
      "loss: tensor(0.5114)\n",
      "accuracy:  tensor(0.7477)\n"
     ]
    },
    {
     "data": {
      "application/vnd.jupyter.widget-view+json": {
       "model_id": "a6dda6e2be464463b4d1ae11b5d7f79c",
       "version_major": 2,
       "version_minor": 0
      },
      "text/plain": [
       "  0%|          | 0/271 [00:00<?, ?it/s]"
      ]
     },
     "metadata": {},
     "output_type": "display_data"
    },
    {
     "name": "stdout",
     "output_type": "stream",
     "text": [
      "loss: tensor(0.5124)\n",
      "accuracy:  tensor(0.7457)\n"
     ]
    },
    {
     "data": {
      "application/vnd.jupyter.widget-view+json": {
       "model_id": "a165d17fd6204afc85e9716ec144e508",
       "version_major": 2,
       "version_minor": 0
      },
      "text/plain": [
       "  0%|          | 0/271 [00:00<?, ?it/s]"
      ]
     },
     "metadata": {},
     "output_type": "display_data"
    },
    {
     "name": "stdout",
     "output_type": "stream",
     "text": [
      "loss: tensor(0.5145)\n",
      "accuracy:  tensor(0.7485)\n"
     ]
    }
   ],
   "source": [
    "model.train()\n",
    "\n",
    "losses = []\n",
    "accuracies = []\n",
    "\n",
    "for epochs in tqdm(range(10)):\n",
    "    epoch_losses = []\n",
    "    epoch_accuracies = []\n",
    "    for xb, yb in tqdm(train_loader):\n",
    "        accuracy = 0\n",
    "        correct_answers = 0\n",
    "        \n",
    "        optimizer.zero_grad()\n",
    "\n",
    "        outp = model(xb)\n",
    "        loss = loss_fn(outp, yb)\n",
    "\n",
    "        loss.backward()\n",
    "        optimizer.step()\n",
    "        \n",
    "        epoch_losses.append(loss.item())\n",
    "        \n",
    "        correct_answers = (outp.argmax(-1) == yb).sum()\n",
    "        accuracy = correct_answers / xb.shape[0]\n",
    "        epoch_accuracies.append(accuracy)\n",
    "    \n",
    "    losses.append(torch.tensor(epoch_losses).mean())\n",
    "    accuracies.append(torch.tensor(epoch_accuracies).mean())\n",
    "    \n",
    "    print('loss:', losses[-1])\n",
    "    print('accuracy: ', accuracies[-1])"
   ]
  },
  {
   "cell_type": "code",
   "execution_count": 117,
   "id": "f6bded0b",
   "metadata": {},
   "outputs": [
    {
     "data": {
      "text/plain": [
       "[<matplotlib.lines.Line2D at 0x24c70c5f5e0>]"
      ]
     },
     "execution_count": 117,
     "metadata": {},
     "output_type": "execute_result"
    },
    {
     "data": {
      "image/png": "[encoded data removed]",
      "text/plain": [
       "<Figure size 1008x720 with 1 Axes>"
      ]
     },
     "metadata": {
      "needs_background": "light"
     },
     "output_type": "display_data"
    },
    {
     "data": {
      "image/png": "[encoded data removed]",
      "text/plain": [
       "<Figure size 1008x720 with 1 Axes>"
      ]
     },
     "metadata": {
      "needs_background": "light"
     },
     "output_type": "display_data"
    }
   ],
   "source": [
    "plt.figure(figsize=(14, 10))\n",
    "plt.plot(range(epochs + 1), losses, label='loss')\n",
    "\n",
    "plt.figure(figsize=(14, 10))\n",
    "plt.plot(range(epochs + 1), accuracies, label='accuracy', c='r')"
   ]
  },
  {
   "cell_type": "code",
   "execution_count": 118,
   "id": "add10015",
   "metadata": {},
   "outputs": [
    {
     "data": {
      "text/plain": [
       "tensor(0.7341)"
      ]
     },
     "execution_count": 118,
     "metadata": {},
     "output_type": "execute_result"
    }
   ],
   "source": [
    "model.eval()\n",
    "\n",
    "losses = []\n",
    "accuracies = []\n",
    "\n",
    "for xb, yb in test_loader:\n",
    "    with torch.no_grad():\n",
    "        outp = model(xb)\n",
    "        correct_answers = (outp.argmax(-1) == yb).sum()\n",
    "        accuracy = correct_answers / xb.shape[0]\n",
    "        accuracies.append(accuracy)\n",
    "torch.Tensor(accuracies).mean()"
   ]
  },
  {
   "cell_type": "code",
   "execution_count": 119,
   "id": "3e4505af",
   "metadata": {},
   "outputs": [
    {
     "data": {
      "text/plain": [
       "[<matplotlib.lines.Line2D at 0x24c758d8460>]"
      ]
     },
     "execution_count": 119,
     "metadata": {},
     "output_type": "execute_result"
    },
    {
     "data": {
      "image/png": "[encoded data removed]",
      "text/plain": [
       "<Figure size 1008x720 with 1 Axes>"
      ]
     },
     "metadata": {
      "needs_background": "light"
     },
     "output_type": "display_data"
    }
   ],
   "source": [
    "plt.figure(figsize=(14, 10))\n",
    "plt.plot(np.arange(len(test_loader)), accuracies, label='accuracy', c='r')"
   ]
  },
  {
   "cell_type": "code",
   "execution_count": null,
   "id": "8270a0da",
   "metadata": {},
   "outputs": [],
   "source": []
  }
 ],
 "metadata": {
  "kernelspec": {
   "display_name": "Python 3 (ipykernel)",
   "language": "python",
   "name": "python3"
  },
  "language_info": {
   "codemirror_mode": {
    "name": "ipython",
    "version": 3
   },
   "file_extension": ".py",
   "mimetype": "text/x-python",
   "name": "python",
   "nbconvert_exporter": "python",
   "pygments_lexer": "ipython3",
   "version": "3.8.11"
  }
 },
 "nbformat": 4,
 "nbformat_minor": 5
}
