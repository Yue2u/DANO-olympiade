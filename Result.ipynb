{
 "cells": [
  {
   "cell_type": "code",
   "execution_count": 38,
   "id": "35b7636f",
   "metadata": {},
   "outputs": [],
   "source": [
    "import pandas as pd\n",
    "from sklearn.linear_model import LinearRegression, Lasso, Ridge, ElasticNet\n",
    "from sklearn.metrics import mean_squared_error\n",
    "from sklearn.preprocessing import StandardScaler\n",
    "from sklearn.model_selection import cross_validate, train_test_split\n",
    "import numpy as np\n",
    "from matplotlib import pyplot as plt\n",
    "from matplotlib.backends.backend_pdf import PdfPages\n",
    "from pandas import DataFrame"
   ]
  },
  {
   "cell_type": "code",
   "execution_count": 39,
   "id": "29145dfb",
   "metadata": {},
   "outputs": [
    {
     "data": {
      "text/plain": [
       "(Index(['Unnamed: 0', 'URL', 'pled', 'goal', 'date', 'period', 'status',\n",
       "        'text_am', 'n_img', 'n_vid', 'n_pled_t', 'min_pled_t', 'max_pled_t',\n",
       "        'mean_pled_t', 'step_pled_t', 'cr_time', 'backed', 'created', 'site',\n",
       "        'rpg', 'platformer', 'shooter', 'fighting', 'survival', 'horror',\n",
       "        'strategy', 'arcade', 'simulator', 'mmo', 'indie', 'action', 'quest',\n",
       "        'adventure', 'mgp', 'cont', 'curr', 'succsess', 'is_site',\n",
       "        'success_rate'],\n",
       "       dtype='object'),\n",
       " (8421, 39))"
      ]
     },
     "execution_count": 39,
     "metadata": {},
     "output_type": "execute_result"
    }
   ],
   "source": [
    "data = pd.read_csv(\"kickstarter_data.csv\")\n",
    "data['success_rate'] = data['pled'] / data['goal'] * 100\n",
    "data.columns, data.shape"
   ]
  },
  {
   "cell_type": "code",
   "execution_count": 40,
   "id": "a539b6c8",
   "metadata": {},
   "outputs": [
    {
     "data": {
      "text/plain": [
       "331540.3557309402"
      ]
     },
     "execution_count": 40,
     "metadata": {},
     "output_type": "execute_result"
    }
   ],
   "source": [
    "data[data['goal'] < 5]['success_rate'].mean()"
   ]
  },
  {
   "cell_type": "code",
   "execution_count": 41,
   "id": "dbaf2589",
   "metadata": {},
   "outputs": [
    {
     "data": {
      "text/plain": [
       "(8421, 37)"
      ]
     },
     "execution_count": 41,
     "metadata": {},
     "output_type": "execute_result"
    }
   ],
   "source": [
    "df = data\n",
    "if 'Unnamed: 0' in df.columns or 'succsess' in df.columns:\n",
    "    df = data.drop(columns=['Unnamed: 0', 'succsess'])\n",
    "df.shape"
   ]
  },
  {
   "cell_type": "code",
   "execution_count": 42,
   "id": "e50c000c",
   "metadata": {},
   "outputs": [
    {
     "data": {
      "text/plain": [
       "URL                0\n",
       "pled               0\n",
       "goal               0\n",
       "date               0\n",
       "period             0\n",
       "status             0\n",
       "text_am            0\n",
       "n_img              0\n",
       "n_vid              0\n",
       "n_pled_t           0\n",
       "min_pled_t         0\n",
       "max_pled_t         0\n",
       "mean_pled_t        0\n",
       "step_pled_t        0\n",
       "cr_time            0\n",
       "backed             0\n",
       "created            0\n",
       "site            2471\n",
       "rpg                0\n",
       "platformer         0\n",
       "shooter            0\n",
       "fighting           0\n",
       "survival           0\n",
       "horror             0\n",
       "strategy           0\n",
       "arcade             0\n",
       "simulator          0\n",
       "mmo                0\n",
       "indie              0\n",
       "action             0\n",
       "quest              0\n",
       "adventure          0\n",
       "mgp                0\n",
       "cont               0\n",
       "curr               0\n",
       "is_site            0\n",
       "success_rate       0\n",
       "dtype: int64"
      ]
     },
     "execution_count": 42,
     "metadata": {},
     "output_type": "execute_result"
    }
   ],
   "source": [
    "df.isnull().sum()"
   ]
  },
  {
   "cell_type": "code",
   "execution_count": 43,
   "id": "70588687",
   "metadata": {},
   "outputs": [
    {
     "data": {
      "text/plain": [
       "(['pled',\n",
       "  'goal',\n",
       "  'period',\n",
       "  'text_am',\n",
       "  'n_img',\n",
       "  'n_vid',\n",
       "  'n_pled_t',\n",
       "  'min_pled_t',\n",
       "  'max_pled_t',\n",
       "  'mean_pled_t',\n",
       "  'step_pled_t',\n",
       "  'cr_time',\n",
       "  'backed',\n",
       "  'created',\n",
       "  'mgp',\n",
       "  'cont'],\n",
       " 'success_rate')"
      ]
     },
     "execution_count": 43,
     "metadata": {},
     "output_type": "execute_result"
    }
   ],
   "source": [
    "numeric_columns = ['pled',\n",
    "  'goal',\n",
    "  'period',\n",
    "  'text_am',\n",
    "  'n_img',\n",
    "  'n_vid',\n",
    "  'n_pled_t',\n",
    "  'min_pled_t',\n",
    "  'max_pled_t',\n",
    "  'mean_pled_t',\n",
    "  'step_pled_t',\n",
    "  'cr_time',\n",
    "  'backed',\n",
    "  'created',\n",
    "  'mgp',\n",
    "  'cont']\n",
    "binary_columns = ['rpg',\n",
    "  'platformer',\n",
    "  'shooter',\n",
    "  'fighting',\n",
    "  'survival',\n",
    "  'horror',\n",
    "  'strategy',\n",
    "  'arcade',\n",
    "  'simulator',\n",
    "  'mmo',\n",
    "  'indie',\n",
    "  'action',\n",
    "  'quest',\n",
    "  'adventure',\n",
    "  'is_site']\n",
    "futures = ['text_am', 'n_img', 'n_vid', 'period', 'cont', 'mgp', 'n_pled_t']\n",
    "target_column = 'success_rate'\n",
    "numeric_columns, target_column"
   ]
  },
  {
   "cell_type": "code",
   "execution_count": 44,
   "id": "0686b077",
   "metadata": {},
   "outputs": [],
   "source": [
    "def draw_boxplots(df, numeric_columns):\n",
    "    fig, axes = plt.subplots(4, 4, figsize=(18, 40))\n",
    "    for i in range(4):\n",
    "        for j in range(4):\n",
    "            if 4 * i + j == len(numeric_columns):\n",
    "                return\n",
    "            axes[i, j].boxplot(df[numeric_columns[4 * i + j]], labels=[numeric_columns[4 * i + j]]) "
   ]
  },
  {
   "cell_type": "code",
   "execution_count": 45,
   "id": "1285cd8a",
   "metadata": {},
   "outputs": [],
   "source": [
    "def draw_hist(df, numeric_columns, bar_type=None):\n",
    "    bar_type = 'bar' if bar_type == None else bar_type\n",
    "    fig, axes = plt.subplots(2, 3, figsize=(18,14))\n",
    "    for i in range(2):\n",
    "        for j in range(3):\n",
    "            if 4 * i + j == len(numeric_columns):\n",
    "                return\n",
    "            axes[i, j].hist(df[numeric_columns[4 * i + j]], label=numeric_columns[4 * i + j], histtype=bar_type, bins=10)\n",
    "            axes[i, j].set_xlabel(f'Количество {numeric_columns[4 * i + j]}')\n",
    "            axes[i, j].legend()"
   ]
  },
  {
   "cell_type": "code",
   "execution_count": 46,
   "id": "6a6525e0",
   "metadata": {},
   "outputs": [],
   "source": [
    "def draw_hist_2(df, numeric_columns, bar_type=None):\n",
    "    bar_type = 'bar' if bar_type == None else bar_type\n",
    "    #     fig, axes = plt.subplots(4, 4, figsize=(18, 20))  \n",
    "    for i in range(4):\n",
    "        for j in range(4):\n",
    "            if 4 * i + j == len(numeric_columns):\n",
    "                return\n",
    "            plt.figure(figsize=(5, 6))\n",
    "            df[numeric_columns[4 * i + j]].hist(label=numeric_columns[4 * i + j], histtype=bar_type, bins=10)\n",
    "            plt.xlabel = f'Количество {numeric_columns[4 * i + j]}'\n",
    "            plt.ylabel = 'Количество измерений'\n",
    "            plt.legend()"
   ]
  },
  {
   "cell_type": "code",
   "execution_count": 47,
   "id": "ca340d37",
   "metadata": {
    "scrolled": false
   },
   "outputs": [
    {
     "data": {
      "text/plain": [
       "(8194, 39)"
      ]
     },
     "execution_count": 47,
     "metadata": {},
     "output_type": "execute_result"
    },
    {
     "data": {
      "image/png": "[encoded data removed]",
      "text/plain": [
       "<Figure size 1296x1008 with 6 Axes>"
      ]
     },
     "metadata": {
      "needs_background": "light"
     },
     "output_type": "display_data"
    }
   ],
   "source": [
    "# Remove emissions\n",
    "df = data\n",
    "df = df[df['goal'] > 5]\n",
    "df = df[df['period'] < 80]\n",
    "\n",
    "df['site'].fillna('', inplace=True)\n",
    "\n",
    "# Using 3 sigmas rule\n",
    "n_sigmas = 3\n",
    "\n",
    "created_std = df['created'].std() # Taken from description\n",
    "created_mean = df['created'].mean()\n",
    "df = df[(df['created'] >= created_mean - created_std * n_sigmas) & (df['created'] <= created_mean + created_std * n_sigmas)]\n",
    "\n",
    "draw_hist(df, futures + ['created'], 'bar')\n",
    "df.shape"
   ]
  },
  {
   "cell_type": "code",
   "execution_count": 48,
   "id": "067122d8",
   "metadata": {},
   "outputs": [
    {
     "data": {
      "text/plain": [
       "Unnamed: 0      0\n",
       "URL             0\n",
       "pled            0\n",
       "goal            0\n",
       "date            0\n",
       "period          0\n",
       "status          0\n",
       "text_am         0\n",
       "n_img           0\n",
       "n_vid           0\n",
       "n_pled_t        0\n",
       "min_pled_t      0\n",
       "max_pled_t      0\n",
       "mean_pled_t     0\n",
       "step_pled_t     0\n",
       "cr_time         0\n",
       "backed          0\n",
       "created         0\n",
       "site            0\n",
       "rpg             0\n",
       "platformer      0\n",
       "shooter         0\n",
       "fighting        0\n",
       "survival        0\n",
       "horror          0\n",
       "strategy        0\n",
       "arcade          0\n",
       "simulator       0\n",
       "mmo             0\n",
       "indie           0\n",
       "action          0\n",
       "quest           0\n",
       "adventure       0\n",
       "mgp             0\n",
       "cont            0\n",
       "curr            0\n",
       "succsess        0\n",
       "is_site         0\n",
       "success_rate    0\n",
       "dtype: int64"
      ]
     },
     "execution_count": 48,
     "metadata": {},
     "output_type": "execute_result"
    }
   ],
   "source": [
    "df.isna().sum()"
   ]
  },
  {
   "cell_type": "code",
   "execution_count": 49,
   "id": "4c1caeed",
   "metadata": {},
   "outputs": [
    {
     "data": {
      "text/html": [
       "<div>\n",
       "<style scoped>\n",
       "    .dataframe tbody tr th:only-of-type {\n",
       "        vertical-align: middle;\n",
       "    }\n",
       "\n",
       "    .dataframe tbody tr th {\n",
       "        vertical-align: top;\n",
       "    }\n",
       "\n",
       "    .dataframe thead th {\n",
       "        text-align: right;\n",
       "    }\n",
       "</style>\n",
       "<table border=\"1\" class=\"dataframe\">\n",
       "  <thead>\n",
       "    <tr style=\"text-align: right;\">\n",
       "      <th></th>\n",
       "      <th>text_am</th>\n",
       "      <th>n_img</th>\n",
       "      <th>n_vid</th>\n",
       "      <th>period</th>\n",
       "      <th>cont</th>\n",
       "      <th>mgp</th>\n",
       "      <th>n_pled_t</th>\n",
       "    </tr>\n",
       "  </thead>\n",
       "  <tbody>\n",
       "    <tr>\n",
       "      <th>count</th>\n",
       "      <td>8194.000000</td>\n",
       "      <td>8194.000000</td>\n",
       "      <td>8194.000000</td>\n",
       "      <td>8194.000000</td>\n",
       "      <td>8194.000000</td>\n",
       "      <td>8194.000000</td>\n",
       "      <td>8194.000000</td>\n",
       "    </tr>\n",
       "    <tr>\n",
       "      <th>mean</th>\n",
       "      <td>1131.966195</td>\n",
       "      <td>14.340371</td>\n",
       "      <td>0.749695</td>\n",
       "      <td>33.537344</td>\n",
       "      <td>0.224063</td>\n",
       "      <td>3.213599</td>\n",
       "      <td>10.058335</td>\n",
       "    </tr>\n",
       "    <tr>\n",
       "      <th>std</th>\n",
       "      <td>915.530566</td>\n",
       "      <td>16.606354</td>\n",
       "      <td>1.336821</td>\n",
       "      <td>10.126667</td>\n",
       "      <td>0.137587</td>\n",
       "      <td>4.057055</td>\n",
       "      <td>5.931977</td>\n",
       "    </tr>\n",
       "    <tr>\n",
       "      <th>min</th>\n",
       "      <td>0.000000</td>\n",
       "      <td>0.000000</td>\n",
       "      <td>0.000000</td>\n",
       "      <td>1.000000</td>\n",
       "      <td>0.000000</td>\n",
       "      <td>0.000000</td>\n",
       "      <td>1.000000</td>\n",
       "    </tr>\n",
       "    <tr>\n",
       "      <th>25%</th>\n",
       "      <td>420.000000</td>\n",
       "      <td>1.000000</td>\n",
       "      <td>0.000000</td>\n",
       "      <td>30.000000</td>\n",
       "      <td>0.148704</td>\n",
       "      <td>0.230400</td>\n",
       "      <td>6.000000</td>\n",
       "    </tr>\n",
       "    <tr>\n",
       "      <th>50%</th>\n",
       "      <td>883.000000</td>\n",
       "      <td>8.000000</td>\n",
       "      <td>0.000000</td>\n",
       "      <td>30.000000</td>\n",
       "      <td>0.268624</td>\n",
       "      <td>1.766246</td>\n",
       "      <td>9.000000</td>\n",
       "    </tr>\n",
       "    <tr>\n",
       "      <th>75%</th>\n",
       "      <td>1592.000000</td>\n",
       "      <td>23.000000</td>\n",
       "      <td>1.000000</td>\n",
       "      <td>33.000000</td>\n",
       "      <td>0.321691</td>\n",
       "      <td>4.681821</td>\n",
       "      <td>13.000000</td>\n",
       "    </tr>\n",
       "    <tr>\n",
       "      <th>max</th>\n",
       "      <td>6042.000000</td>\n",
       "      <td>174.000000</td>\n",
       "      <td>16.000000</td>\n",
       "      <td>79.000000</td>\n",
       "      <td>0.894847</td>\n",
       "      <td>49.141376</td>\n",
       "      <td>103.000000</td>\n",
       "    </tr>\n",
       "  </tbody>\n",
       "</table>\n",
       "</div>"
      ],
      "text/plain": [
       "           text_am        n_img        n_vid       period         cont  \\\n",
       "count  8194.000000  8194.000000  8194.000000  8194.000000  8194.000000   \n",
       "mean   1131.966195    14.340371     0.749695    33.537344     0.224063   \n",
       "std     915.530566    16.606354     1.336821    10.126667     0.137587   \n",
       "min       0.000000     0.000000     0.000000     1.000000     0.000000   \n",
       "25%     420.000000     1.000000     0.000000    30.000000     0.148704   \n",
       "50%     883.000000     8.000000     0.000000    30.000000     0.268624   \n",
       "75%    1592.000000    23.000000     1.000000    33.000000     0.321691   \n",
       "max    6042.000000   174.000000    16.000000    79.000000     0.894847   \n",
       "\n",
       "               mgp     n_pled_t  \n",
       "count  8194.000000  8194.000000  \n",
       "mean      3.213599    10.058335  \n",
       "std       4.057055     5.931977  \n",
       "min       0.000000     1.000000  \n",
       "25%       0.230400     6.000000  \n",
       "50%       1.766246     9.000000  \n",
       "75%       4.681821    13.000000  \n",
       "max      49.141376   103.000000  "
      ]
     },
     "execution_count": 49,
     "metadata": {},
     "output_type": "execute_result"
    }
   ],
   "source": [
    "# Descriptive statistics\n",
    "desc = df[futures].describe()\n",
    "desc.append(pd.Series(df[futures].median(), index=futures, name='median'))\n",
    "desc"
   ]
  },
  {
   "cell_type": "code",
   "execution_count": 50,
   "id": "7ef06b3f",
   "metadata": {},
   "outputs": [
    {
     "data": {
      "image/png": "[encoded data removed]",
      "text/plain": [
       "<Figure size 432x288 with 1 Axes>"
      ]
     },
     "metadata": {
      "needs_background": "light"
     },
     "output_type": "display_data"
    }
   ],
   "source": [
    "xs = []\n",
    "ys = []\n",
    "\n",
    "\n",
    "for vids in sorted(df['n_vid'].unique()):\n",
    "    mean_sr = df[df['n_vid'] == vids]['success_rate'].mean()\n",
    "    if df[df['n_vid'] == vids].shape[0] > 5:\n",
    "        xs.append(vids)\n",
    "        ys.append(mean_sr)\n",
    "    \n",
    "plt.plot(xs, ys) \n",
    "plt.xlabel = 'Количество видео'\n",
    "plt.ylabel = 'Среднее отношения pled / goal'"
   ]
  },
  {
   "cell_type": "code",
   "execution_count": 51,
   "id": "869c880c",
   "metadata": {},
   "outputs": [
    {
     "data": {
      "image/png": "[encoded data removed]",
      "text/plain": [
       "<Figure size 432x288 with 1 Axes>"
      ]
     },
     "metadata": {
      "needs_background": "light"
     },
     "output_type": "display_data"
    }
   ],
   "source": [
    "xs = []\n",
    "ys = []\n",
    "\n",
    "\n",
    "for vids in sorted(df['n_pled_t'].unique()):\n",
    "    mean_sr = df[df['n_pled_t'] == vids]['success_rate'].mean()\n",
    "    if df[df['n_pled_t'] == vids].shape[0] > 7:\n",
    "        xs.append(vids)\n",
    "        ys.append(mean_sr)\n",
    "    \n",
    "plt.plot(xs, ys) \n",
    "plt.xlabel = 'Количество категорий доната'\n",
    "plt.ylabel = 'Среднее отношения pled / goal'"
   ]
  },
  {
   "cell_type": "code",
   "execution_count": 52,
   "id": "e47553d4",
   "metadata": {},
   "outputs": [],
   "source": [
    "# Linear models\n",
    "import pandas as pd\n",
    "from sklearn.linear_model import LinearRegression, Lasso, Ridge, ElasticNet\n",
    "from sklearn.metrics import accuracy_score, roc_auc_score, mean_squared_error\n",
    "from sklearn.preprocessing import StandardScaler\n",
    "from sklearn.model_selection import cross_validate, train_test_split\n",
    "import numpy as np"
   ]
  },
  {
   "cell_type": "code",
   "execution_count": 53,
   "id": "4392de75",
   "metadata": {},
   "outputs": [],
   "source": [
    "numeric_columns = [\n",
    "#   'pled',\n",
    "  'goal',\n",
    "#   'period',\n",
    "  'text_am',\n",
    "  'n_img',\n",
    "  'n_vid',\n",
    "  'n_pled_t',\n",
    "  'min_pled_t',\n",
    "  'max_pled_t',\n",
    "  'mean_pled_t',\n",
    "  'step_pled_t',\n",
    "  'cr_time',\n",
    "  'backed',\n",
    "  'created',\n",
    "  'mgp',\n",
    "  'cont']\n",
    "binary_columns = ['rpg',\n",
    "  'platformer',\n",
    "  'shooter',\n",
    "  'fighting',\n",
    "  'survival',\n",
    "  'horror',\n",
    "  'strategy',\n",
    "  'arcade',\n",
    "  'simulator',\n",
    "  'mmo',\n",
    "  'indie',\n",
    "  'action',\n",
    "  'quest',\n",
    "  'adventure',\n",
    "  'is_site']\n",
    "columns = numeric_columns + binary_columns"
   ]
  },
  {
   "cell_type": "code",
   "execution_count": 54,
   "id": "26d2fa72",
   "metadata": {},
   "outputs": [],
   "source": [
    "def test_mse(model, X, y):\n",
    "    preds = model.predict(X)\n",
    "    mse = mean_squared_error(y, preds)\n",
    "    \n",
    "    return mse"
   ]
  },
  {
   "cell_type": "code",
   "execution_count": 55,
   "id": "f6a3f958",
   "metadata": {},
   "outputs": [],
   "source": [
    "train_X, test_X, train_y, test_y = train_test_split(df[columns], df[target_column], train_size=0.8)"
   ]
  },
  {
   "cell_type": "code",
   "execution_count": 56,
   "id": "826369cc",
   "metadata": {},
   "outputs": [],
   "source": [
    "scaler = StandardScaler()\n",
    "\n",
    "train_data = scaler.fit_transform(train_X)\n",
    "test_x_data = scaler.transform(test_X)\n",
    "test_y_data = test_y"
   ]
  },
  {
   "cell_type": "code",
   "execution_count": 57,
   "id": "8947a889",
   "metadata": {},
   "outputs": [
    {
     "data": {
      "text/plain": [
       "(492315.7615962,\n",
       " 1348896.7463742956,\n",
       " array([ -4.48178944,   9.87425434,  -2.75164121,  28.38608503,\n",
       "        -10.05188365,   0.21878613, -16.22194012,   0.76972548,\n",
       "         -3.38480888,  32.99473703,  -4.11078782,   0.47328076,\n",
       "         20.45010936,  10.37972852,   7.69859916,  -0.89158104,\n",
       "         -4.93689433,  -5.78544552,  -5.45966113,  -5.32704401,\n",
       "         -9.57213128,   0.39214767,  -5.40475567,  -4.23065383,\n",
       "          0.51933461, -10.07663492,  -2.38688583,  -2.86576079,\n",
       "         13.70815176]))"
      ]
     },
     "execution_count": 57,
     "metadata": {},
     "output_type": "execute_result"
    }
   ],
   "source": [
    "# Simple Linear Regression\n",
    "model = LinearRegression()\n",
    "model.fit(train_data, train_y)\n",
    "\n",
    "test_mse(model, train_data, train_y), test_mse(model, test_x_data, test_y_data), model.coef_"
   ]
  },
  {
   "cell_type": "code",
   "execution_count": 58,
   "id": "83c84023",
   "metadata": {},
   "outputs": [
    {
     "data": {
      "text/plain": [
       "(492347.17276572826,\n",
       " 1348639.727629154,\n",
       " array([ -3.59525678,   6.48378408,   0.        ,  27.40562338,\n",
       "         -7.13301499,   0.        , -16.21302784,  -0.        ,\n",
       "         -2.02238162,  31.79801834,  -2.3566672 ,   0.        ,\n",
       "         16.7969376 ,   9.49684992,   6.29640948,  -0.        ,\n",
       "         -3.88449042,  -4.64925019,  -4.5961767 ,  -4.11130004,\n",
       "         -8.1721371 ,   0.        ,  -4.18460398,  -3.12625476,\n",
       "          0.        ,  -8.9658395 ,  -0.96072867,  -1.57175983,\n",
       "         12.56017914]))"
      ]
     },
     "execution_count": 58,
     "metadata": {},
     "output_type": "execute_result"
    }
   ],
   "source": [
    "# Testing regression /w L1 regularization\n",
    "lasso = Lasso()\n",
    "lasso.fit(train_data, train_y)\n",
    "\n",
    "test_mse(lasso, train_data, train_y), test_mse(lasso, test_x_data, test_y_data), lasso.coef_"
   ]
  },
  {
   "cell_type": "code",
   "execution_count": 59,
   "id": "3898e20d",
   "metadata": {},
   "outputs": [
    {
     "data": {
      "text/plain": [
       "(492315.7617779996,\n",
       " 1348897.3046843787,\n",
       " array([ -4.48095324,   9.86929675,  -2.73679857,  28.38124057,\n",
       "        -10.04852123,   0.22307265, -16.2059642 ,   0.7527899 ,\n",
       "         -3.38223313,  32.98843985,  -4.10801073,   0.47514521,\n",
       "         20.43484621,  10.37877842,   7.69708433,  -0.89155444,\n",
       "         -4.93644514,  -5.78423752,  -5.45928463,  -5.32584719,\n",
       "         -9.57049026,   0.39198678,  -5.40353992,  -4.22964915,\n",
       "          0.51926407, -10.07489292,  -2.38569462,  -2.86499464,\n",
       "         13.7060239 ]))"
      ]
     },
     "execution_count": 59,
     "metadata": {},
     "output_type": "execute_result"
    }
   ],
   "source": [
    "# Testing regression /w L2 regularization\n",
    "ridge = Ridge()\n",
    "ridge.fit(train_data, train_y)\n",
    "\n",
    "test_mse(ridge, train_data, train_y), test_mse(ridge, test_x_data, test_y_data), ridge.coef_"
   ]
  },
  {
   "cell_type": "code",
   "execution_count": 60,
   "id": "8a686d8e",
   "metadata": {},
   "outputs": [
    {
     "data": {
      "text/plain": [
       "(492727.26912330603,\n",
       " 1350346.9689934873,\n",
       " array([-3.08778152,  4.6906472 ,  4.81616655, 18.20561101, -2.78275106,\n",
       "         0.42259428, -7.02193921, -4.52230994, -3.61352739, 21.09647037,\n",
       "         0.30036325,  2.60907825,  9.20165615,  7.73703018,  4.27169591,\n",
       "        -0.        , -3.17985886, -3.18636846, -3.71897458, -2.77084339,\n",
       "        -5.58610403,  0.        , -2.75652441, -2.65288711,  0.81785139,\n",
       "        -5.88044886, -0.23174547, -0.5004941 ,  9.05584794]))"
      ]
     },
     "execution_count": 60,
     "metadata": {},
     "output_type": "execute_result"
    }
   ],
   "source": [
    "elastic = ElasticNet()\n",
    "elastic.fit(train_data, train_y)\n",
    "\n",
    "test_mse(elastic, train_data, train_y), test_mse(elastic, test_x_data, test_y_data), elastic.coef_"
   ]
  },
  {
   "cell_type": "code",
   "execution_count": 62,
   "id": "59f1fddd",
   "metadata": {},
   "outputs": [
    {
     "data": {
      "text/plain": [
       "{'cr_time': 29.719416396237694,\n",
       " 'n_vid': 25.594639995526478,\n",
       " 'mgp': 16.72088732954874,\n",
       " 'max_pled_t': -13.915717844883224,\n",
       " 'is_site': 12.257550685188184,\n",
       " 'cont': 9.498096759805215,\n",
       " 'action': -8.749454048857274,\n",
       " 'strategy': -8.225215669733187,\n",
       " 'text_am': 7.729495594520936,\n",
       " 'n_pled_t': -7.50404273229243,\n",
       " 'rpg': 6.490947219686828,\n",
       " 'fighting': -4.851325422809558,\n",
       " 'survival': -4.808524258974558,\n",
       " 'simulator': -4.437355995175836,\n",
       " 'horror': -4.38375865836923,\n",
       " 'shooter': -4.23442218907171,\n",
       " 'goal': -3.9114452453307025,\n",
       " 'mmo': -3.559861213010371,\n",
       " 'step_pled_t': -3.100737752804856,\n",
       " 'backed': -2.5687756247944113,\n",
       " 'adventure': -1.9507523385464676,\n",
       " 'quest': -1.4912636473049046,\n",
       " 'created': 0.8893760516032577,\n",
       " 'mean_pled_t': -0.7499486389163281,\n",
       " 'indie': 0.4641125153641351,\n",
       " 'platformer': -0.4457838700675315,\n",
       " 'min_pled_t': 0.2161132666955759,\n",
       " 'arcade': 0.19603361112838777,\n",
       " 'n_img': -0.16806830790244787}"
      ]
     },
     "execution_count": 62,
     "metadata": {},
     "output_type": "execute_result"
    }
   ],
   "source": [
    "# Get mean coeffs for futures\n",
    "coeffs = np.zeros((29))\n",
    "rounds = 20\n",
    "for i in range(20):\n",
    "    scaler = StandardScaler()\n",
    "\n",
    "    train_data = scaler.fit_transform(train_X)\n",
    "    test_x_data = scaler.transform(test_X)\n",
    "    test_y_data = test_y\n",
    "    \n",
    "    model = LinearRegression()\n",
    "    model.fit(train_data, train_y)\n",
    "    coeffs += model.coef_\n",
    "    \n",
    "    lasso = Lasso()\n",
    "    lasso.fit(train_data, train_y)\n",
    "    coeffs += lasso.coef_\n",
    "    \n",
    "    ridge = Ridge()\n",
    "    ridge.fit(train_data, train_y)\n",
    "    coeffs += ridge.coef_\n",
    "    \n",
    "    elastic = ElasticNet()\n",
    "    elastic.fit(train_data, train_y)\n",
    "    coeffs += elastic.coef_\n",
    "    \n",
    "mean_coeffs = coeffs / (rounds * 4)\n",
    "{k: v for k, v in sorted([(k, v) for k, v in zip(columns, mean_coeffs)], key=lambda x: abs(x[1]), reverse=True)}"
   ]
  },
  {
   "cell_type": "code",
   "execution_count": 63,
   "id": "698ed2c0",
   "metadata": {},
   "outputs": [],
   "source": [
    "# Neural network\n",
    "import numpy as np\n",
    "import pandas as pd\n",
    "import torch\n",
    "from torch import nn\n",
    "import torch.nn.functional as F\n",
    "from torch.optim import Adam\n",
    "from sklearn.model_selection import train_test_split\n",
    "from tqdm.notebook import tqdm\n",
    "from matplotlib import pyplot as plt"
   ]
  },
  {
   "cell_type": "code",
   "execution_count": 64,
   "id": "81b0135b",
   "metadata": {},
   "outputs": [],
   "source": [
    "def get_type(rate):\n",
    "    type_ = 0\n",
    "    for i in np.linspace(0, 175, 8):\n",
    "        if rate < i + 25:\n",
    "            return type_\n",
    "        type_ += 1\n",
    "    return 8"
   ]
  },
  {
   "cell_type": "code",
   "execution_count": 65,
   "id": "059452c9",
   "metadata": {},
   "outputs": [],
   "source": [
    "# Add success type\n",
    "\n",
    "types = []\n",
    "\n",
    "for idx, row in df.iterrows():\n",
    "    types.append(get_type(row[-1]))\n",
    "\n",
    "types = pd.Series(types, dtype=int)\n",
    "df = df.assign(succes_type=types.values)\n",
    "if 'success_rate' in df.columns:\n",
    "    df = df.drop(columns='success_rate')\n",
    "if 'success' in df.columns:\n",
    "    df = df.drop(columns='success')"
   ]
  },
  {
   "cell_type": "code",
   "execution_count": 66,
   "id": "b3204949",
   "metadata": {},
   "outputs": [
    {
     "data": {
      "text/plain": [
       "Index(['Unnamed: 0', 'URL', 'pled', 'goal', 'date', 'period', 'status',\n",
       "       'text_am', 'n_img', 'n_vid', 'n_pled_t', 'min_pled_t', 'max_pled_t',\n",
       "       'mean_pled_t', 'step_pled_t', 'cr_time', 'backed', 'created', 'site',\n",
       "       'rpg', 'platformer', 'shooter', 'fighting', 'survival', 'horror',\n",
       "       'strategy', 'arcade', 'simulator', 'mmo', 'indie', 'action', 'quest',\n",
       "       'adventure', 'mgp', 'cont', 'curr', 'succsess', 'is_site',\n",
       "       'succes_type'],\n",
       "      dtype='object')"
      ]
     },
     "execution_count": 66,
     "metadata": {},
     "output_type": "execute_result"
    }
   ],
   "source": [
    "df.columns"
   ]
  },
  {
   "cell_type": "code",
   "execution_count": 67,
   "id": "4b8fb26c",
   "metadata": {},
   "outputs": [
    {
     "name": "stdout",
     "output_type": "stream",
     "text": [
      "['goal', 'text_am', 'n_img', 'n_vid', 'n_pled_t', 'min_pled_t', 'max_pled_t', 'mean_pled_t', 'step_pled_t', 'cr_time', 'backed', 'created', 'mgp', 'cont', 'rpg', 'platformer', 'shooter', 'fighting', 'survival', 'horror', 'strategy', 'arcade', 'simulator', 'mmo', 'indie', 'action', 'quest', 'adventure', 'is_site'] succes_type\n"
     ]
    }
   ],
   "source": [
    "numeric_columns = [\n",
    "#   'pled',\n",
    "  'goal',\n",
    "#   'period',\n",
    "  'text_am',\n",
    "  'n_img',\n",
    "  'n_vid',\n",
    "  'n_pled_t',\n",
    "  'min_pled_t',\n",
    "  'max_pled_t',\n",
    "  'mean_pled_t',\n",
    "  'step_pled_t',\n",
    "  'cr_time',\n",
    "  'backed',\n",
    "  'created',\n",
    "  'mgp',\n",
    "  'cont']\n",
    "binary_columns = ['rpg',\n",
    "  'platformer',\n",
    "  'shooter',\n",
    "  'fighting',\n",
    "  'survival',\n",
    "  'horror',\n",
    "  'strategy',\n",
    "  'arcade',\n",
    "  'simulator',\n",
    "  'mmo',\n",
    "  'indie',\n",
    "  'action',\n",
    "  'quest',\n",
    "  'adventure',\n",
    "  'is_site']\n",
    "\n",
    "numeric_data = numeric_columns + binary_columns\n",
    "target_col = df.corr().columns[-1]\n",
    "\n",
    "print(numeric_data, target_col)\n",
    "\n",
    "dataset = df[numeric_data]\n",
    "target = df[target_col]"
   ]
  },
  {
   "cell_type": "code",
   "execution_count": 68,
   "id": "9b464858",
   "metadata": {},
   "outputs": [],
   "source": [
    "model = nn.Sequential(\n",
    "    nn.BatchNorm1d(28),\n",
    "    nn.Linear(28, 24),\n",
    "    nn.ReLU(),\n",
    "    nn.BatchNorm1d(24),\n",
    "    nn.Linear(24, 20),\n",
    "    nn.ReLU(),\n",
    "    nn.BatchNorm1d(20),\n",
    "    nn.Linear(20, 10))\n",
    "\n",
    "optimizer = Adam(model.parameters())\n",
    "loss_fn = F.cross_entropy"
   ]
  },
  {
   "cell_type": "code",
   "execution_count": 69,
   "id": "0db63826",
   "metadata": {},
   "outputs": [],
   "source": [
    "class MyDataset:\n",
    "    def __init__(self, df):\n",
    "        self.df = pd.DataFrame(data=df)\n",
    "    \n",
    "    def __len__(self):\n",
    "        return self.df.shape[0]\n",
    "    \n",
    "    def __getitem__(self, i):\n",
    "        return torch.Tensor(self.df.iloc[i])[:-1], torch.Tensor(self.df.iloc[i])[-1].to(torch.long)"
   ]
  },
  {
   "cell_type": "code",
   "execution_count": 70,
   "id": "a2b9a119",
   "metadata": {},
   "outputs": [],
   "source": [
    "from torch.utils.data import DataLoader\n",
    "\n",
    "\n",
    "train, test = train_test_split(dataset, train_size=0.8)\n",
    "\n",
    "train_loader = DataLoader(MyDataset(train), batch_size=24, shuffle=True)\n",
    "test_loader = DataLoader(MyDataset(test), batch_size=24)"
   ]
  },
  {
   "cell_type": "code",
   "execution_count": 71,
   "id": "828bfa37",
   "metadata": {},
   "outputs": [
    {
     "data": {
      "application/vnd.jupyter.widget-view+json": {
       "model_id": "6dd27cf242be4c44a3ffa49a8e4acea4",
       "version_major": 2,
       "version_minor": 0
      },
      "text/plain": [
       "  0%|          | 0/10 [00:00<?, ?it/s]"
      ]
     },
     "metadata": {},
     "output_type": "display_data"
    },
    {
     "data": {
      "application/vnd.jupyter.widget-view+json": {
       "model_id": "28902ac8d6f84bb9b1ab07fb427ea734",
       "version_major": 2,
       "version_minor": 0
      },
      "text/plain": [
       "  0%|          | 0/274 [00:00<?, ?it/s]"
      ]
     },
     "metadata": {},
     "output_type": "display_data"
    },
    {
     "name": "stdout",
     "output_type": "stream",
     "text": [
      "loss: tensor(1.5244)\n",
      "accuracy:  tensor(0.6141)\n"
     ]
    },
    {
     "data": {
      "application/vnd.jupyter.widget-view+json": {
       "model_id": "c6f270b624fb4971a6ba77e60d107afb",
       "version_major": 2,
       "version_minor": 0
      },
      "text/plain": [
       "  0%|          | 0/274 [00:00<?, ?it/s]"
      ]
     },
     "metadata": {},
     "output_type": "display_data"
    },
    {
     "name": "stdout",
     "output_type": "stream",
     "text": [
      "loss: tensor(0.6331)\n",
      "accuracy:  tensor(0.7339)\n"
     ]
    },
    {
     "data": {
      "application/vnd.jupyter.widget-view+json": {
       "model_id": "1548c3bd1e2045db88913f4a2bd581fd",
       "version_major": 2,
       "version_minor": 0
      },
      "text/plain": [
       "  0%|          | 0/274 [00:00<?, ?it/s]"
      ]
     },
     "metadata": {},
     "output_type": "display_data"
    },
    {
     "name": "stdout",
     "output_type": "stream",
     "text": [
      "loss: tensor(0.5436)\n",
      "accuracy:  tensor(0.7412)\n"
     ]
    },
    {
     "data": {
      "application/vnd.jupyter.widget-view+json": {
       "model_id": "9a8b62f99f19461480b495a68fab9e8c",
       "version_major": 2,
       "version_minor": 0
      },
      "text/plain": [
       "  0%|          | 0/274 [00:00<?, ?it/s]"
      ]
     },
     "metadata": {},
     "output_type": "display_data"
    },
    {
     "name": "stdout",
     "output_type": "stream",
     "text": [
      "loss: tensor(0.5295)\n",
      "accuracy:  tensor(0.7374)\n"
     ]
    },
    {
     "data": {
      "application/vnd.jupyter.widget-view+json": {
       "model_id": "0e93beed73424c7ea68b605c8dfa6629",
       "version_major": 2,
       "version_minor": 0
      },
      "text/plain": [
       "  0%|          | 0/274 [00:00<?, ?it/s]"
      ]
     },
     "metadata": {},
     "output_type": "display_data"
    },
    {
     "name": "stdout",
     "output_type": "stream",
     "text": [
      "loss: tensor(0.5215)\n",
      "accuracy:  tensor(0.7378)\n"
     ]
    },
    {
     "data": {
      "application/vnd.jupyter.widget-view+json": {
       "model_id": "e59a4e9aec344ccba29615dcfdde6964",
       "version_major": 2,
       "version_minor": 0
      },
      "text/plain": [
       "  0%|          | 0/274 [00:00<?, ?it/s]"
      ]
     },
     "metadata": {},
     "output_type": "display_data"
    },
    {
     "name": "stdout",
     "output_type": "stream",
     "text": [
      "loss: tensor(0.5156)\n",
      "accuracy:  tensor(0.7460)\n"
     ]
    },
    {
     "data": {
      "application/vnd.jupyter.widget-view+json": {
       "model_id": "6e60a30cf88f489d8f15b636e29d5b21",
       "version_major": 2,
       "version_minor": 0
      },
      "text/plain": [
       "  0%|          | 0/274 [00:00<?, ?it/s]"
      ]
     },
     "metadata": {},
     "output_type": "display_data"
    },
    {
     "name": "stdout",
     "output_type": "stream",
     "text": [
      "loss: tensor(0.5125)\n",
      "accuracy:  tensor(0.7415)\n"
     ]
    },
    {
     "data": {
      "application/vnd.jupyter.widget-view+json": {
       "model_id": "f14554f761ed4f79a0a7ac34507bae17",
       "version_major": 2,
       "version_minor": 0
      },
      "text/plain": [
       "  0%|          | 0/274 [00:00<?, ?it/s]"
      ]
     },
     "metadata": {},
     "output_type": "display_data"
    },
    {
     "name": "stdout",
     "output_type": "stream",
     "text": [
      "loss: tensor(0.5083)\n",
      "accuracy:  tensor(0.7467)\n"
     ]
    },
    {
     "data": {
      "application/vnd.jupyter.widget-view+json": {
       "model_id": "03fcefe61b3a4bbb8b1906af22c9485a",
       "version_major": 2,
       "version_minor": 0
      },
      "text/plain": [
       "  0%|          | 0/274 [00:00<?, ?it/s]"
      ]
     },
     "metadata": {},
     "output_type": "display_data"
    },
    {
     "name": "stdout",
     "output_type": "stream",
     "text": [
      "loss: tensor(0.5065)\n",
      "accuracy:  tensor(0.7509)\n"
     ]
    },
    {
     "data": {
      "application/vnd.jupyter.widget-view+json": {
       "model_id": "93bff736402547b68c131edafd0fc450",
       "version_major": 2,
       "version_minor": 0
      },
      "text/plain": [
       "  0%|          | 0/274 [00:00<?, ?it/s]"
      ]
     },
     "metadata": {},
     "output_type": "display_data"
    },
    {
     "name": "stdout",
     "output_type": "stream",
     "text": [
      "loss: tensor(0.5141)\n",
      "accuracy:  tensor(0.7473)\n"
     ]
    }
   ],
   "source": [
    "model.train()\n",
    "\n",
    "losses = []\n",
    "accuracies = []\n",
    "\n",
    "for epochs in tqdm(range(10)):\n",
    "    epoch_losses = []\n",
    "    epoch_accuracies = []\n",
    "    for xb, yb in tqdm(train_loader):\n",
    "        accuracy = 0\n",
    "        correct_answers = 0\n",
    "        \n",
    "        optimizer.zero_grad()\n",
    "\n",
    "        outp = model(xb)\n",
    "        loss = loss_fn(outp, yb)\n",
    "\n",
    "        loss.backward()\n",
    "        optimizer.step()\n",
    "        \n",
    "        epoch_losses.append(loss.item())\n",
    "        \n",
    "        correct_answers = (outp.argmax(-1) == yb).sum()\n",
    "        accuracy = correct_answers / xb.shape[0]\n",
    "        epoch_accuracies.append(accuracy)\n",
    "    \n",
    "    losses.append(torch.tensor(epoch_losses).mean())\n",
    "    accuracies.append(torch.tensor(epoch_accuracies).mean())\n",
    "    \n",
    "    print('loss:', losses[-1])\n",
    "    print('accuracy: ', accuracies[-1])"
   ]
  },
  {
   "cell_type": "code",
   "execution_count": 75,
   "id": "f6bded0b",
   "metadata": {},
   "outputs": [
    {
     "ename": "ValueError",
     "evalue": "x and y must have same first dimension, but have shapes (10,) and (0,)",
     "output_type": "error",
     "traceback": [
      "\u001b[1;31m---------------------------------------------------------------------------\u001b[0m",
      "\u001b[1;31mValueError\u001b[0m                                Traceback (most recent call last)",
      "\u001b[1;32m~\\AppData\\Local\\Temp/ipykernel_2192/3884642780.py\u001b[0m in \u001b[0;36m<module>\u001b[1;34m\u001b[0m\n\u001b[0;32m      1\u001b[0m \u001b[0mplt\u001b[0m\u001b[1;33m.\u001b[0m\u001b[0mfigure\u001b[0m\u001b[1;33m(\u001b[0m\u001b[0mfigsize\u001b[0m\u001b[1;33m=\u001b[0m\u001b[1;33m(\u001b[0m\u001b[1;36m14\u001b[0m\u001b[1;33m,\u001b[0m \u001b[1;36m10\u001b[0m\u001b[1;33m)\u001b[0m\u001b[1;33m)\u001b[0m\u001b[1;33m\u001b[0m\u001b[1;33m\u001b[0m\u001b[0m\n\u001b[1;32m----> 2\u001b[1;33m \u001b[0mplt\u001b[0m\u001b[1;33m.\u001b[0m\u001b[0mplot\u001b[0m\u001b[1;33m(\u001b[0m\u001b[0mrange\u001b[0m\u001b[1;33m(\u001b[0m\u001b[0mepochs\u001b[0m \u001b[1;33m+\u001b[0m \u001b[1;36m1\u001b[0m\u001b[1;33m)\u001b[0m\u001b[1;33m,\u001b[0m \u001b[0mlosses\u001b[0m\u001b[1;33m,\u001b[0m \u001b[0mlabel\u001b[0m\u001b[1;33m=\u001b[0m\u001b[1;34m'loss'\u001b[0m\u001b[1;33m)\u001b[0m\u001b[1;33m\u001b[0m\u001b[1;33m\u001b[0m\u001b[0m\n\u001b[0m\u001b[0;32m      3\u001b[0m \u001b[1;33m\u001b[0m\u001b[0m\n\u001b[0;32m      4\u001b[0m \u001b[0mplt\u001b[0m\u001b[1;33m.\u001b[0m\u001b[0mfigure\u001b[0m\u001b[1;33m(\u001b[0m\u001b[0mfigsize\u001b[0m\u001b[1;33m=\u001b[0m\u001b[1;33m(\u001b[0m\u001b[1;36m14\u001b[0m\u001b[1;33m,\u001b[0m \u001b[1;36m10\u001b[0m\u001b[1;33m)\u001b[0m\u001b[1;33m)\u001b[0m\u001b[1;33m\u001b[0m\u001b[1;33m\u001b[0m\u001b[0m\n\u001b[0;32m      5\u001b[0m \u001b[0mplt\u001b[0m\u001b[1;33m.\u001b[0m\u001b[0mplot\u001b[0m\u001b[1;33m(\u001b[0m\u001b[0mrange\u001b[0m\u001b[1;33m(\u001b[0m\u001b[0mepochs\u001b[0m \u001b[1;33m+\u001b[0m \u001b[1;36m1\u001b[0m\u001b[1;33m)\u001b[0m\u001b[1;33m,\u001b[0m \u001b[0maccuracies\u001b[0m\u001b[1;33m,\u001b[0m \u001b[0mlabel\u001b[0m\u001b[1;33m=\u001b[0m\u001b[1;34m'accuracy'\u001b[0m\u001b[1;33m,\u001b[0m \u001b[0mc\u001b[0m\u001b[1;33m=\u001b[0m\u001b[1;34m'r'\u001b[0m\u001b[1;33m)\u001b[0m\u001b[1;33m\u001b[0m\u001b[1;33m\u001b[0m\u001b[0m\n",
      "\u001b[1;32mD:\\Programs\\Anaconda\\lib\\site-packages\\matplotlib\\pyplot.py\u001b[0m in \u001b[0;36mplot\u001b[1;34m(scalex, scaley, data, *args, **kwargs)\u001b[0m\n\u001b[0;32m   3017\u001b[0m \u001b[1;33m@\u001b[0m\u001b[0m_copy_docstring_and_deprecators\u001b[0m\u001b[1;33m(\u001b[0m\u001b[0mAxes\u001b[0m\u001b[1;33m.\u001b[0m\u001b[0mplot\u001b[0m\u001b[1;33m)\u001b[0m\u001b[1;33m\u001b[0m\u001b[1;33m\u001b[0m\u001b[0m\n\u001b[0;32m   3018\u001b[0m \u001b[1;32mdef\u001b[0m \u001b[0mplot\u001b[0m\u001b[1;33m(\u001b[0m\u001b[1;33m*\u001b[0m\u001b[0margs\u001b[0m\u001b[1;33m,\u001b[0m \u001b[0mscalex\u001b[0m\u001b[1;33m=\u001b[0m\u001b[1;32mTrue\u001b[0m\u001b[1;33m,\u001b[0m \u001b[0mscaley\u001b[0m\u001b[1;33m=\u001b[0m\u001b[1;32mTrue\u001b[0m\u001b[1;33m,\u001b[0m \u001b[0mdata\u001b[0m\u001b[1;33m=\u001b[0m\u001b[1;32mNone\u001b[0m\u001b[1;33m,\u001b[0m \u001b[1;33m**\u001b[0m\u001b[0mkwargs\u001b[0m\u001b[1;33m)\u001b[0m\u001b[1;33m:\u001b[0m\u001b[1;33m\u001b[0m\u001b[1;33m\u001b[0m\u001b[0m\n\u001b[1;32m-> 3019\u001b[1;33m     return gca().plot(\n\u001b[0m\u001b[0;32m   3020\u001b[0m         \u001b[1;33m*\u001b[0m\u001b[0margs\u001b[0m\u001b[1;33m,\u001b[0m \u001b[0mscalex\u001b[0m\u001b[1;33m=\u001b[0m\u001b[0mscalex\u001b[0m\u001b[1;33m,\u001b[0m \u001b[0mscaley\u001b[0m\u001b[1;33m=\u001b[0m\u001b[0mscaley\u001b[0m\u001b[1;33m,\u001b[0m\u001b[1;33m\u001b[0m\u001b[1;33m\u001b[0m\u001b[0m\n\u001b[0;32m   3021\u001b[0m         **({\"data\": data} if data is not None else {}), **kwargs)\n",
      "\u001b[1;32mD:\\Programs\\Anaconda\\lib\\site-packages\\matplotlib\\axes\\_axes.py\u001b[0m in \u001b[0;36mplot\u001b[1;34m(self, scalex, scaley, data, *args, **kwargs)\u001b[0m\n\u001b[0;32m   1603\u001b[0m         \"\"\"\n\u001b[0;32m   1604\u001b[0m         \u001b[0mkwargs\u001b[0m \u001b[1;33m=\u001b[0m \u001b[0mcbook\u001b[0m\u001b[1;33m.\u001b[0m\u001b[0mnormalize_kwargs\u001b[0m\u001b[1;33m(\u001b[0m\u001b[0mkwargs\u001b[0m\u001b[1;33m,\u001b[0m \u001b[0mmlines\u001b[0m\u001b[1;33m.\u001b[0m\u001b[0mLine2D\u001b[0m\u001b[1;33m)\u001b[0m\u001b[1;33m\u001b[0m\u001b[1;33m\u001b[0m\u001b[0m\n\u001b[1;32m-> 1605\u001b[1;33m         \u001b[0mlines\u001b[0m \u001b[1;33m=\u001b[0m \u001b[1;33m[\u001b[0m\u001b[1;33m*\u001b[0m\u001b[0mself\u001b[0m\u001b[1;33m.\u001b[0m\u001b[0m_get_lines\u001b[0m\u001b[1;33m(\u001b[0m\u001b[1;33m*\u001b[0m\u001b[0margs\u001b[0m\u001b[1;33m,\u001b[0m \u001b[0mdata\u001b[0m\u001b[1;33m=\u001b[0m\u001b[0mdata\u001b[0m\u001b[1;33m,\u001b[0m \u001b[1;33m**\u001b[0m\u001b[0mkwargs\u001b[0m\u001b[1;33m)\u001b[0m\u001b[1;33m]\u001b[0m\u001b[1;33m\u001b[0m\u001b[1;33m\u001b[0m\u001b[0m\n\u001b[0m\u001b[0;32m   1606\u001b[0m         \u001b[1;32mfor\u001b[0m \u001b[0mline\u001b[0m \u001b[1;32min\u001b[0m \u001b[0mlines\u001b[0m\u001b[1;33m:\u001b[0m\u001b[1;33m\u001b[0m\u001b[1;33m\u001b[0m\u001b[0m\n\u001b[0;32m   1607\u001b[0m             \u001b[0mself\u001b[0m\u001b[1;33m.\u001b[0m\u001b[0madd_line\u001b[0m\u001b[1;33m(\u001b[0m\u001b[0mline\u001b[0m\u001b[1;33m)\u001b[0m\u001b[1;33m\u001b[0m\u001b[1;33m\u001b[0m\u001b[0m\n",
      "\u001b[1;32mD:\\Programs\\Anaconda\\lib\\site-packages\\matplotlib\\axes\\_base.py\u001b[0m in \u001b[0;36m__call__\u001b[1;34m(self, data, *args, **kwargs)\u001b[0m\n\u001b[0;32m    313\u001b[0m                 \u001b[0mthis\u001b[0m \u001b[1;33m+=\u001b[0m \u001b[0margs\u001b[0m\u001b[1;33m[\u001b[0m\u001b[1;36m0\u001b[0m\u001b[1;33m]\u001b[0m\u001b[1;33m,\u001b[0m\u001b[1;33m\u001b[0m\u001b[1;33m\u001b[0m\u001b[0m\n\u001b[0;32m    314\u001b[0m                 \u001b[0margs\u001b[0m \u001b[1;33m=\u001b[0m \u001b[0margs\u001b[0m\u001b[1;33m[\u001b[0m\u001b[1;36m1\u001b[0m\u001b[1;33m:\u001b[0m\u001b[1;33m]\u001b[0m\u001b[1;33m\u001b[0m\u001b[1;33m\u001b[0m\u001b[0m\n\u001b[1;32m--> 315\u001b[1;33m             \u001b[1;32myield\u001b[0m \u001b[1;32mfrom\u001b[0m \u001b[0mself\u001b[0m\u001b[1;33m.\u001b[0m\u001b[0m_plot_args\u001b[0m\u001b[1;33m(\u001b[0m\u001b[0mthis\u001b[0m\u001b[1;33m,\u001b[0m \u001b[0mkwargs\u001b[0m\u001b[1;33m)\u001b[0m\u001b[1;33m\u001b[0m\u001b[1;33m\u001b[0m\u001b[0m\n\u001b[0m\u001b[0;32m    316\u001b[0m \u001b[1;33m\u001b[0m\u001b[0m\n\u001b[0;32m    317\u001b[0m     \u001b[1;32mdef\u001b[0m \u001b[0mget_next_color\u001b[0m\u001b[1;33m(\u001b[0m\u001b[0mself\u001b[0m\u001b[1;33m)\u001b[0m\u001b[1;33m:\u001b[0m\u001b[1;33m\u001b[0m\u001b[1;33m\u001b[0m\u001b[0m\n",
      "\u001b[1;32mD:\\Programs\\Anaconda\\lib\\site-packages\\matplotlib\\axes\\_base.py\u001b[0m in \u001b[0;36m_plot_args\u001b[1;34m(self, tup, kwargs, return_kwargs)\u001b[0m\n\u001b[0;32m    499\u001b[0m \u001b[1;33m\u001b[0m\u001b[0m\n\u001b[0;32m    500\u001b[0m         \u001b[1;32mif\u001b[0m \u001b[0mx\u001b[0m\u001b[1;33m.\u001b[0m\u001b[0mshape\u001b[0m\u001b[1;33m[\u001b[0m\u001b[1;36m0\u001b[0m\u001b[1;33m]\u001b[0m \u001b[1;33m!=\u001b[0m \u001b[0my\u001b[0m\u001b[1;33m.\u001b[0m\u001b[0mshape\u001b[0m\u001b[1;33m[\u001b[0m\u001b[1;36m0\u001b[0m\u001b[1;33m]\u001b[0m\u001b[1;33m:\u001b[0m\u001b[1;33m\u001b[0m\u001b[1;33m\u001b[0m\u001b[0m\n\u001b[1;32m--> 501\u001b[1;33m             raise ValueError(f\"x and y must have same first dimension, but \"\n\u001b[0m\u001b[0;32m    502\u001b[0m                              f\"have shapes {x.shape} and {y.shape}\")\n\u001b[0;32m    503\u001b[0m         \u001b[1;32mif\u001b[0m \u001b[0mx\u001b[0m\u001b[1;33m.\u001b[0m\u001b[0mndim\u001b[0m \u001b[1;33m>\u001b[0m \u001b[1;36m2\u001b[0m \u001b[1;32mor\u001b[0m \u001b[0my\u001b[0m\u001b[1;33m.\u001b[0m\u001b[0mndim\u001b[0m \u001b[1;33m>\u001b[0m \u001b[1;36m2\u001b[0m\u001b[1;33m:\u001b[0m\u001b[1;33m\u001b[0m\u001b[1;33m\u001b[0m\u001b[0m\n",
      "\u001b[1;31mValueError\u001b[0m: x and y must have same first dimension, but have shapes (10,) and (0,)"
     ]
    },
    {
     "data": {
      "image/png": "[encoded data removed]",
      "text/plain": [
       "<Figure size 1008x720 with 1 Axes>"
      ]
     },
     "metadata": {
      "needs_background": "light"
     },
     "output_type": "display_data"
    }
   ],
   "source": [
    "plt.figure(figsize=(14, 10))\n",
    "plt.plot(range(epochs + 1), losses, label='loss')\n",
    "\n",
    "plt.figure(figsize=(14, 10))\n",
    "plt.plot(range(epochs + 1), accuracies, label='accuracy', c='r')"
   ]
  },
  {
   "cell_type": "code",
   "execution_count": null,
   "id": "add10015",
   "metadata": {},
   "outputs": [],
   "source": [
    "model.eval()\n",
    "\n",
    "losses = []\n",
    "accuracies = []\n",
    "\n",
    "for xb, yb in test_loader:\n",
    "    with torch.no_grad():\n",
    "        outp = model(xb)\n",
    "        correct_answers = (outp.argmax(-1) == yb).sum()\n",
    "        accuracy = correct_answers / xb.shape[0]\n",
    "        accuracies.append(accuracy)\n",
    "torch.Tensor(accuracies).mean()"
   ]
  },
  {
   "cell_type": "code",
   "execution_count": null,
   "id": "3e4505af",
   "metadata": {},
   "outputs": [],
   "source": [
    "plt.figure(figsize=(14, 10))\n",
    "plt.plot(np.arange(len(test_loader)), accuracies, label='accuracy', c='r')"
   ]
  },
  {
   "cell_type": "code",
   "execution_count": null,
   "id": "0cd5b714",
   "metadata": {},
   "outputs": [],
   "source": []
  }
 ],
 "metadata": {
  "kernelspec": {
   "display_name": "Python 3 (ipykernel)",
   "language": "python",
   "name": "python3"
  },
  "language_info": {
   "codemirror_mode": {
    "name": "ipython",
    "version": 3
   },
   "file_extension": ".py",
   "mimetype": "text/x-python",
   "name": "python",
   "nbconvert_exporter": "python",
   "pygments_lexer": "ipython3",
   "version": "3.8.11"
  }
 },
 "nbformat": 4,
 "nbformat_minor": 5
}
